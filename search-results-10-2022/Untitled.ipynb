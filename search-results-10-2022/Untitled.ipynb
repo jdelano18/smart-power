{
 "cells": [
  {
   "cell_type": "code",
   "execution_count": 1,
   "id": "d4777421-faa6-4134-899a-8db1ded37bdd",
   "metadata": {},
   "outputs": [],
   "source": [
    "def foo(*args):\n",
    "    print('foo(',*args,')')\n",
    "    \n",
    "    def inside_foo(x):\n",
    "        print(\"inside_foo\")\n",
    "        \n",
    "        def inside_inside_foo(*args):\n",
    "            print('inside_inside_foo(',*args,')')\n",
    "            return x(*args)\n",
    "        \n",
    "        return inside_inside_foo\n",
    "    return inside_foo"
   ]
  },
  {
   "cell_type": "code",
   "execution_count": 2,
   "id": "96668d31-8631-4903-a5dc-3f4baefd6dce",
   "metadata": {},
   "outputs": [
    {
     "name": "stdout",
     "output_type": "stream",
     "text": [
      "foo( 1 2 3 )\n",
      "inside_foo\n"
     ]
    }
   ],
   "source": [
    "@foo(1,2,3)\n",
    "def bar(*args):\n",
    "    return sum(args)"
   ]
  },
  {
   "cell_type": "code",
   "execution_count": 3,
   "id": "a12a1831-7fad-44cc-acdb-c4d529d5df09",
   "metadata": {},
   "outputs": [
    {
     "name": "stdout",
     "output_type": "stream",
     "text": [
      "outside\n"
     ]
    }
   ],
   "source": [
    "print('outside')"
   ]
  },
  {
   "cell_type": "code",
   "execution_count": 4,
   "id": "68980ba2-41e0-400c-8e47-665d7b0447f3",
   "metadata": {},
   "outputs": [
    {
     "name": "stdout",
     "output_type": "stream",
     "text": [
      "inside_inside_foo( 4 5 6 )\n",
      "15\n"
     ]
    }
   ],
   "source": [
    "print(bar(4,5,6))"
   ]
  },
  {
   "cell_type": "code",
   "execution_count": null,
   "id": "f74ff388-3f66-4a1f-adef-3e775029535d",
   "metadata": {},
   "outputs": [],
   "source": []
  }
 ],
 "metadata": {
  "kernelspec": {
   "display_name": "Python 3 (ipykernel)",
   "language": "python",
   "name": "python3"
  },
  "language_info": {
   "codemirror_mode": {
    "name": "ipython",
    "version": 3
   },
   "file_extension": ".py",
   "mimetype": "text/x-python",
   "name": "python",
   "nbconvert_exporter": "python",
   "pygments_lexer": "ipython3",
   "version": "3.9.13"
  }
 },
 "nbformat": 4,
 "nbformat_minor": 5
}
