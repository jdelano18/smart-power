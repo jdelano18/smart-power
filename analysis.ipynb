{
 "cells": [
  {
   "cell_type": "code",
   "execution_count": 138,
   "id": "7cb0e798-8d14-403c-8d0a-3d2609fd2e8c",
   "metadata": {},
   "outputs": [],
   "source": [
    "import pandas as pd\n",
    "import string"
   ]
  },
  {
   "cell_type": "code",
   "execution_count": 3,
   "id": "ae234155-58e5-4df0-b1df-beb90296a402",
   "metadata": {},
   "outputs": [],
   "source": [
    "lennar = pd.read_json('./lennar-data.json')"
   ]
  },
  {
   "cell_type": "code",
   "execution_count": 4,
   "id": "7440de0d-acf3-451c-ba0b-e0f0dd168f72",
   "metadata": {},
   "outputs": [
    {
     "data": {
      "text/plain": [
       "(11365, 185)"
      ]
     },
     "execution_count": 4,
     "metadata": {},
     "output_type": "execute_result"
    }
   ],
   "source": [
    "lennar.shape"
   ]
  },
  {
   "cell_type": "code",
   "execution_count": 9,
   "id": "13b5fa74-1a21-40a3-8a73-b2e2d9bdd89e",
   "metadata": {},
   "outputs": [
    {
     "data": {
      "text/html": [
       "<div>\n",
       "<style scoped>\n",
       "    .dataframe tbody tr th:only-of-type {\n",
       "        vertical-align: middle;\n",
       "    }\n",
       "\n",
       "    .dataframe tbody tr th {\n",
       "        vertical-align: top;\n",
       "    }\n",
       "\n",
       "    .dataframe thead th {\n",
       "        text-align: right;\n",
       "    }\n",
       "</style>\n",
       "<table border=\"1\" class=\"dataframe\">\n",
       "  <thead>\n",
       "    <tr style=\"text-align: right;\">\n",
       "      <th></th>\n",
       "      <th>Availability</th>\n",
       "      <th>Price</th>\n",
       "      <th>Beds</th>\n",
       "      <th>Baths</th>\n",
       "      <th>Sqft</th>\n",
       "      <th>Address</th>\n",
       "      <th>Community</th>\n",
       "      <th>URL</th>\n",
       "      <th>Data_Dump</th>\n",
       "      <th>feature_0</th>\n",
       "      <th>...</th>\n",
       "      <th>feature_166</th>\n",
       "      <th>feature_167</th>\n",
       "      <th>feature_168</th>\n",
       "      <th>feature_169</th>\n",
       "      <th>feature_170</th>\n",
       "      <th>feature_171</th>\n",
       "      <th>feature_172</th>\n",
       "      <th>feature_173</th>\n",
       "      <th>feature_174</th>\n",
       "      <th>feature_175</th>\n",
       "    </tr>\n",
       "  </thead>\n",
       "  <tbody>\n",
       "    <tr>\n",
       "      <th>0</th>\n",
       "      <td>Move-in ready</td>\n",
       "      <td>$374,990</td>\n",
       "      <td>4.0</td>\n",
       "      <td>3.5</td>\n",
       "      <td>2179</td>\n",
       "      <td>6417 Mentor Place, Raleigh, NC</td>\n",
       "      <td>Bradley in 5401 North</td>\n",
       "      <td>https://www.lennar.com/new-homes/north-carolin...</td>\n",
       "      <td>{'Kitchen': ['36\" cabinetry with crown molding...</td>\n",
       "      <td>36\" cabinetry with crown molding and nickel ha...</td>\n",
       "      <td>...</td>\n",
       "      <td>None</td>\n",
       "      <td>None</td>\n",
       "      <td>None</td>\n",
       "      <td>None</td>\n",
       "      <td>None</td>\n",
       "      <td>None</td>\n",
       "      <td>None</td>\n",
       "      <td>None</td>\n",
       "      <td>None</td>\n",
       "      <td>None</td>\n",
       "    </tr>\n",
       "  </tbody>\n",
       "</table>\n",
       "<p>1 rows × 185 columns</p>\n",
       "</div>"
      ],
      "text/plain": [
       "    Availability     Price  Beds  Baths  Sqft                         Address  \\\n",
       "0  Move-in ready  $374,990   4.0    3.5  2179  6417 Mentor Place, Raleigh, NC   \n",
       "\n",
       "               Community                                                URL  \\\n",
       "0  Bradley in 5401 North  https://www.lennar.com/new-homes/north-carolin...   \n",
       "\n",
       "                                           Data_Dump  \\\n",
       "0  {'Kitchen': ['36\" cabinetry with crown molding...   \n",
       "\n",
       "                                           feature_0  ... feature_166  \\\n",
       "0  36\" cabinetry with crown molding and nickel ha...  ...        None   \n",
       "\n",
       "  feature_167 feature_168 feature_169 feature_170 feature_171 feature_172  \\\n",
       "0        None        None        None        None        None        None   \n",
       "\n",
       "  feature_173 feature_174 feature_175  \n",
       "0        None        None        None  \n",
       "\n",
       "[1 rows x 185 columns]"
      ]
     },
     "execution_count": 9,
     "metadata": {},
     "output_type": "execute_result"
    }
   ],
   "source": [
    "lennar.head(1)"
   ]
  },
  {
   "cell_type": "code",
   "execution_count": 90,
   "id": "18d42309-696e-4dcb-9e6a-93e5a329b74c",
   "metadata": {},
   "outputs": [],
   "source": [
    "clean = lennar.drop_duplicates(subset=['Availability', 'Price', 'Beds', 'Baths', 'Sqft', 'Address', 'Community', 'URL'],\n",
    "                    keep='first',\n",
    "                    ignore_index=True)"
   ]
  },
  {
   "cell_type": "code",
   "execution_count": 91,
   "id": "0c8708e6-f08c-49d6-b13e-d461380ba863",
   "metadata": {},
   "outputs": [
    {
     "data": {
      "text/plain": [
       "(9716, 185)"
      ]
     },
     "execution_count": 91,
     "metadata": {},
     "output_type": "execute_result"
    }
   ],
   "source": [
    "clean.shape"
   ]
  },
  {
   "cell_type": "markdown",
   "id": "ed10d68c-cd8e-409c-a887-bb96eaa2f317",
   "metadata": {},
   "source": [
    "After removing duplicate homes (from the fact that some cities that are close together list the same homes under different urls -- ex Charlotte is under SC and NC for some reason), we see there are **9716 homes in the dataset**"
   ]
  },
  {
   "cell_type": "code",
   "execution_count": 183,
   "id": "b7924b20-df52-4058-b3ad-a324622ddb75",
   "metadata": {},
   "outputs": [],
   "source": [
    "def search_homes(keyword):\n",
    "    \"\"\"\n",
    "    Method that searches through the Data_dump dict structure\n",
    "    \n",
    "    Returns:\n",
    "        vals: dict where keys include keyword and values are counts\n",
    "        home_count: # of unique homes where the keyword is present\n",
    "    \"\"\"\n",
    "    keyword = keyword.lower()\n",
    "    vals = dict()\n",
    "    home_count = 0\n",
    "    index = 0\n",
    "    \n",
    "    for d in clean.Data_Dump:\n",
    "        index += 1\n",
    "        lines = [item.lower() for sublist in d.values() for item in sublist]\n",
    "        cleaned_lines = [l.strip().translate(str.maketrans('', '', string.punctuation)).replace(\n",
    "            '®', '').replace('\\n', '').replace('\\r', '') for l in lines]\n",
    "        cleaned_words = [i for l in cleaned_lines for i in l.split()]\n",
    "        \n",
    "        if keyword in cleaned_words:\n",
    "            home_count += 1\n",
    "            \n",
    "            for cl in cleaned_lines:\n",
    "                if keyword in cl:\n",
    "                    vals[cl] = vals.get(cl, 0) + 1\n",
    "\n",
    "    \n",
    "    return home_count, vals"
   ]
  },
  {
   "cell_type": "code",
   "execution_count": null,
   "id": "bbb94253-1abf-4027-86a1-85525f067e30",
   "metadata": {},
   "outputs": [],
   "source": []
  },
  {
   "cell_type": "markdown",
   "id": "2f3907fe-abe6-44f2-ab1b-854abab68091",
   "metadata": {},
   "source": [
    "Okay so here's the function. Try 'usb', 'wifi', 'motion' etc"
   ]
  },
  {
   "cell_type": "code",
   "execution_count": 210,
   "id": "677d538c-57b2-4566-8a92-748b426870df",
   "metadata": {},
   "outputs": [],
   "source": [
    "n, d = search_homes('motion')"
   ]
  },
  {
   "cell_type": "code",
   "execution_count": 211,
   "id": "da7956bf-98b3-4ccf-be44-6feef896678a",
   "metadata": {},
   "outputs": [
    {
     "data": {
      "text/plain": [
       "5981"
      ]
     },
     "execution_count": 211,
     "metadata": {},
     "output_type": "execute_result"
    }
   ],
   "source": [
    "n"
   ]
  },
  {
   "cell_type": "code",
   "execution_count": 212,
   "id": "7c1a744f-e285-4cd5-82ff-c0806b1e7ca8",
   "metadata": {},
   "outputs": [
    {
     "data": {
      "text/plain": [
       "{'ring alarm security kit – ring alarm motion detector¹': 2695,\n",
       " 'ring alarm security kit  ring alarm motion detector¹': 72,\n",
       " 'security system with motion sensors at firstfloor windows': 203,\n",
       " 'ring alarm security kit  ring alarm motion detector': 432,\n",
       " 'ring alarm security kit – ring alarm motion detector': 1196,\n",
       " 'ring alarm security kit²  ring alarm motion detector': 33,\n",
       " 'ring alarm security kit ndash base station keypad motion detector smoke and co listener and window and door contact sensor': 27,\n",
       " 'ring alarm security kit – base station keypad motion detector smoke and co listener and window and door contact sensor': 15,\n",
       " 'ring alarm security kit – base station keypad motion detector smoke and co listener window and door contact sensor': 19,\n",
       " 'ring alarm security kit and base station keypad motion detector smoke and co listener and window and door contact sensor': 6,\n",
       " 'ring alarm security kit ndash base station keypad motion detector smoke and co listener window and door contact sensor': 7,\n",
       " 'ring alarm security kit with base station keypad motion detector smoke and co listener and window and door contact sensor': 6,\n",
       " 'ring motion sensor': 81,\n",
       " 'ring alarm motion detector': 806,\n",
       " 'prewired for motion detector and keypad': 67,\n",
       " 'ring alarm security kit  alarm motion detector': 62,\n",
       " 'motion detector 1': 130,\n",
       " 'motion detector¹': 229,\n",
       " 'ring alarm security kit ndash ring alarm motion detector': 17,\n",
       " 'ring alarm security kit — ring alarm motion detector': 16,\n",
       " 'ring alarm security kit  ring motion detector': 7,\n",
       " 'ring alarm security kit including ring alarm base station ring alarm keypad ring alarm motion detector ring alarm smoke and co listener ring alarm window and door contact sensor': 17}"
      ]
     },
     "execution_count": 212,
     "metadata": {},
     "output_type": "execute_result"
    }
   ],
   "source": [
    "d"
   ]
  },
  {
   "cell_type": "code",
   "execution_count": 213,
   "id": "4cd10395-a3d7-48a4-98ad-6a2752028e0d",
   "metadata": {},
   "outputs": [
    {
     "data": {
      "text/plain": [
       "6143"
      ]
     },
     "execution_count": 213,
     "metadata": {},
     "output_type": "execute_result"
    }
   ],
   "source": [
    "sum(d.values())"
   ]
  },
  {
   "cell_type": "code",
   "execution_count": null,
   "id": "b59273c0-8ff3-44ba-a006-0fe1956e45af",
   "metadata": {},
   "outputs": [],
   "source": []
  }
 ],
 "metadata": {
  "kernelspec": {
   "display_name": "Python 3 (ipykernel)",
   "language": "python",
   "name": "python3"
  },
  "language_info": {
   "codemirror_mode": {
    "name": "ipython",
    "version": 3
   },
   "file_extension": ".py",
   "mimetype": "text/x-python",
   "name": "python",
   "nbconvert_exporter": "python",
   "pygments_lexer": "ipython3",
   "version": "3.9.13"
  }
 },
 "nbformat": 4,
 "nbformat_minor": 5
}
