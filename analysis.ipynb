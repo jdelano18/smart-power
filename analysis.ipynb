{
 "cells": [
  {
   "cell_type": "markdown",
   "id": "47e787ff-c134-41db-8d21-1c2a73b520f8",
   "metadata": {},
   "source": [
    "## Final step -- search data for keywords"
   ]
  },
  {
   "cell_type": "code",
   "execution_count": 214,
   "id": "7cb0e798-8d14-403c-8d0a-3d2609fd2e8c",
   "metadata": {},
   "outputs": [],
   "source": [
    "import pandas as pd\n",
    "import string"
   ]
  },
  {
   "cell_type": "code",
   "execution_count": 3,
   "id": "ae234155-58e5-4df0-b1df-beb90296a402",
   "metadata": {},
   "outputs": [],
   "source": [
    "lennar = pd.read_json('./lennar-data.json')"
   ]
  },
  {
   "cell_type": "code",
   "execution_count": 4,
   "id": "7440de0d-acf3-451c-ba0b-e0f0dd168f72",
   "metadata": {},
   "outputs": [
    {
     "data": {
      "text/plain": [
       "(11365, 185)"
      ]
     },
     "execution_count": 4,
     "metadata": {},
     "output_type": "execute_result"
    }
   ],
   "source": [
    "lennar.shape"
   ]
  },
  {
   "cell_type": "code",
   "execution_count": 9,
   "id": "13b5fa74-1a21-40a3-8a73-b2e2d9bdd89e",
   "metadata": {},
   "outputs": [
    {
     "data": {
      "text/html": [
       "<div>\n",
       "<style scoped>\n",
       "    .dataframe tbody tr th:only-of-type {\n",
       "        vertical-align: middle;\n",
       "    }\n",
       "\n",
       "    .dataframe tbody tr th {\n",
       "        vertical-align: top;\n",
       "    }\n",
       "\n",
       "    .dataframe thead th {\n",
       "        text-align: right;\n",
       "    }\n",
       "</style>\n",
       "<table border=\"1\" class=\"dataframe\">\n",
       "  <thead>\n",
       "    <tr style=\"text-align: right;\">\n",
       "      <th></th>\n",
       "      <th>Availability</th>\n",
       "      <th>Price</th>\n",
       "      <th>Beds</th>\n",
       "      <th>Baths</th>\n",
       "      <th>Sqft</th>\n",
       "      <th>Address</th>\n",
       "      <th>Community</th>\n",
       "      <th>URL</th>\n",
       "      <th>Data_Dump</th>\n",
       "      <th>feature_0</th>\n",
       "      <th>...</th>\n",
       "      <th>feature_166</th>\n",
       "      <th>feature_167</th>\n",
       "      <th>feature_168</th>\n",
       "      <th>feature_169</th>\n",
       "      <th>feature_170</th>\n",
       "      <th>feature_171</th>\n",
       "      <th>feature_172</th>\n",
       "      <th>feature_173</th>\n",
       "      <th>feature_174</th>\n",
       "      <th>feature_175</th>\n",
       "    </tr>\n",
       "  </thead>\n",
       "  <tbody>\n",
       "    <tr>\n",
       "      <th>0</th>\n",
       "      <td>Move-in ready</td>\n",
       "      <td>$374,990</td>\n",
       "      <td>4.0</td>\n",
       "      <td>3.5</td>\n",
       "      <td>2179</td>\n",
       "      <td>6417 Mentor Place, Raleigh, NC</td>\n",
       "      <td>Bradley in 5401 North</td>\n",
       "      <td>https://www.lennar.com/new-homes/north-carolin...</td>\n",
       "      <td>{'Kitchen': ['36\" cabinetry with crown molding...</td>\n",
       "      <td>36\" cabinetry with crown molding and nickel ha...</td>\n",
       "      <td>...</td>\n",
       "      <td>None</td>\n",
       "      <td>None</td>\n",
       "      <td>None</td>\n",
       "      <td>None</td>\n",
       "      <td>None</td>\n",
       "      <td>None</td>\n",
       "      <td>None</td>\n",
       "      <td>None</td>\n",
       "      <td>None</td>\n",
       "      <td>None</td>\n",
       "    </tr>\n",
       "  </tbody>\n",
       "</table>\n",
       "<p>1 rows × 185 columns</p>\n",
       "</div>"
      ],
      "text/plain": [
       "    Availability     Price  Beds  Baths  Sqft                         Address  \\\n",
       "0  Move-in ready  $374,990   4.0    3.5  2179  6417 Mentor Place, Raleigh, NC   \n",
       "\n",
       "               Community                                                URL  \\\n",
       "0  Bradley in 5401 North  https://www.lennar.com/new-homes/north-carolin...   \n",
       "\n",
       "                                           Data_Dump  \\\n",
       "0  {'Kitchen': ['36\" cabinetry with crown molding...   \n",
       "\n",
       "                                           feature_0  ... feature_166  \\\n",
       "0  36\" cabinetry with crown molding and nickel ha...  ...        None   \n",
       "\n",
       "  feature_167 feature_168 feature_169 feature_170 feature_171 feature_172  \\\n",
       "0        None        None        None        None        None        None   \n",
       "\n",
       "  feature_173 feature_174 feature_175  \n",
       "0        None        None        None  \n",
       "\n",
       "[1 rows x 185 columns]"
      ]
     },
     "execution_count": 9,
     "metadata": {},
     "output_type": "execute_result"
    }
   ],
   "source": [
    "lennar.head(1)"
   ]
  },
  {
   "cell_type": "code",
   "execution_count": 90,
   "id": "18d42309-696e-4dcb-9e6a-93e5a329b74c",
   "metadata": {},
   "outputs": [],
   "source": [
    "clean = lennar.drop_duplicates(subset=['Availability', 'Price', 'Beds', 'Baths', 'Sqft', 'Address', 'Community', 'URL'],\n",
    "                    keep='first',\n",
    "                    ignore_index=True)"
   ]
  },
  {
   "cell_type": "code",
   "execution_count": 91,
   "id": "0c8708e6-f08c-49d6-b13e-d461380ba863",
   "metadata": {},
   "outputs": [
    {
     "data": {
      "text/plain": [
       "(9716, 185)"
      ]
     },
     "execution_count": 91,
     "metadata": {},
     "output_type": "execute_result"
    }
   ],
   "source": [
    "clean.shape"
   ]
  },
  {
   "cell_type": "markdown",
   "id": "ed10d68c-cd8e-409c-a887-bb96eaa2f317",
   "metadata": {},
   "source": [
    "After removing duplicate homes (from the fact that some cities that are close together list the same homes under different urls -- ex Charlotte is under SC and NC for some reason), we see there are **9716 homes in the dataset**"
   ]
  },
  {
   "cell_type": "code",
   "execution_count": 226,
   "id": "b7924b20-df52-4058-b3ad-a324622ddb75",
   "metadata": {},
   "outputs": [],
   "source": [
    "def search_homes(keyword):\n",
    "    \"\"\"\n",
    "    Method that searches through the Data_dump dict structure\n",
    "    \n",
    "    Returns:\n",
    "        vals: dict where keys include keyword and values are counts\n",
    "        home_count: # of unique homes where the keyword is present\n",
    "    \"\"\"\n",
    "    keyword = keyword.lower()\n",
    "    vals = dict()\n",
    "    home_count = 0\n",
    "    index = 0\n",
    "    \n",
    "    for d in clean.Data_Dump:\n",
    "        index += 1\n",
    "        lines = [item.lower() for sublist in d.values() for item in sublist]\n",
    "        cleaned_lines = [l.strip().translate(str.maketrans('', '', string.punctuation)).replace(\n",
    "            '®', '').replace('\\n', '').replace('\\r', '') for l in lines]\n",
    "        cleaned_words = [i for l in cleaned_lines for i in l.split()]\n",
    "        \n",
    "        if keyword in cleaned_words:\n",
    "            home_count += 1\n",
    "            \n",
    "            for cl in cleaned_lines:\n",
    "                if keyword in cl:\n",
    "                    vals[cl] = vals.get(cl, 0) + 1\n",
    "\n",
    "    df = pd.DataFrame([[home_count, vals, sum(vals.values())]], columns = ['n_homes', 'data', 'sum_data_vals'])\n",
    "    df.to_csv(f'./search-results/{keyword}.csv', index=False)"
   ]
  },
  {
   "cell_type": "code",
   "execution_count": null,
   "id": "bbb94253-1abf-4027-86a1-85525f067e30",
   "metadata": {},
   "outputs": [],
   "source": []
  },
  {
   "cell_type": "markdown",
   "id": "2f3907fe-abe6-44f2-ab1b-854abab68091",
   "metadata": {},
   "source": [
    "Okay so here's the function. Try 'usb', 'wifi', 'motion' etc"
   ]
  },
  {
   "cell_type": "code",
   "execution_count": 235,
   "id": "677d538c-57b2-4566-8a92-748b426870df",
   "metadata": {},
   "outputs": [],
   "source": [
    "search_homes('camera')"
   ]
  },
  {
   "cell_type": "code",
   "execution_count": 237,
   "id": "656dfce9-bf63-4158-b260-f681d943a4ee",
   "metadata": {},
   "outputs": [],
   "source": [
    "keyword = 'camera'\n",
    "vals = dict()\n",
    "home_count = 0\n",
    "index = 0\n",
    "\n",
    "for d in clean.Data_Dump:\n",
    "    index += 1\n",
    "    lines = [item.lower() for sublist in d.values() for item in sublist]\n",
    "    cleaned_lines = [l.strip().translate(str.maketrans('', '', string.punctuation)).replace(\n",
    "        '®', '').replace('\\n', '').replace('\\r', '') for l in lines]\n",
    "    cleaned_words = [i for l in cleaned_lines for i in l.split()]\n",
    "    \n",
    "    if keyword in cleaned_words:\n",
    "        home_count += 1\n",
    "        \n",
    "        for cl in cleaned_lines:\n",
    "            if keyword in cl:\n",
    "                vals[cl] = vals.get(cl, 0) + 1"
   ]
  },
  {
   "cell_type": "code",
   "execution_count": 244,
   "id": "b159a011-1508-46fd-b67c-771207fe4297",
   "metadata": {},
   "outputs": [],
   "source": [
    "i = 0\n",
    "for d in clean.Data_Dump:\n",
    "    i+=1\n",
    "    lines = [item.lower() for sublist in d.values() for item in sublist]\n",
    "    words = [i for l in lines for i in l.split()]\n",
    "    if 'camera' in words:\n",
    "        print(words)"
   ]
  },
  {
   "cell_type": "code",
   "execution_count": 245,
   "id": "8606c348-f54e-4532-922d-4feed3db4e39",
   "metadata": {},
   "outputs": [
    {
     "data": {
      "text/plain": [
       "9716"
      ]
     },
     "execution_count": 245,
     "metadata": {},
     "output_type": "execute_result"
    }
   ],
   "source": [
    "i"
   ]
  },
  {
   "cell_type": "code",
   "execution_count": null,
   "id": "694392ca-5f18-4c85-8590-c2b27f50ee3b",
   "metadata": {},
   "outputs": [],
   "source": []
  }
 ],
 "metadata": {
  "kernelspec": {
   "display_name": "Python 3 (ipykernel)",
   "language": "python",
   "name": "python3"
  },
  "language_info": {
   "codemirror_mode": {
    "name": "ipython",
    "version": 3
   },
   "file_extension": ".py",
   "mimetype": "text/x-python",
   "name": "python",
   "nbconvert_exporter": "python",
   "pygments_lexer": "ipython3",
   "version": "3.9.13"
  }
 },
 "nbformat": 4,
 "nbformat_minor": 5
}
