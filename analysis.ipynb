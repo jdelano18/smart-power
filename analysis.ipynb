{
 "cells": [
  {
   "cell_type": "markdown",
   "id": "47e787ff-c134-41db-8d21-1c2a73b520f8",
   "metadata": {},
   "source": [
    "## Final step -- search data for keywords"
   ]
  },
  {
   "cell_type": "code",
   "execution_count": 27,
   "id": "7cb0e798-8d14-403c-8d0a-3d2609fd2e8c",
   "metadata": {},
   "outputs": [],
   "source": [
    "import pandas as pd\n",
    "import string"
   ]
  },
  {
   "cell_type": "code",
   "execution_count": 38,
   "id": "ae234155-58e5-4df0-b1df-beb90296a402",
   "metadata": {},
   "outputs": [],
   "source": [
    "lennar = pd.read_json('./lennar-data-06-2023.json')"
   ]
  },
  {
   "cell_type": "code",
   "execution_count": 39,
   "id": "7440de0d-acf3-451c-ba0b-e0f0dd168f72",
   "metadata": {},
   "outputs": [
    {
     "data": {
      "text/plain": [
       "(10081, 180)"
      ]
     },
     "execution_count": 39,
     "metadata": {},
     "output_type": "execute_result"
    }
   ],
   "source": [
    "lennar.shape"
   ]
  },
  {
   "cell_type": "code",
   "execution_count": 40,
   "id": "13b5fa74-1a21-40a3-8a73-b2e2d9bdd89e",
   "metadata": {},
   "outputs": [
    {
     "data": {
      "text/html": [
       "<div>\n",
       "<style scoped>\n",
       "    .dataframe tbody tr th:only-of-type {\n",
       "        vertical-align: middle;\n",
       "    }\n",
       "\n",
       "    .dataframe tbody tr th {\n",
       "        vertical-align: top;\n",
       "    }\n",
       "\n",
       "    .dataframe thead th {\n",
       "        text-align: right;\n",
       "    }\n",
       "</style>\n",
       "<table border=\"1\" class=\"dataframe\">\n",
       "  <thead>\n",
       "    <tr style=\"text-align: right;\">\n",
       "      <th></th>\n",
       "      <th>Availability</th>\n",
       "      <th>Price</th>\n",
       "      <th>Beds</th>\n",
       "      <th>Baths</th>\n",
       "      <th>Sqft</th>\n",
       "      <th>Address</th>\n",
       "      <th>Community</th>\n",
       "      <th>URL</th>\n",
       "      <th>Data_Dump</th>\n",
       "      <th>feature_0</th>\n",
       "      <th>...</th>\n",
       "      <th>feature_161</th>\n",
       "      <th>feature_162</th>\n",
       "      <th>feature_163</th>\n",
       "      <th>feature_164</th>\n",
       "      <th>feature_165</th>\n",
       "      <th>feature_166</th>\n",
       "      <th>feature_167</th>\n",
       "      <th>feature_168</th>\n",
       "      <th>feature_169</th>\n",
       "      <th>feature_170</th>\n",
       "    </tr>\n",
       "  </thead>\n",
       "  <tbody>\n",
       "    <tr>\n",
       "      <th>0</th>\n",
       "      <td>Move-in ready</td>\n",
       "      <td>$347,815</td>\n",
       "      <td>3.0</td>\n",
       "      <td>3.5</td>\n",
       "      <td>1744.0</td>\n",
       "      <td>6235 Truxton Lane, Raleigh, NC</td>\n",
       "      <td>Manteo II in 5401 North</td>\n",
       "      <td>https://www.lennar.com/new-homes/north-carolin...</td>\n",
       "      <td>{'Kitchen': ['36\" cabinetry with crown molding...</td>\n",
       "      <td>36\" cabinetry with crown molding and nickel ha...</td>\n",
       "      <td>...</td>\n",
       "      <td>None</td>\n",
       "      <td>None</td>\n",
       "      <td>None</td>\n",
       "      <td>None</td>\n",
       "      <td>None</td>\n",
       "      <td>None</td>\n",
       "      <td>None</td>\n",
       "      <td>None</td>\n",
       "      <td>None</td>\n",
       "      <td>None</td>\n",
       "    </tr>\n",
       "  </tbody>\n",
       "</table>\n",
       "<p>1 rows × 180 columns</p>\n",
       "</div>"
      ],
      "text/plain": [
       "    Availability     Price  Beds  Baths    Sqft  \\\n",
       "0  Move-in ready  $347,815   3.0    3.5  1744.0   \n",
       "\n",
       "                          Address                Community  \\\n",
       "0  6235 Truxton Lane, Raleigh, NC  Manteo II in 5401 North   \n",
       "\n",
       "                                                 URL  \\\n",
       "0  https://www.lennar.com/new-homes/north-carolin...   \n",
       "\n",
       "                                           Data_Dump  \\\n",
       "0  {'Kitchen': ['36\" cabinetry with crown molding...   \n",
       "\n",
       "                                           feature_0  ... feature_161  \\\n",
       "0  36\" cabinetry with crown molding and nickel ha...  ...        None   \n",
       "\n",
       "  feature_162 feature_163 feature_164 feature_165 feature_166 feature_167  \\\n",
       "0        None        None        None        None        None        None   \n",
       "\n",
       "  feature_168 feature_169 feature_170  \n",
       "0        None        None        None  \n",
       "\n",
       "[1 rows x 180 columns]"
      ]
     },
     "execution_count": 40,
     "metadata": {},
     "output_type": "execute_result"
    }
   ],
   "source": [
    "lennar.head(1)"
   ]
  },
  {
   "cell_type": "code",
   "execution_count": 41,
   "id": "18d42309-696e-4dcb-9e6a-93e5a329b74c",
   "metadata": {},
   "outputs": [],
   "source": [
    "clean = lennar.drop_duplicates(subset=['Availability', 'Price', 'Beds', 'Baths', 'Sqft', 'Address', 'Community', 'URL'],\n",
    "                    keep='first',\n",
    "                    ignore_index=True)"
   ]
  },
  {
   "cell_type": "code",
   "execution_count": 42,
   "id": "0c8708e6-f08c-49d6-b13e-d461380ba863",
   "metadata": {},
   "outputs": [
    {
     "data": {
      "text/plain": [
       "(8859, 180)"
      ]
     },
     "execution_count": 42,
     "metadata": {},
     "output_type": "execute_result"
    }
   ],
   "source": [
    "clean.shape"
   ]
  },
  {
   "cell_type": "markdown",
   "id": "ed10d68c-cd8e-409c-a887-bb96eaa2f317",
   "metadata": {},
   "source": [
    "After removing duplicate homes (from the fact that some cities that are close together list the same homes under different urls -- ex Charlotte is under SC and NC for some reason), we see there are **9716 homes in the dataset**"
   ]
  },
  {
   "cell_type": "code",
   "execution_count": 43,
   "id": "d9d365df-bab8-4a4d-af79-542121a417b0",
   "metadata": {},
   "outputs": [],
   "source": [
    "# import re"
   ]
  },
  {
   "cell_type": "code",
   "execution_count": 44,
   "id": "98848fa7-29b6-460e-92fa-c4132a0fd9d3",
   "metadata": {},
   "outputs": [],
   "source": [
    "# for d in clean['Data_Dump'][500:]:\n",
    "#     lines = [item.lower() for sublist in d.values() for item in sublist]\n",
    "    \n",
    "#     # get rid of characters we don't want\n",
    "#     cleaned_lines = [l.strip().replace('\\n', '').replace('\\r', '').replace('®', '').\n",
    "#                      replace('™','').replace('¹', '').replace('”','') for l in lines]\n",
    "    \n",
    "#     # remove punc other than dash\n",
    "#     ultra_cleaned_lines = [cl.translate(str.maketrans('', '', string.punctuation.replace('-',''))) \n",
    "#                            for cl in cleaned_lines]\n",
    "    \n",
    "#     cleaned_words = [i for l in ultra_cleaned_lines for i in l.split()]\n",
    "    \n",
    "#     print(cleaned_words)\n",
    "#     break"
   ]
  },
  {
   "cell_type": "code",
   "execution_count": null,
   "id": "afede12a-3cd9-4d65-89f3-6636a73593dc",
   "metadata": {},
   "outputs": [],
   "source": []
  },
  {
   "cell_type": "code",
   "execution_count": null,
   "id": "b19c0f83-0329-45c4-a5a3-14582da179d5",
   "metadata": {},
   "outputs": [],
   "source": []
  },
  {
   "cell_type": "code",
   "execution_count": 45,
   "id": "b7924b20-df52-4058-b3ad-a324622ddb75",
   "metadata": {},
   "outputs": [],
   "source": [
    "def search_homes(keyword):\n",
    "    \"\"\"\n",
    "    Method that searches through the Data_dump dict structure\n",
    "    \n",
    "    Returns:\n",
    "        vals: dict where keys include keyword and values are counts\n",
    "        home_count: # of unique homes where the keyword is present\n",
    "    \"\"\"\n",
    "    keyword = keyword.lower()\n",
    "    vals = dict()\n",
    "    home_count = 0\n",
    "    index = 0\n",
    "    \n",
    "    for d in clean.Data_Dump:\n",
    "        index += 1\n",
    "        lines = [item.lower() for sublist in d.values() for item in sublist]\n",
    "    \n",
    "        # get rid of characters we don't want\n",
    "        cleaned_lines = [l.strip().replace('\\n', '').replace('\\r', '').replace('®', '').\n",
    "                         replace('™','').replace('¹', '').replace('”','') for l in lines]\n",
    "\n",
    "        # remove punc other than dash\n",
    "        ultra_cleaned_lines = [cl.translate(str.maketrans('', '', string.punctuation.replace('-',''))) \n",
    "                               for cl in cleaned_lines]\n",
    "\n",
    "        cleaned_words = [i for l in ultra_cleaned_lines for i in l.split()]\n",
    "        \n",
    "        if keyword in cleaned_words:\n",
    "            home_count += 1\n",
    "            \n",
    "            for ucl in ultra_cleaned_lines:\n",
    "                if keyword in ucl:\n",
    "                    vals[ucl] = vals.get(ucl, 0) + 1\n",
    "    \n",
    "    df = pd.DataFrame([[home_count, sorted(vals.items(), key=lambda x: x[1], reverse=True), \n",
    "                        sum(vals.values())]], \n",
    "                      columns = ['n_homes', 'data', 'sum_data_vals'])\n",
    "    df.to_csv(f'./search-results-06-2023/{keyword}.csv', index=False)\n",
    "    return df"
   ]
  },
  {
   "cell_type": "code",
   "execution_count": null,
   "id": "bbb94253-1abf-4027-86a1-85525f067e30",
   "metadata": {},
   "outputs": [],
   "source": []
  },
  {
   "cell_type": "markdown",
   "id": "2f3907fe-abe6-44f2-ab1b-854abab68091",
   "metadata": {},
   "source": [
    "Okay so here's the function. Try 'usb', 'wifi', 'motion' etc"
   ]
  },
  {
   "cell_type": "code",
   "execution_count": 60,
   "id": "677d538c-57b2-4566-8a92-748b426870df",
   "metadata": {},
   "outputs": [],
   "source": [
    "df = search_homes('wifi')"
   ]
  },
  {
   "cell_type": "code",
   "execution_count": 61,
   "id": "289acf8e-3227-4b6f-b0d2-275d1ddc9a9e",
   "metadata": {},
   "outputs": [
    {
     "data": {
      "text/plain": [
       "[('wifi heat mapping engineering', 929),\n",
       " ('schlage encode smart wifi deadbolt', 649),\n",
       " ('span stylecolor 242424 background-color ffffffschlage encodetrade smart wifi deadboltspan',\n",
       "  245),\n",
       " ('schlage encode   smart wifi deadbolt', 168),\n",
       " ('schlage smart wifi deadbolt', 108),\n",
       " ('span stylebackground-color ffffff color 242424schlage smart wifi deadboltspan',\n",
       "  72),\n",
       " ('eero pro 6 - mesh wifi system', 53),\n",
       " ('wifi heat mapping engineering no wifi dead spots', 34),\n",
       " ('span stylebackground-color ffffff color 242424schlagetrade smart wifi deadboltspan',\n",
       "  28),\n",
       " ('insulated wifi enabled garage doors with 1 belt drive openerand 2 remotes',\n",
       "  24),\n",
       " ('smart wifi deadbolt', 20),\n",
       " ('schlage encodetrade smart wifi deadbolt', 17),\n",
       " ('an eero pro 6 - mesh wifi system helps keep residents connected', 12),\n",
       " ('honeywell lyric round wifi thermostat', 12),\n",
       " ('ge monogramreg interior dishwasher with hidden controls led lighting and wifi connect',\n",
       "  12),\n",
       " ('honeywell home t6 pro wifi – smart thermostat', 9),\n",
       " ('eero pro 6 – mesh wifi system', 8),\n",
       " ('smart wifi thermostat', 8),\n",
       " ('spanschlage encode smart wifi deadbolt lockspan', 7),\n",
       " ('ge café energy star-certified dishwasher with top controls and wifi connect capability',\n",
       "  6),\n",
       " ('ge monogram built-in side-by-side refrigerator with dispenserled lighting and wifi connect capability',\n",
       "  6),\n",
       " ('ge energy star dishwasher with hidden controls and wifi connect capability',\n",
       "  6),\n",
       " ('ge monogram stainless steel built-in side-by-side refrigerator and wifi connect capability',\n",
       "  6),\n",
       " ('eero pro 6 - mesh wifi system1', 6),\n",
       " ('schlage encode smart wifi deadbolt in matte black', 6),\n",
       " ('ge stainless steel slide in 5-burner gas range with griddle and wifi', 4),\n",
       " ('ge energy star white side-by-side load washer and dryerwith built-in wifi and ultra-fresh vent system',\n",
       "  3)]"
      ]
     },
     "execution_count": 61,
     "metadata": {},
     "output_type": "execute_result"
    }
   ],
   "source": [
    "df['data'][0]"
   ]
  },
  {
   "cell_type": "code",
   "execution_count": 60,
   "id": "656dfce9-bf63-4158-b260-f681d943a4ee",
   "metadata": {},
   "outputs": [],
   "source": [
    "# keyword = 'camera'\n",
    "# vals = dict()\n",
    "# home_count = 0\n",
    "# index = 0\n",
    "\n",
    "# for d in clean.Data_Dump:\n",
    "#     index += 1\n",
    "#     lines = [item.lower() for sublist in d.values() for item in sublist]\n",
    "#     cleaned_lines = [l.strip().translate(str.maketrans('', '', string.punctuation)).replace(\n",
    "#         '®', '').replace('\\n', '').replace('\\r', '') for l in lines]\n",
    "#     cleaned_words = [i for l in cleaned_lines for i in l.split()]\n",
    "    \n",
    "#     if keyword in cleaned_words:\n",
    "#         home_count += 1\n",
    "        \n",
    "#         for cl in cleaned_lines:\n",
    "#             if keyword in cl:\n",
    "#                 vals[cl] = vals.get(cl, 0) + 1"
   ]
  },
  {
   "cell_type": "code",
   "execution_count": 61,
   "id": "b159a011-1508-46fd-b67c-771207fe4297",
   "metadata": {},
   "outputs": [],
   "source": [
    "# i = 0\n",
    "# for d in clean.Data_Dump:\n",
    "#     i+=1\n",
    "#     lines = [item.lower() for sublist in d.values() for item in sublist]\n",
    "#     words = [i for l in lines for i in l.split()]\n",
    "#     if 'camera' in words:\n",
    "#         print(words)"
   ]
  },
  {
   "cell_type": "code",
   "execution_count": null,
   "id": "8606c348-f54e-4532-922d-4feed3db4e39",
   "metadata": {},
   "outputs": [],
   "source": []
  },
  {
   "cell_type": "code",
   "execution_count": null,
   "id": "694392ca-5f18-4c85-8590-c2b27f50ee3b",
   "metadata": {},
   "outputs": [],
   "source": []
  }
 ],
 "metadata": {
  "kernelspec": {
   "display_name": "Python 3 (ipykernel)",
   "language": "python",
   "name": "python3"
  },
  "language_info": {
   "codemirror_mode": {
    "name": "ipython",
    "version": 3
   },
   "file_extension": ".py",
   "mimetype": "text/x-python",
   "name": "python",
   "nbconvert_exporter": "python",
   "pygments_lexer": "ipython3",
   "version": "3.9.13"
  }
 },
 "nbformat": 4,
 "nbformat_minor": 5
}
