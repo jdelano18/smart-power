{
 "cells": [
  {
   "cell_type": "markdown",
   "id": "47e787ff-c134-41db-8d21-1c2a73b520f8",
   "metadata": {},
   "source": [
    "## Final step -- search data for keywords"
   ]
  },
  {
   "cell_type": "code",
   "execution_count": 27,
   "id": "7cb0e798-8d14-403c-8d0a-3d2609fd2e8c",
   "metadata": {},
   "outputs": [],
   "source": [
    "import pandas as pd\n",
    "import string"
   ]
  },
  {
   "cell_type": "code",
   "execution_count": 38,
   "id": "ae234155-58e5-4df0-b1df-beb90296a402",
   "metadata": {},
   "outputs": [],
   "source": [
    "lennar = pd.read_json('./lennar-data-06-2023.json')"
   ]
  },
  {
   "cell_type": "code",
   "execution_count": 39,
   "id": "7440de0d-acf3-451c-ba0b-e0f0dd168f72",
   "metadata": {},
   "outputs": [
    {
     "data": {
      "text/plain": [
       "(10081, 180)"
      ]
     },
     "execution_count": 39,
     "metadata": {},
     "output_type": "execute_result"
    }
   ],
   "source": [
    "lennar.shape"
   ]
  },
  {
   "cell_type": "code",
   "execution_count": 40,
   "id": "13b5fa74-1a21-40a3-8a73-b2e2d9bdd89e",
   "metadata": {},
   "outputs": [
    {
     "data": {
      "text/html": [
       "<div>\n",
       "<style scoped>\n",
       "    .dataframe tbody tr th:only-of-type {\n",
       "        vertical-align: middle;\n",
       "    }\n",
       "\n",
       "    .dataframe tbody tr th {\n",
       "        vertical-align: top;\n",
       "    }\n",
       "\n",
       "    .dataframe thead th {\n",
       "        text-align: right;\n",
       "    }\n",
       "</style>\n",
       "<table border=\"1\" class=\"dataframe\">\n",
       "  <thead>\n",
       "    <tr style=\"text-align: right;\">\n",
       "      <th></th>\n",
       "      <th>Availability</th>\n",
       "      <th>Price</th>\n",
       "      <th>Beds</th>\n",
       "      <th>Baths</th>\n",
       "      <th>Sqft</th>\n",
       "      <th>Address</th>\n",
       "      <th>Community</th>\n",
       "      <th>URL</th>\n",
       "      <th>Data_Dump</th>\n",
       "      <th>feature_0</th>\n",
       "      <th>...</th>\n",
       "      <th>feature_161</th>\n",
       "      <th>feature_162</th>\n",
       "      <th>feature_163</th>\n",
       "      <th>feature_164</th>\n",
       "      <th>feature_165</th>\n",
       "      <th>feature_166</th>\n",
       "      <th>feature_167</th>\n",
       "      <th>feature_168</th>\n",
       "      <th>feature_169</th>\n",
       "      <th>feature_170</th>\n",
       "    </tr>\n",
       "  </thead>\n",
       "  <tbody>\n",
       "    <tr>\n",
       "      <th>0</th>\n",
       "      <td>Move-in ready</td>\n",
       "      <td>$347,815</td>\n",
       "      <td>3.0</td>\n",
       "      <td>3.5</td>\n",
       "      <td>1744.0</td>\n",
       "      <td>6235 Truxton Lane, Raleigh, NC</td>\n",
       "      <td>Manteo II in 5401 North</td>\n",
       "      <td>https://www.lennar.com/new-homes/north-carolin...</td>\n",
       "      <td>{'Kitchen': ['36\" cabinetry with crown molding...</td>\n",
       "      <td>36\" cabinetry with crown molding and nickel ha...</td>\n",
       "      <td>...</td>\n",
       "      <td>None</td>\n",
       "      <td>None</td>\n",
       "      <td>None</td>\n",
       "      <td>None</td>\n",
       "      <td>None</td>\n",
       "      <td>None</td>\n",
       "      <td>None</td>\n",
       "      <td>None</td>\n",
       "      <td>None</td>\n",
       "      <td>None</td>\n",
       "    </tr>\n",
       "  </tbody>\n",
       "</table>\n",
       "<p>1 rows × 180 columns</p>\n",
       "</div>"
      ],
      "text/plain": [
       "    Availability     Price  Beds  Baths    Sqft  \\\n",
       "0  Move-in ready  $347,815   3.0    3.5  1744.0   \n",
       "\n",
       "                          Address                Community  \\\n",
       "0  6235 Truxton Lane, Raleigh, NC  Manteo II in 5401 North   \n",
       "\n",
       "                                                 URL  \\\n",
       "0  https://www.lennar.com/new-homes/north-carolin...   \n",
       "\n",
       "                                           Data_Dump  \\\n",
       "0  {'Kitchen': ['36\" cabinetry with crown molding...   \n",
       "\n",
       "                                           feature_0  ... feature_161  \\\n",
       "0  36\" cabinetry with crown molding and nickel ha...  ...        None   \n",
       "\n",
       "  feature_162 feature_163 feature_164 feature_165 feature_166 feature_167  \\\n",
       "0        None        None        None        None        None        None   \n",
       "\n",
       "  feature_168 feature_169 feature_170  \n",
       "0        None        None        None  \n",
       "\n",
       "[1 rows x 180 columns]"
      ]
     },
     "execution_count": 40,
     "metadata": {},
     "output_type": "execute_result"
    }
   ],
   "source": [
    "lennar.head(1)"
   ]
  },
  {
   "cell_type": "code",
   "execution_count": 41,
   "id": "18d42309-696e-4dcb-9e6a-93e5a329b74c",
   "metadata": {},
   "outputs": [],
   "source": [
    "clean = lennar.drop_duplicates(subset=['Availability', 'Price', 'Beds', 'Baths', 'Sqft', 'Address', 'Community', 'URL'],\n",
    "                    keep='first',\n",
    "                    ignore_index=True)"
   ]
  },
  {
   "cell_type": "code",
   "execution_count": 42,
   "id": "0c8708e6-f08c-49d6-b13e-d461380ba863",
   "metadata": {},
   "outputs": [
    {
     "data": {
      "text/plain": [
       "(8859, 180)"
      ]
     },
     "execution_count": 42,
     "metadata": {},
     "output_type": "execute_result"
    }
   ],
   "source": [
    "clean.shape"
   ]
  },
  {
   "cell_type": "markdown",
   "id": "ed10d68c-cd8e-409c-a887-bb96eaa2f317",
   "metadata": {},
   "source": [
    "After removing duplicate homes (from the fact that some cities that are close together list the same homes under different urls -- ex Charlotte is under SC and NC for some reason), we see there are **9716 homes in the dataset**"
   ]
  },
  {
   "cell_type": "code",
   "execution_count": 43,
   "id": "d9d365df-bab8-4a4d-af79-542121a417b0",
   "metadata": {},
   "outputs": [],
   "source": [
    "# import re"
   ]
  },
  {
   "cell_type": "code",
   "execution_count": 44,
   "id": "98848fa7-29b6-460e-92fa-c4132a0fd9d3",
   "metadata": {},
   "outputs": [],
   "source": [
    "# for d in clean['Data_Dump'][500:]:\n",
    "#     lines = [item.lower() for sublist in d.values() for item in sublist]\n",
    "    \n",
    "#     # get rid of characters we don't want\n",
    "#     cleaned_lines = [l.strip().replace('\\n', '').replace('\\r', '').replace('®', '').\n",
    "#                      replace('™','').replace('¹', '').replace('”','') for l in lines]\n",
    "    \n",
    "#     # remove punc other than dash\n",
    "#     ultra_cleaned_lines = [cl.translate(str.maketrans('', '', string.punctuation.replace('-',''))) \n",
    "#                            for cl in cleaned_lines]\n",
    "    \n",
    "#     cleaned_words = [i for l in ultra_cleaned_lines for i in l.split()]\n",
    "    \n",
    "#     print(cleaned_words)\n",
    "#     break"
   ]
  },
  {
   "cell_type": "code",
   "execution_count": null,
   "id": "afede12a-3cd9-4d65-89f3-6636a73593dc",
   "metadata": {},
   "outputs": [],
   "source": []
  },
  {
   "cell_type": "code",
   "execution_count": null,
   "id": "b19c0f83-0329-45c4-a5a3-14582da179d5",
   "metadata": {},
   "outputs": [],
   "source": []
  },
  {
   "cell_type": "code",
   "execution_count": 69,
   "id": "b7924b20-df52-4058-b3ad-a324622ddb75",
   "metadata": {},
   "outputs": [],
   "source": [
    "def search_homes(date, keyword, save=False):\n",
    "    \"\"\"\n",
    "    Method that searches through the Data_dump dict structure\n",
    "    \n",
    "    Returns:\n",
    "        vals: dict where keys include keyword and values are counts\n",
    "        home_count: # of unique homes where the keyword is present\n",
    "    \"\"\"\n",
    "    lennar = pd.read_json(f'./lennar-data-{date}.json')\n",
    "    clean = lennar.drop_duplicates(subset=['Availability', 'Price', 'Beds', 'Baths', 'Sqft', 'Address', 'Community', 'URL'],\n",
    "                    keep='first',\n",
    "                    ignore_index=True)\n",
    "    \n",
    "    keyword = keyword.lower()\n",
    "    vals = dict()\n",
    "    home_count = 0\n",
    "    index = 0\n",
    "    \n",
    "    for d in clean.Data_Dump:\n",
    "        index += 1\n",
    "        lines = [item.lower() for sublist in d.values() for item in sublist]\n",
    "    \n",
    "        # get rid of characters we don't want\n",
    "        cleaned_lines = [l.strip().replace('\\n', '').replace('\\r', '').replace('®', '').\n",
    "                         replace('™','').replace('¹', '').replace('”','') for l in lines]\n",
    "\n",
    "        # remove punc other than dash\n",
    "        ultra_cleaned_lines = [cl.translate(str.maketrans('', '', string.punctuation.replace('-',''))) \n",
    "                               for cl in cleaned_lines]\n",
    "\n",
    "        cleaned_words = [i for l in ultra_cleaned_lines for i in l.split()]\n",
    "        \n",
    "        if keyword in cleaned_words:\n",
    "            home_count += 1\n",
    "            \n",
    "            for ucl in ultra_cleaned_lines:\n",
    "                if keyword in ucl:\n",
    "                    vals[ucl] = vals.get(ucl, 0) + 1\n",
    "    \n",
    "    df = pd.DataFrame([[home_count, sorted(vals.items(), key=lambda x: x[1], reverse=True), \n",
    "                        sum(vals.values())]], \n",
    "                      columns = ['n_homes', 'data', 'sum_data_vals'])\n",
    "    \n",
    "    if save:\n",
    "        df.to_csv(f'./search-results-{date}/{keyword}.csv', index=False)\n",
    "    return pd.DataFrame(df['data'][0], columns=['description', 'count'])"
   ]
  },
  {
   "cell_type": "code",
   "execution_count": null,
   "id": "bbb94253-1abf-4027-86a1-85525f067e30",
   "metadata": {},
   "outputs": [],
   "source": []
  },
  {
   "cell_type": "markdown",
   "id": "2f3907fe-abe6-44f2-ab1b-854abab68091",
   "metadata": {},
   "source": [
    "Okay so here's the function. Try 'usb', 'wifi', 'motion' etc"
   ]
  },
  {
   "cell_type": "code",
   "execution_count": 102,
   "id": "677d538c-57b2-4566-8a92-748b426870df",
   "metadata": {},
   "outputs": [],
   "source": [
    "june_df = search_homes('06-2023', 'ring')\n",
    "oct_df = search_homes('10-2022', 'ring')"
   ]
  },
  {
   "cell_type": "code",
   "execution_count": 103,
   "id": "c20973e2-0cfd-4652-ad96-3bed45e01aa0",
   "metadata": {},
   "outputs": [
    {
     "data": {
      "text/html": [
       "<div>\n",
       "<style scoped>\n",
       "    .dataframe tbody tr th:only-of-type {\n",
       "        vertical-align: middle;\n",
       "    }\n",
       "\n",
       "    .dataframe tbody tr th {\n",
       "        vertical-align: top;\n",
       "    }\n",
       "\n",
       "    .dataframe thead th {\n",
       "        text-align: right;\n",
       "    }\n",
       "</style>\n",
       "<table border=\"1\" class=\"dataframe\">\n",
       "  <thead>\n",
       "    <tr style=\"text-align: right;\">\n",
       "      <th></th>\n",
       "      <th>description</th>\n",
       "      <th>count</th>\n",
       "    </tr>\n",
       "  </thead>\n",
       "  <tbody>\n",
       "    <tr>\n",
       "      <th>0</th>\n",
       "      <td>ring video doorbell pro</td>\n",
       "      <td>3639</td>\n",
       "    </tr>\n",
       "    <tr>\n",
       "      <th>1</th>\n",
       "      <td>ring alarm security kit – base station</td>\n",
       "      <td>2293</td>\n",
       "    </tr>\n",
       "    <tr>\n",
       "      <th>2</th>\n",
       "      <td>ring alarm security kit – ring alarm keypad</td>\n",
       "      <td>1917</td>\n",
       "    </tr>\n",
       "    <tr>\n",
       "      <th>3</th>\n",
       "      <td>ring alarm security kit – ring alarm motion de...</td>\n",
       "      <td>1917</td>\n",
       "    </tr>\n",
       "    <tr>\n",
       "      <th>4</th>\n",
       "      <td>ring alarm security kit – ring alarm smoke and...</td>\n",
       "      <td>1917</td>\n",
       "    </tr>\n",
       "  </tbody>\n",
       "</table>\n",
       "</div>"
      ],
      "text/plain": [
       "                                         description  count\n",
       "0                            ring video doorbell pro   3639\n",
       "1             ring alarm security kit – base station   2293\n",
       "2        ring alarm security kit – ring alarm keypad   1917\n",
       "3  ring alarm security kit – ring alarm motion de...   1917\n",
       "4  ring alarm security kit – ring alarm smoke and...   1917"
      ]
     },
     "execution_count": 103,
     "metadata": {},
     "output_type": "execute_result"
    }
   ],
   "source": [
    "june_df.head()"
   ]
  },
  {
   "cell_type": "code",
   "execution_count": 104,
   "id": "62dec747-7bab-4475-9696-9bee2d78609b",
   "metadata": {},
   "outputs": [
    {
     "data": {
      "text/html": [
       "<div>\n",
       "<style scoped>\n",
       "    .dataframe tbody tr th:only-of-type {\n",
       "        vertical-align: middle;\n",
       "    }\n",
       "\n",
       "    .dataframe tbody tr th {\n",
       "        vertical-align: top;\n",
       "    }\n",
       "\n",
       "    .dataframe thead th {\n",
       "        text-align: right;\n",
       "    }\n",
       "</style>\n",
       "<table border=\"1\" class=\"dataframe\">\n",
       "  <thead>\n",
       "    <tr style=\"text-align: right;\">\n",
       "      <th></th>\n",
       "      <th>description</th>\n",
       "      <th>count</th>\n",
       "    </tr>\n",
       "  </thead>\n",
       "  <tbody>\n",
       "    <tr>\n",
       "      <th>0</th>\n",
       "      <td>ring video doorbell pro</td>\n",
       "      <td>6304</td>\n",
       "    </tr>\n",
       "    <tr>\n",
       "      <th>1</th>\n",
       "      <td>ring alarm security kit – base station</td>\n",
       "      <td>4305</td>\n",
       "    </tr>\n",
       "    <tr>\n",
       "      <th>2</th>\n",
       "      <td>ring alarm security kit – ring alarm motion de...</td>\n",
       "      <td>3891</td>\n",
       "    </tr>\n",
       "    <tr>\n",
       "      <th>3</th>\n",
       "      <td>ring alarm security kit – ring alarm smoke and...</td>\n",
       "      <td>3860</td>\n",
       "    </tr>\n",
       "    <tr>\n",
       "      <th>4</th>\n",
       "      <td>ring alarm security kit – ring alarm keypad</td>\n",
       "      <td>3768</td>\n",
       "    </tr>\n",
       "  </tbody>\n",
       "</table>\n",
       "</div>"
      ],
      "text/plain": [
       "                                         description  count\n",
       "0                            ring video doorbell pro   6304\n",
       "1             ring alarm security kit – base station   4305\n",
       "2  ring alarm security kit – ring alarm motion de...   3891\n",
       "3  ring alarm security kit – ring alarm smoke and...   3860\n",
       "4        ring alarm security kit – ring alarm keypad   3768"
      ]
     },
     "execution_count": 104,
     "metadata": {},
     "output_type": "execute_result"
    }
   ],
   "source": [
    "oct_df.head()"
   ]
  },
  {
   "cell_type": "code",
   "execution_count": 105,
   "id": "0532bf79-d311-467c-83cf-c77675ebc4d0",
   "metadata": {},
   "outputs": [],
   "source": [
    "def percentage_change(col1,col2):\n",
    "    return round(((col2 - col1) / col1) * 100, 2)"
   ]
  },
  {
   "cell_type": "code",
   "execution_count": 106,
   "id": "8606c348-f54e-4532-922d-4feed3db4e39",
   "metadata": {},
   "outputs": [],
   "source": [
    "df = june_df.merge(oct_df, how='outer', on='description', suffixes=('_06-23','_10-22'))"
   ]
  },
  {
   "cell_type": "code",
   "execution_count": 107,
   "id": "42b0645c-3038-4ffd-b541-979f189ec7a1",
   "metadata": {},
   "outputs": [],
   "source": [
    "df.fillna(0, inplace=True)\n",
    "sorted_indices = (df[\"count_06-23\"] + df[\"count_10-22\"]).sort_values(ascending=False).index\n",
    "df = df.loc[sorted_indices, :]\n",
    "df['pct-change'] = percentage_change(df['count_10-22'],df['count_06-23'])    "
   ]
  },
  {
   "cell_type": "code",
   "execution_count": 108,
   "id": "d82acf10-b887-4ba1-bfe3-2c34cb7deb00",
   "metadata": {},
   "outputs": [
    {
     "data": {
      "text/html": [
       "<div>\n",
       "<style scoped>\n",
       "    .dataframe tbody tr th:only-of-type {\n",
       "        vertical-align: middle;\n",
       "    }\n",
       "\n",
       "    .dataframe tbody tr th {\n",
       "        vertical-align: top;\n",
       "    }\n",
       "\n",
       "    .dataframe thead th {\n",
       "        text-align: right;\n",
       "    }\n",
       "</style>\n",
       "<table border=\"1\" class=\"dataframe\">\n",
       "  <thead>\n",
       "    <tr style=\"text-align: right;\">\n",
       "      <th></th>\n",
       "      <th>description</th>\n",
       "      <th>count_06-23</th>\n",
       "      <th>count_10-22</th>\n",
       "      <th>pct-change</th>\n",
       "    </tr>\n",
       "  </thead>\n",
       "  <tbody>\n",
       "    <tr>\n",
       "      <th>0</th>\n",
       "      <td>ring video doorbell pro</td>\n",
       "      <td>3639.0</td>\n",
       "      <td>6304.0</td>\n",
       "      <td>-42.27</td>\n",
       "    </tr>\n",
       "    <tr>\n",
       "      <th>1</th>\n",
       "      <td>ring alarm security kit – base station</td>\n",
       "      <td>2293.0</td>\n",
       "      <td>4305.0</td>\n",
       "      <td>-46.74</td>\n",
       "    </tr>\n",
       "    <tr>\n",
       "      <th>3</th>\n",
       "      <td>ring alarm security kit – ring alarm motion de...</td>\n",
       "      <td>1917.0</td>\n",
       "      <td>3891.0</td>\n",
       "      <td>-50.73</td>\n",
       "    </tr>\n",
       "    <tr>\n",
       "      <th>4</th>\n",
       "      <td>ring alarm security kit – ring alarm smoke and...</td>\n",
       "      <td>1917.0</td>\n",
       "      <td>3860.0</td>\n",
       "      <td>-50.34</td>\n",
       "    </tr>\n",
       "    <tr>\n",
       "      <th>2</th>\n",
       "      <td>ring alarm security kit – ring alarm keypad</td>\n",
       "      <td>1917.0</td>\n",
       "      <td>3768.0</td>\n",
       "      <td>-49.12</td>\n",
       "    </tr>\n",
       "    <tr>\n",
       "      <th>...</th>\n",
       "      <td>...</td>\n",
       "      <td>...</td>\n",
       "      <td>...</td>\n",
       "      <td>...</td>\n",
       "    </tr>\n",
       "    <tr>\n",
       "      <th>291</th>\n",
       "      <td>ring alarm security kit with base station keyp...</td>\n",
       "      <td>1.0</td>\n",
       "      <td>0.0</td>\n",
       "      <td>inf</td>\n",
       "    </tr>\n",
       "    <tr>\n",
       "      <th>292</th>\n",
       "      <td>osb subflooring</td>\n",
       "      <td>1.0</td>\n",
       "      <td>0.0</td>\n",
       "      <td>inf</td>\n",
       "    </tr>\n",
       "    <tr>\n",
       "      <th>518</th>\n",
       "      <td>stylish and durable flooring in the kitchen di...</td>\n",
       "      <td>0.0</td>\n",
       "      <td>1.0</td>\n",
       "      <td>-100.00</td>\n",
       "    </tr>\n",
       "    <tr>\n",
       "      <th>519</th>\n",
       "      <td>shawspan stylecolor 2d2d2dregspannbspluxury vi...</td>\n",
       "      <td>0.0</td>\n",
       "      <td>1.0</td>\n",
       "      <td>-100.00</td>\n",
       "    </tr>\n",
       "    <tr>\n",
       "      <th>520</th>\n",
       "      <td>pshawspan stylecolor 2d2d2dregspan luxury viny...</td>\n",
       "      <td>0.0</td>\n",
       "      <td>1.0</td>\n",
       "      <td>-100.00</td>\n",
       "    </tr>\n",
       "  </tbody>\n",
       "</table>\n",
       "<p>521 rows × 4 columns</p>\n",
       "</div>"
      ],
      "text/plain": [
       "                                           description  count_06-23  \\\n",
       "0                              ring video doorbell pro       3639.0   \n",
       "1               ring alarm security kit – base station       2293.0   \n",
       "3    ring alarm security kit – ring alarm motion de...       1917.0   \n",
       "4    ring alarm security kit – ring alarm smoke and...       1917.0   \n",
       "2          ring alarm security kit – ring alarm keypad       1917.0   \n",
       "..                                                 ...          ...   \n",
       "291  ring alarm security kit with base station keyp...          1.0   \n",
       "292                                    osb subflooring          1.0   \n",
       "518  stylish and durable flooring in the kitchen di...          0.0   \n",
       "519  shawspan stylecolor 2d2d2dregspannbspluxury vi...          0.0   \n",
       "520  pshawspan stylecolor 2d2d2dregspan luxury viny...          0.0   \n",
       "\n",
       "     count_10-22  pct-change  \n",
       "0         6304.0      -42.27  \n",
       "1         4305.0      -46.74  \n",
       "3         3891.0      -50.73  \n",
       "4         3860.0      -50.34  \n",
       "2         3768.0      -49.12  \n",
       "..           ...         ...  \n",
       "291          0.0         inf  \n",
       "292          0.0         inf  \n",
       "518          1.0     -100.00  \n",
       "519          1.0     -100.00  \n",
       "520          1.0     -100.00  \n",
       "\n",
       "[521 rows x 4 columns]"
      ]
     },
     "execution_count": 108,
     "metadata": {},
     "output_type": "execute_result"
    }
   ],
   "source": [
    "df"
   ]
  },
  {
   "cell_type": "code",
   "execution_count": 109,
   "id": "694392ca-5f18-4c85-8590-c2b27f50ee3b",
   "metadata": {},
   "outputs": [],
   "source": [
    "df.to_csv('./analysis/ring-description-differences.csv', index=False)"
   ]
  },
  {
   "cell_type": "code",
   "execution_count": null,
   "id": "e527d980-f022-429a-bd03-2e279026cf79",
   "metadata": {},
   "outputs": [],
   "source": []
  }
 ],
 "metadata": {
  "kernelspec": {
   "display_name": "Python 3 (ipykernel)",
   "language": "python",
   "name": "python3"
  },
  "language_info": {
   "codemirror_mode": {
    "name": "ipython",
    "version": 3
   },
   "file_extension": ".py",
   "mimetype": "text/x-python",
   "name": "python",
   "nbconvert_exporter": "python",
   "pygments_lexer": "ipython3",
   "version": "3.9.13"
  }
 },
 "nbformat": 4,
 "nbformat_minor": 5
}
