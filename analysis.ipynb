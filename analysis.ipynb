{
 "cells": [
  {
   "cell_type": "markdown",
   "id": "47e787ff-c134-41db-8d21-1c2a73b520f8",
   "metadata": {},
   "source": [
    "## Final step -- search data for keywords"
   ]
  },
  {
   "cell_type": "code",
   "execution_count": 1,
   "id": "7cb0e798-8d14-403c-8d0a-3d2609fd2e8c",
   "metadata": {},
   "outputs": [],
   "source": [
    "import pandas as pd\n",
    "import string"
   ]
  },
  {
   "cell_type": "code",
   "execution_count": 2,
   "id": "ae234155-58e5-4df0-b1df-beb90296a402",
   "metadata": {},
   "outputs": [],
   "source": [
    "lennar = pd.read_json('./lennar-data.json')"
   ]
  },
  {
   "cell_type": "code",
   "execution_count": 3,
   "id": "7440de0d-acf3-451c-ba0b-e0f0dd168f72",
   "metadata": {},
   "outputs": [
    {
     "data": {
      "text/plain": [
       "(11365, 185)"
      ]
     },
     "execution_count": 3,
     "metadata": {},
     "output_type": "execute_result"
    }
   ],
   "source": [
    "lennar.shape"
   ]
  },
  {
   "cell_type": "code",
   "execution_count": 4,
   "id": "13b5fa74-1a21-40a3-8a73-b2e2d9bdd89e",
   "metadata": {},
   "outputs": [
    {
     "data": {
      "text/html": [
       "<div>\n",
       "<style scoped>\n",
       "    .dataframe tbody tr th:only-of-type {\n",
       "        vertical-align: middle;\n",
       "    }\n",
       "\n",
       "    .dataframe tbody tr th {\n",
       "        vertical-align: top;\n",
       "    }\n",
       "\n",
       "    .dataframe thead th {\n",
       "        text-align: right;\n",
       "    }\n",
       "</style>\n",
       "<table border=\"1\" class=\"dataframe\">\n",
       "  <thead>\n",
       "    <tr style=\"text-align: right;\">\n",
       "      <th></th>\n",
       "      <th>Availability</th>\n",
       "      <th>Price</th>\n",
       "      <th>Beds</th>\n",
       "      <th>Baths</th>\n",
       "      <th>Sqft</th>\n",
       "      <th>Address</th>\n",
       "      <th>Community</th>\n",
       "      <th>URL</th>\n",
       "      <th>Data_Dump</th>\n",
       "      <th>feature_0</th>\n",
       "      <th>...</th>\n",
       "      <th>feature_166</th>\n",
       "      <th>feature_167</th>\n",
       "      <th>feature_168</th>\n",
       "      <th>feature_169</th>\n",
       "      <th>feature_170</th>\n",
       "      <th>feature_171</th>\n",
       "      <th>feature_172</th>\n",
       "      <th>feature_173</th>\n",
       "      <th>feature_174</th>\n",
       "      <th>feature_175</th>\n",
       "    </tr>\n",
       "  </thead>\n",
       "  <tbody>\n",
       "    <tr>\n",
       "      <th>0</th>\n",
       "      <td>Move-in ready</td>\n",
       "      <td>$374,990</td>\n",
       "      <td>4.0</td>\n",
       "      <td>3.5</td>\n",
       "      <td>2179</td>\n",
       "      <td>6417 Mentor Place, Raleigh, NC</td>\n",
       "      <td>Bradley in 5401 North</td>\n",
       "      <td>https://www.lennar.com/new-homes/north-carolin...</td>\n",
       "      <td>{'Kitchen': ['36\" cabinetry with crown molding...</td>\n",
       "      <td>36\" cabinetry with crown molding and nickel ha...</td>\n",
       "      <td>...</td>\n",
       "      <td>None</td>\n",
       "      <td>None</td>\n",
       "      <td>None</td>\n",
       "      <td>None</td>\n",
       "      <td>None</td>\n",
       "      <td>None</td>\n",
       "      <td>None</td>\n",
       "      <td>None</td>\n",
       "      <td>None</td>\n",
       "      <td>None</td>\n",
       "    </tr>\n",
       "  </tbody>\n",
       "</table>\n",
       "<p>1 rows × 185 columns</p>\n",
       "</div>"
      ],
      "text/plain": [
       "    Availability     Price  Beds  Baths  Sqft                         Address  \\\n",
       "0  Move-in ready  $374,990   4.0    3.5  2179  6417 Mentor Place, Raleigh, NC   \n",
       "\n",
       "               Community                                                URL  \\\n",
       "0  Bradley in 5401 North  https://www.lennar.com/new-homes/north-carolin...   \n",
       "\n",
       "                                           Data_Dump  \\\n",
       "0  {'Kitchen': ['36\" cabinetry with crown molding...   \n",
       "\n",
       "                                           feature_0  ... feature_166  \\\n",
       "0  36\" cabinetry with crown molding and nickel ha...  ...        None   \n",
       "\n",
       "  feature_167 feature_168 feature_169 feature_170 feature_171 feature_172  \\\n",
       "0        None        None        None        None        None        None   \n",
       "\n",
       "  feature_173 feature_174 feature_175  \n",
       "0        None        None        None  \n",
       "\n",
       "[1 rows x 185 columns]"
      ]
     },
     "execution_count": 4,
     "metadata": {},
     "output_type": "execute_result"
    }
   ],
   "source": [
    "lennar.head(1)"
   ]
  },
  {
   "cell_type": "code",
   "execution_count": 5,
   "id": "18d42309-696e-4dcb-9e6a-93e5a329b74c",
   "metadata": {},
   "outputs": [],
   "source": [
    "clean = lennar.drop_duplicates(subset=['Availability', 'Price', 'Beds', 'Baths', 'Sqft', 'Address', 'Community', 'URL'],\n",
    "                    keep='first',\n",
    "                    ignore_index=True)"
   ]
  },
  {
   "cell_type": "code",
   "execution_count": 6,
   "id": "0c8708e6-f08c-49d6-b13e-d461380ba863",
   "metadata": {},
   "outputs": [
    {
     "data": {
      "text/plain": [
       "(9716, 185)"
      ]
     },
     "execution_count": 6,
     "metadata": {},
     "output_type": "execute_result"
    }
   ],
   "source": [
    "clean.shape"
   ]
  },
  {
   "cell_type": "markdown",
   "id": "ed10d68c-cd8e-409c-a887-bb96eaa2f317",
   "metadata": {},
   "source": [
    "After removing duplicate homes (from the fact that some cities that are close together list the same homes under different urls -- ex Charlotte is under SC and NC for some reason), we see there are **9716 homes in the dataset**"
   ]
  },
  {
   "cell_type": "code",
   "execution_count": 22,
   "id": "d9d365df-bab8-4a4d-af79-542121a417b0",
   "metadata": {},
   "outputs": [],
   "source": [
    "import re"
   ]
  },
  {
   "cell_type": "code",
   "execution_count": 58,
   "id": "98848fa7-29b6-460e-92fa-c4132a0fd9d3",
   "metadata": {},
   "outputs": [
    {
     "name": "stdout",
     "output_type": "stream",
     "text": [
      "['engineered', 'hardwood', 'flooring', 'in', 'kitchen', 'dining', 'room', 'and', 'foyer', 'stainless', 'steel', 'single-bowl', 'undermount', 'sink', 'with', 'stainless', 'steel', 'pull-out', 'faucet', 'elegant', 'square', 'at-panel', 'cabinetry', 'with', 'crown', 'molding', 'granite', 'or', 'quartz', 'countertops', 'with', 'flat', 'polish', 'edge', 'and', 'stainless', 'steel', 'undermount', 'sink', '3x6', 'subway', 'tile', 'backsplash', 'installed', 'in', 'a', 'brick', 'pattern', 'pull', 'out', 'stainless', 'steel', 'faucet', 'frigidaire', 'gallery', '30', 'stainless', 'steel', 'and', 'black', 'freestanding', 'smoothtopquick-clean', 'range', 'with', 'auto', 'shutoff', 'frigidaire', 'gallery', 'stainless', 'steel', 'and', 'black', 'over-the-range', 'microwave', 'ovenwith', 'venting', 'system', 'frigidaire', 'gallery', 'stainless', 'steel', 'and', 'black', '4-cycle', 'energy', 'stardishwasher', 'with', 'push', 'button', 'controls', 'frigidaire', 'garbage', 'disposal', '36', 'and', '42', 'square', 'flat', 'panel', 'cabinetry', 'with', '2', 'crown', 'molding', 'and', 'hardware', 'pendant', 'lights', 'in', 'kitchen', 'per', 'plan', 'waterline', 'for', 'icemaker', 'venetian', 'marble', 'countertops', 'walk-in', 'closet', 'with', 'mesh', 'shelving', 'raised-height', 'vanity', 'double', 'sinks', 'at', 'vanity', 'ceramic', 'tile', 'flooring', 'in', 'bath', 'venetian', 'marble', 'countertops', 'with', '6', 'backsplash', 'large', 'vanity', 'mirror', 'walk-in', 'shower', 'with', 'ceramic', 'tile', 'surround', 'low-sone', 'exhaust', 'fans', 'raised-height', 'vanity', 'double', 'sinks', 'at', 'vanity', 'per', 'plan', 'pedestal', 'sink', 'in', 'powder', 'bathroom', 'ceramic', 'tile', 'flooring', 'in', 'bath', 'moen', 'fixtures', 'and', 'faucets', 'with', 'chrome', 'finish', 'large', 'vanity', 'mirror', 'in', 'all', 'full', 'baths', 'venetian', 'marble', 'countertops', 'with', '6', 'backsplash', 'low-sone', 'exhaust', 'fans', 'shower', 'and', 'bathtub', 'combination', 'with', 'fiberglass', 'surround', 'wire-mesh', 'shelving', 'ceramic', 'tile', 'flooring', '25', 'oz', 'stain', 'resistant', 'carpet', 'with', 'scotchgard', '5engineered', 'wood', 'flooring', 'foyer', 'kitchen', 'breakfast', 'nook', 'powder', 'room', 'and', 'dining', 'room', '13x13', 'ceramic', 'tile', 'flooring', 'in', 'all', 'baths', 'and', 'laundry', '9’', 'ceilings', 'downstairs', 'and', 'smooth', 'ceilings', 'throughout', '2-panel', 'square', 'top', 'interior', 'doors', 'with', 'satin', 'nickel', 'doorknobs', '2', '¼', 'casing', 'around', 'doors', 'and', '3', '¼', 'baseboard', 'ventilated', 'shelving', 'in', 'closets', 'crown', 'molding', 'in', 'foyer', 'and', 'dining', 'rooms', 'per', 'plan', '2-piece', 'chair', 'rail', 'and', 'picture', 'frame', 'molding', 'in', 'dining', 'room', 'per', 'plan', 'first', 'floor', 'open', 'rail', 'in', 'black', 'wrought', 'iron', 'with', 'oak', 'handrail', 'per', 'plan', 'high', 'quality', 'sherwin-williams', 'paint', 'direct', 'vent', 'gas', 'fireplace', 'with', 'granite', 'surround', 'smoke', 'detectors', 'in', 'all', 'bedrooms', 'and', 'on', 'each', 'level', 'carbon', 'monoxide', 'detector', 'tv', 'pre-wire', 'with', 'hdmi', 'cable', 'above', 'fireplace', 'ground', 'fault', 'gfi', 'protection', 'in', 'baths', 'and', 'kitchen', 'structured', 'wiring', 'package', 'includes', 'network', 'cat', '5', 'data', 'lines', 'and', 'rg-6', 'outlets', 'flush', 'mounted', 'led', 'lights', 'in', 'hallways', 'kitchen', 'breakfast', 'nook', 'bedrooms', 'baths', 'and', 'laundry', 'room', 'fan', 'pre-wire', 'in', 'all', 'bedrooms', 'and', 'family', 'room', 'and', 'other', 'rooms', 'brushed-nickel', 'light', 'fixture', 'in', 'dining', 'room', 'power', 'hub', 'in', 'kitchen', 'with', '4', 'usb', 'ports', 'and', '2', 'outlets', 'james', 'hardie', 'colorplus', 'siding', 'low-maintenance', 'shutters', 'brick', 'or', 'stone', 'features', 'on', 'front', 'elevations', 'maintenance-free', 'vinyl', 'windows', 'architectural', 'roof', 'shingles', 'with', '30-year', 'manufacturers', 'warranty', 'aluminum', 'gutters', 'downspouts', 'and', 'splash', 'blocks', 'insulated', 'fiberglass', 'front', 'door', 'with', 'deeadbolt', 'and', 'handleset', 'sonoma-style', 'garage', 'door', 'with', 'hardware', 'and', 'opener', 'with', '2', 'remotes', 'fully', 'sodded', 'bermuda', 'yard', 'front', 'back', 'and', 'sides', 'professionally', 'designed', 'street', 'trees', 'and', 'shrub', 'package', 'borcare', 'termite', 'treatments', 'and', 'built-in', 'taexx', 'pest', 'control', 'system', '2', 'exterior', 'hose', 'connections', 'per', 'plan', 'and', '2', 'weatherproof', 'electrical', 'outlets', 'double', 'eave', 'flood', 'light', 'on', 'rear', 'overhang', 'location', 'per', 'plan', 'unlock', 'and', 'lock', 'the', 'home', 'from', 'anywhere', 'with', 'schlage', 'encode', 'eero', 'pro', '6', '–', 'mesh', 'wifi', 'system', 'provides', 'high-speed', 'internet', 'and', 'reliable', 'coverage', 'monitor', 'water', 'usage', 'and', 'detect', 'leaks', 'immediately', 'with', 'flo', 'by', 'moen', 'smart', 'water', 'shutoff', 'ring', 'video', 'pro', 'doorbell', 'easily', 'adjust', 'and', 'regulate', 'the', 'indoor', 'temperature', 'using', 'honeywell', 'home', 't6', 'pro', 'z-wave', 'wifi', 'heat', 'mapping', 'engineering', 'legrand', 'on-q', '42', 'rf', 'transparent', 'structured', 'media', 'enclosure', 'ring', 'alarm', 'security', 'kit', '–', 'base', 'station', 'ring', 'alarm', 'security', 'kit', '–', 'ring', 'alarm', 'keypad', 'ring', 'alarm', 'security', 'kit', '–', 'ring', 'alarm', 'motion', 'detector', 'ring', 'alarm', 'security', 'kit', '–', 'ring', 'alarm', 'smoke', 'and', 'co', 'listener', 'ring', 'alarm', 'security', 'kit', '–', 'ring', 'alarm', 'window', 'and', 'door', 'contact', 'sensor', 'ring', 'video', 'doorbell', 'pro', 'liftmaster', 'myq', 'smart', 'garage', 'control', 'energy', 'star', 'certified', 'home', 'certified', 'by', '3rd', 'party', 'constructed', 'to', 'meet', 'environments', 'for', 'living', 'strict', 'standards', 'osb', 'roof', 'sheathing', '90', 'efficient', 'gas', 'furnace', '14', 'seer', 'electric', 'forced', 'air', 'cooling', 'system', 'digital', 'programmable', 'thermostats', 'one', 'on', 'each', 'floor', 'energy-efficient', 'low-e', 'windows', 'r30', 'insulation', 'in', 'ceilings', 'premier', 'advantech', 'osb', 'subflooring', '50-gallon', 'electric', 'water', 'heater', 'osb', 'exterior', 'walls', 'pull-down', 'attic', 'stairs', 'with', 'thermal', 'attic', 'tent', 'in', 'heated', 'areas', 'per', 'plan', 'hvac', 'fresh', 'air', 'smart', 'cycler', 'all', 'light', 'fixtures', 'utilize', 'cfl', 'or', 'led', 'bulbs', 'housewrap', 'moisture', 'protection', 'ice', 'and', 'water', 'shield', 'installed', 'in', 'roof', 'valleys', 'mylennar', 'online', 'assistant', 'to', 'help', 'through', 'the', 'homebuying', 'process', 'lennar', 'mortgage', 'financial', 'services', 'lennar', 'title', 'title', 'services', 'lennar', 'insurance', 'agency', 'home', 'insurance', 'pre-construction', 'meeting', 'at', 'trench', 'with', 'construction', 'manager', 'pre-drywall', 'orientation', 'with', 'construction', 'manager', 'new', 'home', 'orientation', 'with', 'customer', 'care', 'tlc', 'walk', 'with', 'customer', 'care', 'day', 'before', 'closing', 'limited', 'one-year', 'warranty', 'on', 'workmanship', 'see', 'manual', 'limited', 'two-year', 'warranty', 'on', 'mechanical', 'systems', 'see', 'manual', '10-year', 'structural', 'warranty', 'see', 'manual']\n"
     ]
    }
   ],
   "source": [
    "for d in clean['Data_Dump'][500:]:\n",
    "    lines = [item.lower() for sublist in d.values() for item in sublist]\n",
    "    \n",
    "    # get rid of characters we don't want\n",
    "    cleaned_lines = [l.strip().replace('\\n', '').replace('\\r', '').replace('®', '').\n",
    "                     replace('™','').replace('¹', '').replace('”','') for l in lines]\n",
    "    \n",
    "    # remove punc other than dash\n",
    "    ultra_cleaned_lines = [cl.translate(str.maketrans('', '', string.punctuation.replace('-',''))) \n",
    "                           for cl in cleaned_lines]\n",
    "    \n",
    "    cleaned_words = [i for l in ultra_cleaned_lines for i in l.split()]\n",
    "    \n",
    "    print(cleaned_words)\n",
    "    break"
   ]
  },
  {
   "cell_type": "code",
   "execution_count": null,
   "id": "afede12a-3cd9-4d65-89f3-6636a73593dc",
   "metadata": {},
   "outputs": [],
   "source": []
  },
  {
   "cell_type": "code",
   "execution_count": null,
   "id": "b19c0f83-0329-45c4-a5a3-14582da179d5",
   "metadata": {},
   "outputs": [],
   "source": []
  },
  {
   "cell_type": "code",
   "execution_count": 80,
   "id": "b7924b20-df52-4058-b3ad-a324622ddb75",
   "metadata": {},
   "outputs": [],
   "source": [
    "def search_homes(keyword):\n",
    "    \"\"\"\n",
    "    Method that searches through the Data_dump dict structure\n",
    "    \n",
    "    Returns:\n",
    "        vals: dict where keys include keyword and values are counts\n",
    "        home_count: # of unique homes where the keyword is present\n",
    "    \"\"\"\n",
    "    keyword = keyword.lower()\n",
    "    vals = dict()\n",
    "    home_count = 0\n",
    "    index = 0\n",
    "    \n",
    "    for d in clean.Data_Dump:\n",
    "        index += 1\n",
    "        lines = [item.lower() for sublist in d.values() for item in sublist]\n",
    "    \n",
    "        # get rid of characters we don't want\n",
    "        cleaned_lines = [l.strip().replace('\\n', '').replace('\\r', '').replace('®', '').\n",
    "                         replace('™','').replace('¹', '').replace('”','') for l in lines]\n",
    "\n",
    "        # remove punc other than dash\n",
    "        ultra_cleaned_lines = [cl.translate(str.maketrans('', '', string.punctuation.replace('-',''))) \n",
    "                               for cl in cleaned_lines]\n",
    "\n",
    "        cleaned_words = [i for l in ultra_cleaned_lines for i in l.split()]\n",
    "        \n",
    "        if keyword in cleaned_words:\n",
    "            home_count += 1\n",
    "            \n",
    "            for ucl in ultra_cleaned_lines:\n",
    "                if keyword in ucl:\n",
    "                    vals[ucl] = vals.get(ucl, 0) + 1\n",
    "    \n",
    "    df = pd.DataFrame([[home_count, sorted(vals.items(), key=lambda x: x[1], reverse=True), \n",
    "                        sum(vals.values())]], \n",
    "                      columns = ['n_homes', 'data', 'sum_data_vals'])\n",
    "    df.to_csv(f'./search-results/{keyword}.csv', index=False)\n",
    "    return df"
   ]
  },
  {
   "cell_type": "code",
   "execution_count": null,
   "id": "bbb94253-1abf-4027-86a1-85525f067e30",
   "metadata": {},
   "outputs": [],
   "source": []
  },
  {
   "cell_type": "markdown",
   "id": "2f3907fe-abe6-44f2-ab1b-854abab68091",
   "metadata": {},
   "source": [
    "Okay so here's the function. Try 'usb', 'wifi', 'motion' etc"
   ]
  },
  {
   "cell_type": "code",
   "execution_count": 88,
   "id": "677d538c-57b2-4566-8a92-748b426870df",
   "metadata": {},
   "outputs": [],
   "source": [
    "df = search_homes('dimmers')"
   ]
  },
  {
   "cell_type": "code",
   "execution_count": 89,
   "id": "289acf8e-3227-4b6f-b0d2-275d1ddc9a9e",
   "metadata": {},
   "outputs": [
    {
     "data": {
      "text/plain": [
       "[('lutron caseta wireless in-wall dimmers', 8)]"
      ]
     },
     "execution_count": 89,
     "metadata": {},
     "output_type": "execute_result"
    }
   ],
   "source": [
    "df['data'][0]"
   ]
  },
  {
   "cell_type": "code",
   "execution_count": 60,
   "id": "656dfce9-bf63-4158-b260-f681d943a4ee",
   "metadata": {},
   "outputs": [],
   "source": [
    "# keyword = 'camera'\n",
    "# vals = dict()\n",
    "# home_count = 0\n",
    "# index = 0\n",
    "\n",
    "# for d in clean.Data_Dump:\n",
    "#     index += 1\n",
    "#     lines = [item.lower() for sublist in d.values() for item in sublist]\n",
    "#     cleaned_lines = [l.strip().translate(str.maketrans('', '', string.punctuation)).replace(\n",
    "#         '®', '').replace('\\n', '').replace('\\r', '') for l in lines]\n",
    "#     cleaned_words = [i for l in cleaned_lines for i in l.split()]\n",
    "    \n",
    "#     if keyword in cleaned_words:\n",
    "#         home_count += 1\n",
    "        \n",
    "#         for cl in cleaned_lines:\n",
    "#             if keyword in cl:\n",
    "#                 vals[cl] = vals.get(cl, 0) + 1"
   ]
  },
  {
   "cell_type": "code",
   "execution_count": 61,
   "id": "b159a011-1508-46fd-b67c-771207fe4297",
   "metadata": {},
   "outputs": [],
   "source": [
    "# i = 0\n",
    "# for d in clean.Data_Dump:\n",
    "#     i+=1\n",
    "#     lines = [item.lower() for sublist in d.values() for item in sublist]\n",
    "#     words = [i for l in lines for i in l.split()]\n",
    "#     if 'camera' in words:\n",
    "#         print(words)"
   ]
  },
  {
   "cell_type": "code",
   "execution_count": null,
   "id": "8606c348-f54e-4532-922d-4feed3db4e39",
   "metadata": {},
   "outputs": [],
   "source": []
  },
  {
   "cell_type": "code",
   "execution_count": null,
   "id": "694392ca-5f18-4c85-8590-c2b27f50ee3b",
   "metadata": {},
   "outputs": [],
   "source": []
  }
 ],
 "metadata": {
  "kernelspec": {
   "display_name": "Python 3 (ipykernel)",
   "language": "python",
   "name": "python3"
  },
  "language_info": {
   "codemirror_mode": {
    "name": "ipython",
    "version": 3
   },
   "file_extension": ".py",
   "mimetype": "text/x-python",
   "name": "python",
   "nbconvert_exporter": "python",
   "pygments_lexer": "ipython3",
   "version": "3.9.13"
  }
 },
 "nbformat": 4,
 "nbformat_minor": 5
}
