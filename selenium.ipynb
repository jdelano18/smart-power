{
 "cells": [
  {
   "cell_type": "code",
   "execution_count": 1,
   "id": "0f44fef1-466a-4a16-9aaa-27a6b37e276c",
   "metadata": {},
   "outputs": [],
   "source": [
    "import time\n",
    "from selenium import webdriver\n",
    "from selenium.webdriver.common.by import By\n",
    "from selenium.webdriver.support.ui import WebDriverWait\n",
    "from selenium.webdriver.support import expected_conditions as EC\n",
    "from selenium.common.exceptions import TimeoutException"
   ]
  },
  {
   "cell_type": "code",
   "execution_count": 2,
   "id": "84a552b9-aaf6-4f75-8039-bca1bd105cc6",
   "metadata": {},
   "outputs": [],
   "source": [
    "options = webdriver.ChromeOptions() "
   ]
  },
  {
   "cell_type": "code",
   "execution_count": 3,
   "id": "e5bc4b45-be0e-4b51-bd83-c2ae580b4058",
   "metadata": {},
   "outputs": [],
   "source": [
    "options.add_argument(\"start-maximized\")\n",
    "options.add_argument('disable-infobars')"
   ]
  },
  {
   "cell_type": "code",
   "execution_count": 14,
   "id": "d78aad46-c2c2-43de-b279-359c78d03cfe",
   "metadata": {},
   "outputs": [
    {
     "name": "stderr",
     "output_type": "stream",
     "text": [
      "/var/folders/90/t7yqkzn94cl53jzmdb1q21p00000gn/T/ipykernel_7425/1358387547.py:1: DeprecationWarning: executable_path has been deprecated, please pass in a Service object\n",
      "  driver=webdriver.Chrome(chrome_options=options, executable_path='/Users/jimmydelano/Downloads/chromedriver')\n",
      "/var/folders/90/t7yqkzn94cl53jzmdb1q21p00000gn/T/ipykernel_7425/1358387547.py:1: DeprecationWarning: use options instead of chrome_options\n",
      "  driver=webdriver.Chrome(chrome_options=options, executable_path='/Users/jimmydelano/Downloads/chromedriver')\n"
     ]
    }
   ],
   "source": [
    "driver=webdriver.Chrome(chrome_options=options, executable_path='/Users/jimmydelano/Downloads/chromedriver')"
   ]
  },
  {
   "cell_type": "code",
   "execution_count": 16,
   "id": "189e90af-f073-44e6-af4d-20916f652936",
   "metadata": {},
   "outputs": [],
   "source": [
    "URL = 'https://www.lennar.com/new-homes/california/sacramento'\n",
    "driver.get(URL)\n",
    "time.sleep(5)"
   ]
  },
  {
   "cell_type": "code",
   "execution_count": 25,
   "id": "f7d8f2b4-89e1-4b90-8a1c-5cd5943dc246",
   "metadata": {},
   "outputs": [
    {
     "data": {
      "text/plain": [
       "<selenium.webdriver.chrome.webdriver.WebDriver (session=\"6913015d884f0ee3d6926f8881a56c84\")>"
      ]
     },
     "execution_count": 25,
     "metadata": {},
     "output_type": "execute_result"
    }
   ],
   "source": [
    "driver"
   ]
  },
  {
   "cell_type": "code",
   "execution_count": 27,
   "id": "54c66006-0879-4848-a1b9-74e1bfc83f90",
   "metadata": {},
   "outputs": [],
   "source": [
    "driver.quit()"
   ]
  },
  {
   "cell_type": "code",
   "execution_count": null,
   "id": "501801c7-679e-4319-a5f4-9656c7f13dc2",
   "metadata": {},
   "outputs": [],
   "source": []
  }
 ],
 "metadata": {
  "kernelspec": {
   "display_name": "Python 3 (ipykernel)",
   "language": "python",
   "name": "python3"
  },
  "language_info": {
   "codemirror_mode": {
    "name": "ipython",
    "version": 3
   },
   "file_extension": ".py",
   "mimetype": "text/x-python",
   "name": "python",
   "nbconvert_exporter": "python",
   "pygments_lexer": "ipython3",
   "version": "3.9.13"
  }
 },
 "nbformat": 4,
 "nbformat_minor": 5
}
