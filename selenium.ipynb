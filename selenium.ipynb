{
 "cells": [
  {
   "cell_type": "code",
   "execution_count": 64,
   "id": "0f44fef1-466a-4a16-9aaa-27a6b37e276c",
   "metadata": {},
   "outputs": [],
   "source": [
    "from selenium import webdriver\n",
    "from selenium.webdriver.common.keys import Keys\n",
    "from selenium.webdriver.common.by import By\n",
    "import time\n",
    "from selenium.webdriver.chrome.service import Service"
   ]
  },
  {
   "cell_type": "code",
   "execution_count": 65,
   "id": "479e20b2",
   "metadata": {},
   "outputs": [],
   "source": [
    "SER = Service('/Users/jimmydelano/Downloads/chromedriver')\n",
    "OP = webdriver.ChromeOptions()\n",
    "URL = 'https://www.lennar.com/new-homes/alabama/huntsville'"
   ]
  },
  {
   "cell_type": "code",
   "execution_count": 69,
   "id": "7dfcbea6",
   "metadata": {},
   "outputs": [
    {
     "name": "stdout",
     "output_type": "stream",
     "text": [
      "No more homes to load\n"
     ]
    }
   ],
   "source": [
    "driver = webdriver.Chrome(service=SER, options=OP)\n",
    "driver.get(URL)\n",
    "driver.maximize_window()\n",
    "time.sleep(5)\n",
    "try:\n",
    "    driver.find_element(By.XPATH, \"/html/body/div[2]/div[2]/div/button\").click()\n",
    "except:\n",
    "    print(\"No cookies window. Continue...\")\n",
    "    \n",
    "time.sleep(5)\n",
    "# try:\n",
    "#     driver.find_element(By.XPATH, '//*[@id=\"main\"]/div/div[1]/div[2]/div/div[3]/div/button[1]').click()\n",
    "# except:\n",
    "#     print(\"Couldn't find list more homes...\")\n",
    "\n",
    "\n",
    "more_homes = True\n",
    "while more_homes:\n",
    "    try:\n",
    "        load_more = driver.find_element(By.XPATH, '//button[normalize-space()=\"Load more homes\"]')\n",
    "        driver.execute_script(\"arguments[0].click();\", load_more)\n",
    "        time.sleep(5)\n",
    "    except:\n",
    "        print(\"No more homes to load\")\n",
    "        more_homes = False"
   ]
  },
  {
   "cell_type": "code",
   "execution_count": null,
   "id": "fd23ba8a",
   "metadata": {},
   "outputs": [],
   "source": []
  },
  {
   "cell_type": "code",
   "execution_count": null,
   "id": "8cb7fbdd",
   "metadata": {},
   "outputs": [],
   "source": []
  },
  {
   "cell_type": "code",
   "execution_count": null,
   "id": "f7394fc6",
   "metadata": {},
   "outputs": [],
   "source": []
  },
  {
   "cell_type": "code",
   "execution_count": null,
   "id": "8d5bab9e",
   "metadata": {},
   "outputs": [],
   "source": []
  }
 ],
 "metadata": {
  "kernelspec": {
   "display_name": "Python 3 (ipykernel)",
   "language": "python",
   "name": "python3"
  },
  "language_info": {
   "codemirror_mode": {
    "name": "ipython",
    "version": 3
   },
   "file_extension": ".py",
   "mimetype": "text/x-python",
   "name": "python",
   "nbconvert_exporter": "python",
   "pygments_lexer": "ipython3",
   "version": "3.9.13"
  }
 },
 "nbformat": 4,
 "nbformat_minor": 5
}
