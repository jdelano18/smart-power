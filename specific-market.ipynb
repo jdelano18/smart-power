{
 "cells": [
  {
   "cell_type": "code",
   "execution_count": 1,
   "id": "ce092e2d-11d1-4a51-8001-a5d7eb938559",
   "metadata": {},
   "outputs": [],
   "source": [
    "import requests\n",
    "from bs4 import BeautifulSoup\n",
    "import json\n",
    "import pandas as pd"
   ]
  },
  {
   "cell_type": "code",
   "execution_count": 2,
   "id": "e4e23761-56b3-4a1d-ad04-f4f4dbcf98f5",
   "metadata": {},
   "outputs": [],
   "source": [
    "URL = \"https://www.lennar.com/new-homes/alabama/huntsville\""
   ]
  },
  {
   "cell_type": "code",
   "execution_count": 3,
   "id": "e15337f5-350a-4800-b7e5-4c1d94d31a94",
   "metadata": {},
   "outputs": [],
   "source": [
    "page = requests.get(URL)"
   ]
  },
  {
   "cell_type": "code",
   "execution_count": 4,
   "id": "0473dd23-18f3-4d7b-bafd-c988ad6b651d",
   "metadata": {},
   "outputs": [],
   "source": [
    "soup = BeautifulSoup(page.content, \"html.parser\")"
   ]
  },
  {
   "cell_type": "code",
   "execution_count": 5,
   "id": "ec6efd62-2d95-4a37-933a-4c8362046017",
   "metadata": {},
   "outputs": [],
   "source": [
    "results = soup.find(id=\"__NEXT_DATA__\")"
   ]
  },
  {
   "cell_type": "code",
   "execution_count": 6,
   "id": "6db61e70-89d2-41c3-8c4f-7ac81c7e3807",
   "metadata": {},
   "outputs": [],
   "source": [
    "data = json.loads(results.text)"
   ]
  },
  {
   "cell_type": "code",
   "execution_count": 7,
   "id": "1f5f2157-89dd-4c74-9542-369aa5af6663",
   "metadata": {},
   "outputs": [
    {
     "data": {
      "text/plain": [
       "50"
      ]
     },
     "execution_count": 7,
     "metadata": {},
     "output_type": "execute_result"
    }
   ],
   "source": [
    "i = 0\n",
    "for x in data['props']['pageProps']['initialApolloState']:\n",
    "    if x.startswith(\"Home\"):\n",
    "        # print(data['props']['pageProps']['initialApolloState'][x])\n",
    "        i += 1\n",
    "i"
   ]
  },
  {
   "cell_type": "code",
   "execution_count": 8,
   "id": "302b542a-f9db-443a-aca0-bd63f0aa9774",
   "metadata": {},
   "outputs": [],
   "source": [
    "# data['props']['pageProps']['initialApolloState']"
   ]
  },
  {
   "cell_type": "code",
   "execution_count": 9,
   "id": "e0be124f-596a-4b66-88ac-cbf852ea7d63",
   "metadata": {},
   "outputs": [],
   "source": [
    "# page.content"
   ]
  },
  {
   "cell_type": "code",
   "execution_count": 12,
   "id": "ad166f7e-b3b2-40c2-8e8c-f94eb6ec30c4",
   "metadata": {},
   "outputs": [],
   "source": [
    "# data['props']['pageProps']['initialApolloState']"
   ]
  },
  {
   "cell_type": "code",
   "execution_count": null,
   "id": "110663e7-badf-4782-b11c-d35fbbdc95a4",
   "metadata": {},
   "outputs": [],
   "source": []
  }
 ],
 "metadata": {
  "kernelspec": {
   "display_name": "Python 3 (ipykernel)",
   "language": "python",
   "name": "python3"
  },
  "language_info": {
   "codemirror_mode": {
    "name": "ipython",
    "version": 3
   },
   "file_extension": ".py",
   "mimetype": "text/x-python",
   "name": "python",
   "nbconvert_exporter": "python",
   "pygments_lexer": "ipython3",
   "version": "3.9.13"
  }
 },
 "nbformat": 4,
 "nbformat_minor": 5
}
