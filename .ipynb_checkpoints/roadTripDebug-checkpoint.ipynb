{
 "cells": [
  {
   "cell_type": "code",
   "execution_count": 1,
   "id": "24f8818b-f447-4508-8be4-7bb4c093a301",
   "metadata": {},
   "outputs": [],
   "source": [
    "import pandas as pd\n",
    "import os\n",
    "from tools import *"
   ]
  },
  {
   "cell_type": "code",
   "execution_count": 2,
   "id": "220c0469-f549-4126-b069-862d5367ab24",
   "metadata": {},
   "outputs": [],
   "source": [
    "cities = pd.read_csv('./cities.csv')"
   ]
  },
  {
   "cell_type": "code",
   "execution_count": 3,
   "id": "54255033-a960-4b7c-b467-a759c58126f2",
   "metadata": {},
   "outputs": [
    {
     "name": "stdout",
     "output_type": "stream",
     "text": [
      "Scraping data for phoenix, arizona\n",
      "\t Closed cookies window. Continue...\n",
      "\t Found 265 homes\t Loading homes\n",
      ".........."
     ]
    }
   ],
   "source": [
    "## pseudo code for pulling all of the data\n",
    "\n",
    "# set up\n",
    "SER = Service('/Users/jimmydelano/Downloads/chromedriver')\n",
    "OP = webdriver.ChromeOptions()\n",
    "\n",
    "# open selenium driver with first URL\n",
    "driver = webdriver.Chrome(service=SER, options=OP)\n",
    "driver.maximize_window()\n",
    "\n",
    "for u in cities['url'][2:3]:\n",
    "    state, city = u.split('/')[-2], u.split('/')[-1]\n",
    "    print(f\"Scraping data for {city}, {state}\")\n",
    "    \n",
    "    driver.get(u)\n",
    "    time.sleep(15)\n",
    "    \n",
    "    closeCookies(driver)\n",
    "    \n",
    "    total = driver.find_element(By.XPATH, '//*[@id=\"main\"]/div/div[1]/div[2]/div/div[1]/div/div[4]/div[1]/div/div[1]').text.splitlines()[0]\n",
    "    assert 'homes' in total\n",
    "    total = int(total.split('homes')[0])\n",
    "    print(f\"\\t Found {total} homes\")\n",
    "    time.sleep(3)\n",
    "    \n",
    "    loadMoreHomes(driver)\n",
    "    \n",
    "#     df = scrapeItUp(driver)\n",
    "#     assert total == df.shape[0], \"Problem scraping the homes\"\n",
    "#     # print(f'{total}. Done!', end='')\n",
    "    \n",
    "#     df_clean = cleanItUp(df)\n",
    "\n",
    "#     outdir = f'./data/{state}'\n",
    "#     if not os.path.exists(outdir):\n",
    "#         os.mkdir(outdir)\n",
    "\n",
    "#     df_clean.to_csv(f'./data/{state}/{city}.csv', index = False)\n",
    "    "
   ]
  },
  {
   "cell_type": "code",
   "execution_count": 4,
   "id": "d6c7d8d2-65d6-4f23-a144-486282ae929b",
   "metadata": {},
   "outputs": [
    {
     "name": "stdout",
     "output_type": "stream",
     "text": [
      "..........................265. Done!\n"
     ]
    }
   ],
   "source": [
    "df = scrapeItUp(driver)"
   ]
  },
  {
   "cell_type": "code",
   "execution_count": null,
   "id": "2f177499-c06c-4c55-9a78-024e3033fdea",
   "metadata": {},
   "outputs": [],
   "source": []
  }
 ],
 "metadata": {
  "kernelspec": {
   "display_name": "Python 3 (ipykernel)",
   "language": "python",
   "name": "python3"
  },
  "language_info": {
   "codemirror_mode": {
    "name": "ipython",
    "version": 3
   },
   "file_extension": ".py",
   "mimetype": "text/x-python",
   "name": "python",
   "nbconvert_exporter": "python",
   "pygments_lexer": "ipython3",
   "version": "3.9.13"
  }
 },
 "nbformat": 4,
 "nbformat_minor": 5
}
