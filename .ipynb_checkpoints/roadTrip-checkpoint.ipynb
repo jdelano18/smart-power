{
 "cells": [
  {
   "cell_type": "code",
   "execution_count": 1,
   "id": "6b5e5341-f7a2-437f-a02c-24f0f0a3fd21",
   "metadata": {},
   "outputs": [],
   "source": [
    "## roadTrip.ipynb -- visiting each city (and pulling all the data)"
   ]
  },
  {
   "cell_type": "code",
   "execution_count": 1,
   "id": "6a9722a6",
   "metadata": {},
   "outputs": [],
   "source": [
    "import pandas as pd\n",
    "import os"
   ]
  },
  {
   "cell_type": "code",
   "execution_count": 2,
   "id": "47963b2e",
   "metadata": {},
   "outputs": [],
   "source": [
    "cities = pd.read_csv('./cities.csv')"
   ]
  },
  {
   "cell_type": "code",
   "execution_count": 8,
   "id": "c182dfcb",
   "metadata": {},
   "outputs": [
    {
     "data": {
      "text/html": [
       "<div>\n",
       "<style scoped>\n",
       "    .dataframe tbody tr th:only-of-type {\n",
       "        vertical-align: middle;\n",
       "    }\n",
       "\n",
       "    .dataframe tbody tr th {\n",
       "        vertical-align: top;\n",
       "    }\n",
       "\n",
       "    .dataframe thead th {\n",
       "        text-align: right;\n",
       "    }\n",
       "</style>\n",
       "<table border=\"1\" class=\"dataframe\">\n",
       "  <thead>\n",
       "    <tr style=\"text-align: right;\">\n",
       "      <th></th>\n",
       "      <th>market</th>\n",
       "      <th>state</th>\n",
       "      <th>url</th>\n",
       "    </tr>\n",
       "  </thead>\n",
       "  <tbody>\n",
       "    <tr>\n",
       "      <th>64</th>\n",
       "      <td>salt-lake-city</td>\n",
       "      <td>utah</td>\n",
       "      <td>https://www.lennar.com/new-homes/utah/salt-lak...</td>\n",
       "    </tr>\n",
       "    <tr>\n",
       "      <th>65</th>\n",
       "      <td>jefferson-county</td>\n",
       "      <td>west-virginia</td>\n",
       "      <td>https://www.lennar.com/new-homes/west-virginia...</td>\n",
       "    </tr>\n",
       "    <tr>\n",
       "      <th>66</th>\n",
       "      <td>boise</td>\n",
       "      <td>idaho</td>\n",
       "      <td>https://www.lennar.com/new-homes/idaho/boise</td>\n",
       "    </tr>\n",
       "    <tr>\n",
       "      <th>67</th>\n",
       "      <td>madison</td>\n",
       "      <td>wisconsin</td>\n",
       "      <td>https://www.lennar.com/new-homes/wisconsin/mad...</td>\n",
       "    </tr>\n",
       "    <tr>\n",
       "      <th>68</th>\n",
       "      <td>oklahoma-city</td>\n",
       "      <td>oklahoma</td>\n",
       "      <td>https://www.lennar.com/new-homes/oklahoma/okla...</td>\n",
       "    </tr>\n",
       "  </tbody>\n",
       "</table>\n",
       "</div>"
      ],
      "text/plain": [
       "              market          state  \\\n",
       "64    salt-lake-city           utah   \n",
       "65  jefferson-county  west-virginia   \n",
       "66             boise          idaho   \n",
       "67           madison      wisconsin   \n",
       "68     oklahoma-city       oklahoma   \n",
       "\n",
       "                                                  url  \n",
       "64  https://www.lennar.com/new-homes/utah/salt-lak...  \n",
       "65  https://www.lennar.com/new-homes/west-virginia...  \n",
       "66       https://www.lennar.com/new-homes/idaho/boise  \n",
       "67  https://www.lennar.com/new-homes/wisconsin/mad...  \n",
       "68  https://www.lennar.com/new-homes/oklahoma/okla...  "
      ]
     },
     "execution_count": 8,
     "metadata": {},
     "output_type": "execute_result"
    }
   ],
   "source": [
    "cities.tail()"
   ]
  },
  {
   "cell_type": "code",
   "execution_count": 6,
   "id": "d9f2249e-2ad5-456b-96ae-43d7b8acd69c",
   "metadata": {},
   "outputs": [],
   "source": [
    "from tools import *"
   ]
  },
  {
   "cell_type": "code",
   "execution_count": 7,
   "id": "e457bab0",
   "metadata": {
    "tags": []
   },
   "outputs": [
    {
     "name": "stdout",
     "output_type": "stream",
     "text": [
      "Scraping data for salt-lake-city, utah\n",
      "\t Closed cookies window. Continue...\n",
      "\t Found 74 homes\n",
      "\t Loading homes..\n",
      "\t Scraping.......74. Done!\n",
      "Scraping data for jefferson-county, west-virginia\n",
      "\t No cookies window. Continue...\n",
      "\t Found 24 homes\n",
      "\t Loading homes\n",
      "\t Scraping..24. Done!\n",
      "Scraping data for boise, idaho\n",
      "\t No cookies window. Continue...\n",
      "\t Found 22 homes\n",
      "\t Loading homes\n",
      "\t Scraping..22. Done!\n",
      "Scraping data for madison, wisconsin\n",
      "\t No cookies window. Continue...\n",
      "\t Found 27 homes\n",
      "\t Loading homes.\n",
      "\t Scraping..27. Done!\n",
      "Scraping data for oklahoma-city, oklahoma\n",
      "\t No cookies window. Continue...\n",
      "\t Found 0 homes\n",
      "\t Loading homes\n",
      "\t Scraping**** Some other data format issue ****\n"
     ]
    }
   ],
   "source": [
    "## pseudo code for pulling all of the data\n",
    "\n",
    "# set up\n",
    "SER = Service('/Users/jimmydelano/Downloads/chromedriver')\n",
    "OP = webdriver.ChromeOptions()\n",
    "\n",
    "# open selenium driver with first URL\n",
    "driver = webdriver.Chrome(service=SER, options=OP)\n",
    "driver.maximize_window()\n",
    "\n",
    "for u in cities['url'][64:]:\n",
    "    state, city = u.split('/')[-2], u.split('/')[-1]\n",
    "    print(f\"Scraping data for {city}, {state}\")\n",
    "    \n",
    "    driver.get(u)\n",
    "    time.sleep(15)\n",
    "    \n",
    "    closeCookies(driver)\n",
    "    \n",
    "    total = driver.find_element(By.XPATH, '//*[@id=\"main\"]/div/div[1]/div[2]/div/div[1]/div/div[4]/div[1]/div/div[1]').text.splitlines()[0]\n",
    "    assert 'home' in total\n",
    "    total = int(total.split('home')[0])\n",
    "    print(f\"\\t Found {total} homes\")\n",
    "    time.sleep(3)\n",
    "    \n",
    "    loadMoreHomes(driver)\n",
    "    \n",
    "    df = scrapeItUp(driver)\n",
    "    assert total == df.shape[0], \"Problem scraping. Fuck me\"\n",
    "    # print(f'{total}. Done!', end='')\n",
    "    \n",
    "    df_clean = cleanItUp(df)\n",
    "\n",
    "    outdir = f'./data/{state}'\n",
    "    if not os.path.exists(outdir):\n",
    "        os.mkdir(outdir)\n",
    "\n",
    "    df_clean.to_csv(f'./data/{state}/{city}.csv', index = False)\n",
    "    time.sleep(5)\n",
    "    "
   ]
  },
  {
   "cell_type": "code",
   "execution_count": null,
   "id": "83266584-55d2-4bee-8f73-ccc76cd837dc",
   "metadata": {},
   "outputs": [],
   "source": []
  },
  {
   "cell_type": "code",
   "execution_count": null,
   "id": "87c70f6f-4165-40be-a40c-e187005288f6",
   "metadata": {},
   "outputs": [],
   "source": []
  }
 ],
 "metadata": {
  "kernelspec": {
   "display_name": "Python 3 (ipykernel)",
   "language": "python",
   "name": "python3"
  },
  "language_info": {
   "codemirror_mode": {
    "name": "ipython",
    "version": 3
   },
   "file_extension": ".py",
   "mimetype": "text/x-python",
   "name": "python",
   "nbconvert_exporter": "python",
   "pygments_lexer": "ipython3",
   "version": "3.9.13"
  }
 },
 "nbformat": 4,
 "nbformat_minor": 5
}
