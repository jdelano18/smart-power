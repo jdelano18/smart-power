{
 "cells": [
  {
   "cell_type": "markdown",
   "id": "7191136e-ff23-401b-9460-8612f8e3cd09",
   "metadata": {},
   "source": [
    "## Start of project. Finding all the urls to each city on their website"
   ]
  },
  {
   "cell_type": "code",
   "execution_count": 1,
   "id": "adf51b56-d575-462e-8adc-e21298c44627",
   "metadata": {},
   "outputs": [],
   "source": [
    "import requests\n",
    "\n",
    "URL = \"https://www.lennar.com/\"\n",
    "page = requests.get(URL)\n",
    "\n",
    "# print(page.text)"
   ]
  },
  {
   "cell_type": "code",
   "execution_count": 2,
   "id": "bf57e693-66eb-466e-870d-6195f1f6f8a2",
   "metadata": {},
   "outputs": [],
   "source": [
    "from bs4 import BeautifulSoup"
   ]
  },
  {
   "cell_type": "code",
   "execution_count": 3,
   "id": "f5bfe490-f068-4e7d-9932-c3a8a5f3de5c",
   "metadata": {},
   "outputs": [],
   "source": [
    "soup = BeautifulSoup(page.content, \"html.parser\")"
   ]
  },
  {
   "cell_type": "code",
   "execution_count": null,
   "id": "aa195b7d-0ba6-464d-a4eb-1346bd98e081",
   "metadata": {},
   "outputs": [],
   "source": []
  },
  {
   "cell_type": "code",
   "execution_count": null,
   "id": "36a77603-f092-408b-9016-7c38849dd2d7",
   "metadata": {},
   "outputs": [],
   "source": []
  },
  {
   "cell_type": "code",
   "execution_count": 4,
   "id": "693bd527-cae1-4b16-ab72-d09aec497f7f",
   "metadata": {},
   "outputs": [],
   "source": [
    "# page.text"
   ]
  },
  {
   "cell_type": "code",
   "execution_count": 5,
   "id": "33963770-a3ba-4d8b-968e-49eb33813a6c",
   "metadata": {},
   "outputs": [],
   "source": [
    "results = soup.find(id=\"__NEXT_DATA__\")"
   ]
  },
  {
   "cell_type": "code",
   "execution_count": 6,
   "id": "771d6c4b-93f1-4719-b29b-f1a99c0cdad8",
   "metadata": {},
   "outputs": [],
   "source": [
    "import json"
   ]
  },
  {
   "cell_type": "code",
   "execution_count": 7,
   "id": "f67c0f96-4902-44c5-ad19-73be846ece3a",
   "metadata": {},
   "outputs": [],
   "source": [
    "data = json.loads(results.text)"
   ]
  },
  {
   "cell_type": "code",
   "execution_count": 8,
   "id": "b5930724-6beb-4146-b09f-4cb918429092",
   "metadata": {},
   "outputs": [],
   "source": [
    "markets = dict()\n",
    "states = dict()"
   ]
  },
  {
   "cell_type": "code",
   "execution_count": 9,
   "id": "c83426c9-e0fa-4e34-8b3e-c744bcdf22c7",
   "metadata": {},
   "outputs": [],
   "source": [
    "for element in data['props']['pageProps']['initialApolloState']:\n",
    "    if element.startswith(\"Market\"):\n",
    "        tmp = data['props']['pageProps']['initialApolloState'][element]\n",
    "        # print(tmp['id'])\n",
    "        # print(tmp['name'])\n",
    "        # print(tmp['slug'])\n",
    "        \n",
    "#        markets[tmp['slug']] = tmp['id']\n",
    "        markets.setdefault(tmp['slug'], []).append(tmp['id'])\n",
    "\n",
    "        \n",
    "    elif element.startswith(\"State\"):\n",
    "        tmp = data['props']['pageProps']['initialApolloState'][element]\n",
    "        # print(tmp['id'])\n",
    "        # print([x.get('__ref').split(\"MarketType:\")[1] for x in tmp['markets']])\n",
    "        \n",
    "        states[tmp['slug']] = [x.get('__ref').split(\"MarketType:\")[1] for x in tmp['markets']]\n",
    "        \n",
    "    else:\n",
    "        continue"
   ]
  },
  {
   "cell_type": "code",
   "execution_count": 10,
   "id": "d3068f0d-9b63-4801-8600-0f3c329d5300",
   "metadata": {},
   "outputs": [
    {
     "data": {
      "text/plain": [
       "26"
      ]
     },
     "execution_count": 10,
     "metadata": {},
     "output_type": "execute_result"
    }
   ],
   "source": [
    "len(states)"
   ]
  },
  {
   "cell_type": "code",
   "execution_count": 11,
   "id": "0b791206-57d0-4bae-89bd-89fb463a8d96",
   "metadata": {},
   "outputs": [
    {
     "data": {
      "text/plain": [
       "72"
      ]
     },
     "execution_count": 11,
     "metadata": {},
     "output_type": "execute_result"
    }
   ],
   "source": [
    "len(markets)"
   ]
  },
  {
   "cell_type": "code",
   "execution_count": 12,
   "id": "b9aa4955-26b6-4d34-a76b-59cbd580fd22",
   "metadata": {},
   "outputs": [],
   "source": [
    "# found repeats\n",
    "# brought to same site under lenar even though they're listed under different states\n",
    "# we'll reflect that in the state list"
   ]
  },
  {
   "cell_type": "code",
   "execution_count": 13,
   "id": "8450456e-5fc8-4527-8f38-861fedeeeafb",
   "metadata": {},
   "outputs": [
    {
     "data": {
      "text/plain": [
       "{'charlotte', 'greater-philadelphia-area', 'inland-northwest'}"
      ]
     },
     "execution_count": 13,
     "metadata": {},
     "output_type": "execute_result"
    }
   ],
   "source": [
    "{i for i in markets if len(markets[i])==2}"
   ]
  },
  {
   "cell_type": "code",
   "execution_count": 14,
   "id": "024b5d22-7702-445e-9859-09df5c9bc556",
   "metadata": {},
   "outputs": [
    {
     "data": {
      "text/plain": [
       "{'alabama': ['mk_161', 'mk_160'],\n",
       " 'arizona': ['mk_54', 'mk_74'],\n",
       " 'california': ['mk_148',\n",
       "  'mk_32',\n",
       "  'mk_37',\n",
       "  'mk_18',\n",
       "  'mk_63',\n",
       "  'mk_66',\n",
       "  'mk_67'],\n",
       " 'colorado': ['mk_17'],\n",
       " 'delaware': ['mk_112', 'mk_131'],\n",
       " 'florida': ['mk_24',\n",
       "  'mk_34',\n",
       "  'mk_40',\n",
       "  'mk_25',\n",
       "  'mk_50',\n",
       "  'mk_52',\n",
       "  'mk_55',\n",
       "  'mk_109',\n",
       "  'mk_134',\n",
       "  'mk_65',\n",
       "  'mk_71',\n",
       "  'mk_72',\n",
       "  'mk_103'],\n",
       " 'illinois': ['mk_9'],\n",
       " 'maryland': ['mk_145', 'mk_144', 'mk_70', 'mk_146'],\n",
       " 'minnesota': ['mk_42'],\n",
       " 'north-carolina': ['mk_7', 'mk_154', 'mk_57', 'mk_141'],\n",
       " 'new-jersey': ['mk_147'],\n",
       " 'nevada': ['mk_38', 'mk_58'],\n",
       " 'pennsylvania': ['mk_140', 'mk_100', 'mk_80'],\n",
       " 'south-carolina': ['mk_10', 'mk_8', 'mk_159', 'mk_26', 'mk_152', 'mk_47'],\n",
       " 'texas': ['mk_1', 'mk_163', 'mk_14', 'mk_28', 'mk_64'],\n",
       " 'virginia': ['mk_157', 'mk_49', 'mk_77'],\n",
       " 'georgia': ['mk_82', 'mk_151'],\n",
       " 'washington': ['mk_156', 'mk_86', 'mk_87'],\n",
       " 'oregon': ['mk_165', 'mk_88', 'mk_158'],\n",
       " 'tennessee': ['mk_93'],\n",
       " 'indiana': ['mk_117', 'mk_115'],\n",
       " 'utah': ['mk_132'],\n",
       " 'west-virginia': ['mk_166', 'mk_143'],\n",
       " 'idaho': ['mk_150', 'mk_153'],\n",
       " 'wisconsin': ['mk_155'],\n",
       " 'oklahoma': ['mk_164']}"
      ]
     },
     "execution_count": 14,
     "metadata": {},
     "output_type": "execute_result"
    }
   ],
   "source": [
    "states"
   ]
  },
  {
   "cell_type": "code",
   "execution_count": 15,
   "id": "af222d21-7914-49e3-89af-3cfa96a87570",
   "metadata": {},
   "outputs": [],
   "source": [
    "data = dict()\n",
    "for name, lst in markets.items():\n",
    "    data[name] = [s for s in states if lst[0] in states[s]][0]"
   ]
  },
  {
   "cell_type": "code",
   "execution_count": 16,
   "id": "a63c9c15-3cc5-46ce-990e-92927612aaa0",
   "metadata": {},
   "outputs": [
    {
     "data": {
      "text/plain": [
       "{'coastal-alabama': 'alabama',\n",
       " 'huntsville': 'alabama',\n",
       " 'phoenix': 'arizona',\n",
       " 'tucson': 'arizona',\n",
       " 'central-california': 'california',\n",
       " 'inland-empire': 'california',\n",
       " 'la-orange-county': 'california',\n",
       " 'palm-springs-coachella': 'california',\n",
       " 'sacramento': 'california',\n",
       " 'san-diego': 'california',\n",
       " 'san-francisco-bay-area': 'california',\n",
       " 'denver': 'colorado',\n",
       " 'greater-philadelphia-area': 'delaware',\n",
       " 'sussex-county': 'delaware',\n",
       " 'ft-lauderdale': 'florida',\n",
       " 'jacksonville-st-augustine': 'florida',\n",
       " 'miami': 'florida',\n",
       " 'naples-ft-myers': 'florida',\n",
       " 'ocala': 'florida',\n",
       " 'orlando': 'florida',\n",
       " 'palm-beach': 'florida',\n",
       " 'pensacola': 'florida',\n",
       " 'perdido-key': 'florida',\n",
       " 'sarasota-manatee': 'florida',\n",
       " 'space-coast-melbourne': 'florida',\n",
       " 'tampa-manatee': 'florida',\n",
       " 'treasure-coast': 'florida',\n",
       " 'chicago': 'illinois',\n",
       " 'central-maryland': 'maryland',\n",
       " 'eastern-shore': 'maryland',\n",
       " 'md-dc-metro': 'maryland',\n",
       " 'southern-maryland': 'maryland',\n",
       " 'minneapolis-st-paul': 'minnesota',\n",
       " 'charlotte': 'north-carolina',\n",
       " 'greensboro': 'north-carolina',\n",
       " 'raleigh': 'north-carolina',\n",
       " 'wilmington': 'north-carolina',\n",
       " 'new-jersey': 'new-jersey',\n",
       " 'las-vegas': 'nevada',\n",
       " 'reno': 'nevada',\n",
       " 'adams-county': 'pennsylvania',\n",
       " 'york-county': 'pennsylvania',\n",
       " 'charleston': 'south-carolina',\n",
       " 'columbia': 'south-carolina',\n",
       " 'greenville': 'south-carolina',\n",
       " 'hilton-head-bluffton': 'south-carolina',\n",
       " 'myrtle-beach': 'south-carolina',\n",
       " 'austin-central-texas': 'texas',\n",
       " 'corpus-christi': 'texas',\n",
       " 'dallas-ft-worth': 'texas',\n",
       " 'houston': 'texas',\n",
       " 'san-antonio': 'texas',\n",
       " 'richmond-area': 'virginia',\n",
       " 'va-dc-metro': 'virginia',\n",
       " 'williamsburg': 'virginia',\n",
       " 'atlanta': 'georgia',\n",
       " 'savannah': 'georgia',\n",
       " 'inland-northwest': 'washington',\n",
       " 'seattle': 'washington',\n",
       " 'vancouver': 'washington',\n",
       " 'central-oregon': 'oregon',\n",
       " 'portland': 'oregon',\n",
       " 'willamette-valley': 'oregon',\n",
       " 'nashville': 'tennessee',\n",
       " 'indianapolis': 'indiana',\n",
       " 'northwest-indiana': 'indiana',\n",
       " 'salt-lake-city': 'utah',\n",
       " 'berkeley-county': 'west-virginia',\n",
       " 'jefferson-county': 'west-virginia',\n",
       " 'boise': 'idaho',\n",
       " 'madison': 'wisconsin',\n",
       " 'oklahoma-city': 'oklahoma'}"
      ]
     },
     "execution_count": 16,
     "metadata": {},
     "output_type": "execute_result"
    }
   ],
   "source": [
    "data"
   ]
  },
  {
   "cell_type": "code",
   "execution_count": 17,
   "id": "025492c3-4955-47aa-9299-8b9292cc8c15",
   "metadata": {},
   "outputs": [],
   "source": [
    "import pandas as pd"
   ]
  },
  {
   "cell_type": "code",
   "execution_count": 18,
   "id": "e80c35e6-969d-4a0c-ae08-c06afe3f1790",
   "metadata": {},
   "outputs": [],
   "source": [
    "df = pd.DataFrame(list(data.items()), columns = [\"market\", \"state\"])"
   ]
  },
  {
   "cell_type": "code",
   "execution_count": 19,
   "id": "0e2b92d0-a7e7-49e1-81d9-148839ef1d87",
   "metadata": {},
   "outputs": [],
   "source": [
    "df['url'] = \"https://www.lennar.com/new-homes/\"+df[\"state\"]+\"/\"+df[\"market\"]"
   ]
  },
  {
   "cell_type": "code",
   "execution_count": 20,
   "id": "fc7f574e-42b1-4540-b6d9-3b2400677bd8",
   "metadata": {},
   "outputs": [
    {
     "data": {
      "text/html": [
       "<div>\n",
       "<style scoped>\n",
       "    .dataframe tbody tr th:only-of-type {\n",
       "        vertical-align: middle;\n",
       "    }\n",
       "\n",
       "    .dataframe tbody tr th {\n",
       "        vertical-align: top;\n",
       "    }\n",
       "\n",
       "    .dataframe thead th {\n",
       "        text-align: right;\n",
       "    }\n",
       "</style>\n",
       "<table border=\"1\" class=\"dataframe\">\n",
       "  <thead>\n",
       "    <tr style=\"text-align: right;\">\n",
       "      <th></th>\n",
       "      <th>market</th>\n",
       "      <th>state</th>\n",
       "      <th>url</th>\n",
       "    </tr>\n",
       "  </thead>\n",
       "  <tbody>\n",
       "    <tr>\n",
       "      <th>0</th>\n",
       "      <td>coastal-alabama</td>\n",
       "      <td>alabama</td>\n",
       "      <td>https://www.lennar.com/new-homes/alabama/coast...</td>\n",
       "    </tr>\n",
       "    <tr>\n",
       "      <th>1</th>\n",
       "      <td>huntsville</td>\n",
       "      <td>alabama</td>\n",
       "      <td>https://www.lennar.com/new-homes/alabama/hunts...</td>\n",
       "    </tr>\n",
       "    <tr>\n",
       "      <th>2</th>\n",
       "      <td>phoenix</td>\n",
       "      <td>arizona</td>\n",
       "      <td>https://www.lennar.com/new-homes/arizona/phoenix</td>\n",
       "    </tr>\n",
       "    <tr>\n",
       "      <th>3</th>\n",
       "      <td>tucson</td>\n",
       "      <td>arizona</td>\n",
       "      <td>https://www.lennar.com/new-homes/arizona/tucson</td>\n",
       "    </tr>\n",
       "    <tr>\n",
       "      <th>4</th>\n",
       "      <td>central-california</td>\n",
       "      <td>california</td>\n",
       "      <td>https://www.lennar.com/new-homes/california/ce...</td>\n",
       "    </tr>\n",
       "  </tbody>\n",
       "</table>\n",
       "</div>"
      ],
      "text/plain": [
       "               market       state  \\\n",
       "0     coastal-alabama     alabama   \n",
       "1          huntsville     alabama   \n",
       "2             phoenix     arizona   \n",
       "3              tucson     arizona   \n",
       "4  central-california  california   \n",
       "\n",
       "                                                 url  \n",
       "0  https://www.lennar.com/new-homes/alabama/coast...  \n",
       "1  https://www.lennar.com/new-homes/alabama/hunts...  \n",
       "2   https://www.lennar.com/new-homes/arizona/phoenix  \n",
       "3    https://www.lennar.com/new-homes/arizona/tucson  \n",
       "4  https://www.lennar.com/new-homes/california/ce...  "
      ]
     },
     "execution_count": 20,
     "metadata": {},
     "output_type": "execute_result"
    }
   ],
   "source": [
    "df.head()"
   ]
  },
  {
   "cell_type": "code",
   "execution_count": 21,
   "id": "8c6de76c-6190-4383-833e-fd78796b34eb",
   "metadata": {},
   "outputs": [
    {
     "data": {
      "text/plain": [
       "'https://www.lennar.com/new-homes/alabama/coastal-alabama'"
      ]
     },
     "execution_count": 21,
     "metadata": {},
     "output_type": "execute_result"
    }
   ],
   "source": [
    "df.url[0]"
   ]
  },
  {
   "cell_type": "code",
   "execution_count": 23,
   "id": "ff0e6faf-a942-4c76-98c5-94f3b20c9977",
   "metadata": {},
   "outputs": [],
   "source": [
    "df.to_csv('./tmp.csv', index=False)"
   ]
  },
  {
   "cell_type": "code",
   "execution_count": null,
   "id": "17d3c3dd-27e8-4fcf-8224-7cfd46d10d26",
   "metadata": {},
   "outputs": [],
   "source": []
  }
 ],
 "metadata": {
  "kernelspec": {
   "display_name": "Python 3 (ipykernel)",
   "language": "python",
   "name": "python3"
  },
  "language_info": {
   "codemirror_mode": {
    "name": "ipython",
    "version": 3
   },
   "file_extension": ".py",
   "mimetype": "text/x-python",
   "name": "python",
   "nbconvert_exporter": "python",
   "pygments_lexer": "ipython3",
   "version": "3.9.13"
  }
 },
 "nbformat": 4,
 "nbformat_minor": 5
}
