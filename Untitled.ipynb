{
 "cells": [
  {
   "cell_type": "code",
   "execution_count": 6,
   "id": "74599c5f-0dc5-49dd-9af4-5e24efa8bab7",
   "metadata": {},
   "outputs": [
    {
     "name": "stdout",
     "output_type": "stream",
     "text": [
      "[]\n"
     ]
    }
   ],
   "source": [
    "from selenium import webdriver\n",
    "from webdriver_manager.chrome import ChromeDriverManager\n",
    "from selenium.webdriver.chrome.service import Service\n",
    "from selenium.webdriver.common.by import By\n",
    "\n",
    "# Set up the Selenium driver (make sure to provide the path to your webdriver executable)\n",
    "s=Service(ChromeDriverManager().install())    \n",
    "driver = webdriver.Chrome(service=s)\n",
    "driver.maximize_window()\n",
    "\n",
    "# Navigate to the website\n",
    "driver.get(\"https://www.lennar.com/new-homes/alabama/coastal-alabama\")\n",
    "\n",
    "# Find all elements with an \"href\" attribute that contains the desired pattern\n",
    "links = driver.find_elements(By.CSS_SELECTOR, 'a[href*=\"new-homes/alabama/coastal-alabama/\"]')\n",
    "print(links)\n",
    "\n",
    "# Extract and print the URLs\n",
    "for link in links:\n",
    "    url = link.get_attribute(\"href\")\n",
    "    if \"new-homes/alabama/coastal-alabama/\" in url:\n",
    "        print(url)\n",
    "\n",
    "# Close the browser\n",
    "driver.quit()\n"
   ]
  },
  {
   "cell_type": "code",
   "execution_count": null,
   "id": "d5361ec5-0c6a-4e70-99f7-a5523ad2b840",
   "metadata": {},
   "outputs": [],
   "source": []
  }
 ],
 "metadata": {
  "kernelspec": {
   "display_name": "Python 3 (ipykernel)",
   "language": "python",
   "name": "python3"
  },
  "language_info": {
   "codemirror_mode": {
    "name": "ipython",
    "version": 3
   },
   "file_extension": ".py",
   "mimetype": "text/x-python",
   "name": "python",
   "nbconvert_exporter": "python",
   "pygments_lexer": "ipython3",
   "version": "3.9.13"
  }
 },
 "nbformat": 4,
 "nbformat_minor": 5
}
