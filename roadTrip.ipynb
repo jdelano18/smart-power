{
 "cells": [
  {
   "cell_type": "code",
   "execution_count": 1,
   "id": "6b5e5341-f7a2-437f-a02c-24f0f0a3fd21",
   "metadata": {},
   "outputs": [],
   "source": [
    "## roadTrip.ipynb -- visiting each city (and pulling all the data)"
   ]
  },
  {
   "cell_type": "code",
   "execution_count": 1,
   "id": "6a9722a6",
   "metadata": {},
   "outputs": [],
   "source": [
    "import pandas as pd\n",
    "import os"
   ]
  },
  {
   "cell_type": "code",
   "execution_count": 2,
   "id": "47963b2e",
   "metadata": {},
   "outputs": [],
   "source": [
    "cities = pd.read_csv('./cities.csv')"
   ]
  },
  {
   "cell_type": "code",
   "execution_count": 3,
   "id": "c182dfcb",
   "metadata": {},
   "outputs": [
    {
     "data": {
      "text/html": [
       "<div>\n",
       "<style scoped>\n",
       "    .dataframe tbody tr th:only-of-type {\n",
       "        vertical-align: middle;\n",
       "    }\n",
       "\n",
       "    .dataframe tbody tr th {\n",
       "        vertical-align: top;\n",
       "    }\n",
       "\n",
       "    .dataframe thead th {\n",
       "        text-align: right;\n",
       "    }\n",
       "</style>\n",
       "<table border=\"1\" class=\"dataframe\">\n",
       "  <thead>\n",
       "    <tr style=\"text-align: right;\">\n",
       "      <th></th>\n",
       "      <th>market</th>\n",
       "      <th>state</th>\n",
       "      <th>url</th>\n",
       "    </tr>\n",
       "  </thead>\n",
       "  <tbody>\n",
       "    <tr>\n",
       "      <th>0</th>\n",
       "      <td>coastal-alabama</td>\n",
       "      <td>alabama</td>\n",
       "      <td>https://www.lennar.com/new-homes/alabama/coast...</td>\n",
       "    </tr>\n",
       "    <tr>\n",
       "      <th>1</th>\n",
       "      <td>huntsville</td>\n",
       "      <td>alabama</td>\n",
       "      <td>https://www.lennar.com/new-homes/alabama/hunts...</td>\n",
       "    </tr>\n",
       "    <tr>\n",
       "      <th>2</th>\n",
       "      <td>phoenix</td>\n",
       "      <td>arizona</td>\n",
       "      <td>https://www.lennar.com/new-homes/arizona/phoenix</td>\n",
       "    </tr>\n",
       "    <tr>\n",
       "      <th>3</th>\n",
       "      <td>tucson</td>\n",
       "      <td>arizona</td>\n",
       "      <td>https://www.lennar.com/new-homes/arizona/tucson</td>\n",
       "    </tr>\n",
       "    <tr>\n",
       "      <th>4</th>\n",
       "      <td>central-california</td>\n",
       "      <td>california</td>\n",
       "      <td>https://www.lennar.com/new-homes/california/ce...</td>\n",
       "    </tr>\n",
       "  </tbody>\n",
       "</table>\n",
       "</div>"
      ],
      "text/plain": [
       "               market       state  \\\n",
       "0     coastal-alabama     alabama   \n",
       "1          huntsville     alabama   \n",
       "2             phoenix     arizona   \n",
       "3              tucson     arizona   \n",
       "4  central-california  california   \n",
       "\n",
       "                                                 url  \n",
       "0  https://www.lennar.com/new-homes/alabama/coast...  \n",
       "1  https://www.lennar.com/new-homes/alabama/hunts...  \n",
       "2   https://www.lennar.com/new-homes/arizona/phoenix  \n",
       "3    https://www.lennar.com/new-homes/arizona/tucson  \n",
       "4  https://www.lennar.com/new-homes/california/ce...  "
      ]
     },
     "execution_count": 3,
     "metadata": {},
     "output_type": "execute_result"
    }
   ],
   "source": [
    "cities.head()"
   ]
  },
  {
   "cell_type": "code",
   "execution_count": 6,
   "id": "d09b8f7e-6f72-4354-8c77-0aa5cf8e2fcd",
   "metadata": {},
   "outputs": [
    {
     "data": {
      "text/plain": [
       "(69, 3)"
      ]
     },
     "execution_count": 6,
     "metadata": {},
     "output_type": "execute_result"
    }
   ],
   "source": [
    "cities.shape"
   ]
  },
  {
   "cell_type": "code",
   "execution_count": 4,
   "id": "d9f2249e-2ad5-456b-96ae-43d7b8acd69c",
   "metadata": {},
   "outputs": [],
   "source": [
    "from tools import *"
   ]
  },
  {
   "cell_type": "code",
   "execution_count": 5,
   "id": "e457bab0",
   "metadata": {
    "tags": []
   },
   "outputs": [
    {
     "name": "stdout",
     "output_type": "stream",
     "text": [
      "Scraping data for san-francisco-bay-area, california\n",
      "\t Closed cookies window. Continue...\n",
      "\t Found 180 homes\n",
      "\t Loading homes.......\n",
      "\t Scraping..................180. Done!\n",
      "Scraping data for denver, colorado\n",
      "\t No cookies window. Continue...\n",
      "\t Found 277 homes\n",
      "\t Loading homes...........\n",
      "\t Scraping...........................277. Done!\n",
      "Scraping data for greater-philadelphia-area, delaware\n",
      "\t No cookies window. Continue...\n",
      "\t Found 92 homes\n",
      "\t Loading homes...\n",
      "\t Scraping.........92. Done!\n",
      "Scraping data for sussex-county, delaware\n",
      "\t No cookies window. Continue...\n",
      "\t Found 91 homes\n",
      "\t Loading homes...\n",
      "\t Scraping.........91. Done!\n",
      "Scraping data for ft-lauderdale, florida\n",
      "\t No cookies window. Continue...\n",
      "\t Found 45 homes\n",
      "\t Loading homes.\n",
      "\t Scraping....45. Done!\n",
      "Scraping data for jacksonville-st-augustine, florida\n",
      "\t No cookies window. Continue...\n",
      "\t Found 193 homes\n",
      "\t Loading homes.......\n",
      "\t Scraping...................193. Done!\n",
      "Scraping data for miami, florida\n",
      "\t No cookies window. Continue...\n",
      "\t Found 212 homes\n",
      "\t Loading homes........\n",
      "\t Scraping.....................212. Done!\n",
      "Scraping data for naples-ft-myers, florida\n",
      "\t No cookies window. Continue...\n",
      "\t Found 490 homes\n",
      "\t Loading homes...................\n",
      "\t Scraping.................................................490. Done!\n",
      "Scraping data for ocala, florida\n",
      "\t No cookies window. Continue...\n",
      "\t Found 83 homes\n",
      "\t Loading homes...\n",
      "\t Scraping........83. Done!\n",
      "Scraping data for orlando, florida\n",
      "\t No cookies window. Continue...\n",
      "\t Found 337 homes\n",
      "\t Loading homes.............\n",
      "\t Scraping.................................337. Done!\n",
      "Scraping data for palm-beach, florida\n",
      "\t No cookies window. Continue...\n",
      "\t Found 41 homes\n",
      "\t Loading homes.\n",
      "\t Scraping....41. Done!\n",
      "Scraping data for pensacola, florida\n",
      "\t No cookies window. Continue...\n",
      "\t Found 52 homes\n",
      "\t Loading homes..\n",
      "\t Scraping.....52. Done!\n",
      "Scraping data for perdido-key, florida\n",
      "\t No cookies window. Continue...\n"
     ]
    },
    {
     "ename": "AssertionError",
     "evalue": "",
     "output_type": "error",
     "traceback": [
      "\u001b[0;31m---------------------------------------------------------------------------\u001b[0m",
      "\u001b[0;31mAssertionError\u001b[0m                            Traceback (most recent call last)",
      "Input \u001b[0;32mIn [5]\u001b[0m, in \u001b[0;36m<cell line: 11>\u001b[0;34m()\u001b[0m\n\u001b[1;32m     18\u001b[0m closeCookies(driver)\n\u001b[1;32m     20\u001b[0m total \u001b[38;5;241m=\u001b[39m driver\u001b[38;5;241m.\u001b[39mfind_element(By\u001b[38;5;241m.\u001b[39mXPATH, \u001b[38;5;124m'\u001b[39m\u001b[38;5;124m//*[@id=\u001b[39m\u001b[38;5;124m\"\u001b[39m\u001b[38;5;124mmain\u001b[39m\u001b[38;5;124m\"\u001b[39m\u001b[38;5;124m]/div/div[1]/div[2]/div/div[1]/div/div[4]/div[1]/div/div[1]\u001b[39m\u001b[38;5;124m'\u001b[39m)\u001b[38;5;241m.\u001b[39mtext\u001b[38;5;241m.\u001b[39msplitlines()[\u001b[38;5;241m0\u001b[39m]\n\u001b[0;32m---> 21\u001b[0m \u001b[38;5;28;01massert\u001b[39;00m \u001b[38;5;124m'\u001b[39m\u001b[38;5;124mhomes\u001b[39m\u001b[38;5;124m'\u001b[39m \u001b[38;5;129;01min\u001b[39;00m total\n\u001b[1;32m     22\u001b[0m total \u001b[38;5;241m=\u001b[39m \u001b[38;5;28mint\u001b[39m(total\u001b[38;5;241m.\u001b[39msplit(\u001b[38;5;124m'\u001b[39m\u001b[38;5;124mhomes\u001b[39m\u001b[38;5;124m'\u001b[39m)[\u001b[38;5;241m0\u001b[39m])\n\u001b[1;32m     23\u001b[0m \u001b[38;5;28mprint\u001b[39m(\u001b[38;5;124mf\u001b[39m\u001b[38;5;124m\"\u001b[39m\u001b[38;5;130;01m\\t\u001b[39;00m\u001b[38;5;124m Found \u001b[39m\u001b[38;5;132;01m{\u001b[39;00mtotal\u001b[38;5;132;01m}\u001b[39;00m\u001b[38;5;124m homes\u001b[39m\u001b[38;5;124m\"\u001b[39m)\n",
      "\u001b[0;31mAssertionError\u001b[0m: "
     ]
    }
   ],
   "source": [
    "## pseudo code for pulling all of the data\n",
    "\n",
    "# set up\n",
    "SER = Service('/Users/jimmydelano/Downloads/chromedriver')\n",
    "OP = webdriver.ChromeOptions()\n",
    "\n",
    "# open selenium driver with first URL\n",
    "driver = webdriver.Chrome(service=SER, options=OP)\n",
    "driver.maximize_window()\n",
    "\n",
    "for u in cities['url'][10:]:\n",
    "    state, city = u.split('/')[-2], u.split('/')[-1]\n",
    "    print(f\"Scraping data for {city}, {state}\")\n",
    "    \n",
    "    driver.get(u)\n",
    "    time.sleep(15)\n",
    "    \n",
    "    closeCookies(driver)\n",
    "    \n",
    "    total = driver.find_element(By.XPATH, '//*[@id=\"main\"]/div/div[1]/div[2]/div/div[1]/div/div[4]/div[1]/div/div[1]').text.splitlines()[0]\n",
    "    assert 'homes' in total\n",
    "    total = int(total.split('homes')[0])\n",
    "    print(f\"\\t Found {total} homes\")\n",
    "    time.sleep(3)\n",
    "    \n",
    "    loadMoreHomes(driver)\n",
    "    \n",
    "    df = scrapeItUp(driver)\n",
    "    assert total == df.shape[0], \"Problem scraping. Fuck me\"\n",
    "    # print(f'{total}. Done!', end='')\n",
    "    \n",
    "    df_clean = cleanItUp(df)\n",
    "\n",
    "    outdir = f'./data/{state}'\n",
    "    if not os.path.exists(outdir):\n",
    "        os.mkdir(outdir)\n",
    "\n",
    "    df_clean.to_csv(f'./data/{state}/{city}.csv', index = False)\n",
    "    time.sleep(5)\n",
    "    "
   ]
  },
  {
   "cell_type": "code",
   "execution_count": null,
   "id": "2fcf1d0b-cc98-4f5b-848d-34141b91165b",
   "metadata": {},
   "outputs": [],
   "source": []
  },
  {
   "cell_type": "code",
   "execution_count": 6,
   "id": "2331aec9-83af-40f3-9173-fa225da011e7",
   "metadata": {},
   "outputs": [],
   "source": [
    "result = driver.find_element(By.XPATH, \n",
    "                            f'//*[@id=\"main\"]/div/div[1]/div[2]/div/div[2]/div/div[2]/div[{7}]').text.splitlines()"
   ]
  },
  {
   "cell_type": "code",
   "execution_count": 7,
   "id": "a371a762-3591-4b55-9db5-70949b2113e7",
   "metadata": {},
   "outputs": [
    {
     "data": {
      "text/plain": [
       "['Next Gen®',\n",
       " 'Move-in ready',\n",
       " '$829,375',\n",
       " '4 bd',\n",
       " '3.5 ba',\n",
       " '3,183 ft²',\n",
       " '5345 Frisanco Way, Antioch, CA',\n",
       " 'Residence 5 in Aviano']"
      ]
     },
     "execution_count": 7,
     "metadata": {},
     "output_type": "execute_result"
    }
   ],
   "source": [
    "result"
   ]
  },
  {
   "cell_type": "code",
   "execution_count": null,
   "id": "87c70f6f-4165-40be-a40c-e187005288f6",
   "metadata": {},
   "outputs": [],
   "source": []
  }
 ],
 "metadata": {
  "kernelspec": {
   "display_name": "Python 3 (ipykernel)",
   "language": "python",
   "name": "python3"
  },
  "language_info": {
   "codemirror_mode": {
    "name": "ipython",
    "version": 3
   },
   "file_extension": ".py",
   "mimetype": "text/x-python",
   "name": "python",
   "nbconvert_exporter": "python",
   "pygments_lexer": "ipython3",
   "version": "3.9.13"
  }
 },
 "nbformat": 4,
 "nbformat_minor": 5
}
