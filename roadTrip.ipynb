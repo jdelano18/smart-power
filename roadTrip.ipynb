{
 "cells": [
  {
   "cell_type": "code",
   "execution_count": null,
   "id": "6b5e5341-f7a2-437f-a02c-24f0f0a3fd21",
   "metadata": {},
   "outputs": [],
   "source": [
    "## roadTrip.ipynb -- visiting each city (and pulling all the data)"
   ]
  },
  {
   "cell_type": "code",
   "execution_count": 2,
   "id": "6a9722a6",
   "metadata": {},
   "outputs": [],
   "source": [
    "import pandas as pd"
   ]
  },
  {
   "cell_type": "code",
   "execution_count": 3,
   "id": "47963b2e",
   "metadata": {},
   "outputs": [],
   "source": [
    "df = pd.read_csv('./cities.csv')"
   ]
  },
  {
   "cell_type": "code",
   "execution_count": 4,
   "id": "c182dfcb",
   "metadata": {},
   "outputs": [
    {
     "data": {
      "text/html": [
       "<div>\n",
       "<style scoped>\n",
       "    .dataframe tbody tr th:only-of-type {\n",
       "        vertical-align: middle;\n",
       "    }\n",
       "\n",
       "    .dataframe tbody tr th {\n",
       "        vertical-align: top;\n",
       "    }\n",
       "\n",
       "    .dataframe thead th {\n",
       "        text-align: right;\n",
       "    }\n",
       "</style>\n",
       "<table border=\"1\" class=\"dataframe\">\n",
       "  <thead>\n",
       "    <tr style=\"text-align: right;\">\n",
       "      <th></th>\n",
       "      <th>market</th>\n",
       "      <th>state</th>\n",
       "      <th>url</th>\n",
       "    </tr>\n",
       "  </thead>\n",
       "  <tbody>\n",
       "    <tr>\n",
       "      <th>0</th>\n",
       "      <td>coastal-alabama</td>\n",
       "      <td>alabama</td>\n",
       "      <td>https://www.lennar.com/new-homes/alabama/coast...</td>\n",
       "    </tr>\n",
       "    <tr>\n",
       "      <th>1</th>\n",
       "      <td>huntsville</td>\n",
       "      <td>alabama</td>\n",
       "      <td>https://www.lennar.com/new-homes/alabama/hunts...</td>\n",
       "    </tr>\n",
       "    <tr>\n",
       "      <th>2</th>\n",
       "      <td>phoenix</td>\n",
       "      <td>arizona</td>\n",
       "      <td>https://www.lennar.com/new-homes/arizona/phoenix</td>\n",
       "    </tr>\n",
       "    <tr>\n",
       "      <th>3</th>\n",
       "      <td>tucson</td>\n",
       "      <td>arizona</td>\n",
       "      <td>https://www.lennar.com/new-homes/arizona/tucson</td>\n",
       "    </tr>\n",
       "    <tr>\n",
       "      <th>4</th>\n",
       "      <td>central-california</td>\n",
       "      <td>california</td>\n",
       "      <td>https://www.lennar.com/new-homes/california/ce...</td>\n",
       "    </tr>\n",
       "  </tbody>\n",
       "</table>\n",
       "</div>"
      ],
      "text/plain": [
       "               market       state  \\\n",
       "0     coastal-alabama     alabama   \n",
       "1          huntsville     alabama   \n",
       "2             phoenix     arizona   \n",
       "3              tucson     arizona   \n",
       "4  central-california  california   \n",
       "\n",
       "                                                 url  \n",
       "0  https://www.lennar.com/new-homes/alabama/coast...  \n",
       "1  https://www.lennar.com/new-homes/alabama/hunts...  \n",
       "2   https://www.lennar.com/new-homes/arizona/phoenix  \n",
       "3    https://www.lennar.com/new-homes/arizona/tucson  \n",
       "4  https://www.lennar.com/new-homes/california/ce...  "
      ]
     },
     "execution_count": 4,
     "metadata": {},
     "output_type": "execute_result"
    }
   ],
   "source": [
    "df.head()"
   ]
  },
  {
   "cell_type": "code",
   "execution_count": 8,
   "id": "d9f2249e-2ad5-456b-96ae-43d7b8acd69c",
   "metadata": {},
   "outputs": [
    {
     "ename": "ModuleNotFoundError",
     "evalue": "No module named 'tools'",
     "output_type": "error",
     "traceback": [
      "\u001b[0;31m---------------------------------------------------------------------------\u001b[0m",
      "\u001b[0;31mModuleNotFoundError\u001b[0m                       Traceback (most recent call last)",
      "Input \u001b[0;32mIn [8]\u001b[0m, in \u001b[0;36m<cell line: 1>\u001b[0;34m()\u001b[0m\n\u001b[0;32m----> 1\u001b[0m \u001b[38;5;28;01mfrom\u001b[39;00m \u001b[38;5;21;01mtools\u001b[39;00m \u001b[38;5;28;01mimport\u001b[39;00m \u001b[38;5;241m*\u001b[39m\n",
      "\u001b[0;31mModuleNotFoundError\u001b[0m: No module named 'tools'"
     ]
    }
   ],
   "source": [
    "from tools import *"
   ]
  },
  {
   "cell_type": "code",
   "execution_count": 1,
   "id": "e457bab0",
   "metadata": {
    "tags": []
   },
   "outputs": [],
   "source": [
    "## pseudo code for pulling all of the data\n",
    "\n",
    "# set up\n",
    "SER = Service('/Users/jimmydelano/Downloads/chromedriver')\n",
    "OP = webdriver.ChromeOptions()\n",
    "\n",
    "# open selenium driver with first URL\n",
    "driver = webdriver.Chrome(service=SER, options=OP)\n",
    "driver.maximize_window()\n",
    "\n",
    "for u in df['url']:\n",
    "    state, city = u.split('/')[-2], u.split('/')[-1]\n",
    "    print(f\"Scraping data for {city}, {state}\")\n",
    "    \n",
    "    driver.get(u)\n",
    "    time.sleep(10)\n",
    "    \n",
    "    closeCookies(driver)\n",
    "    \n",
    "    loadMoreHomes(driver)\n",
    "    \n",
    "    df = scrapeItUp(driver)\n",
    "    \n",
    "    df_clean = cleanItUp(df)\n",
    "    \n",
    "    df_clean.to_csv(f'./data/{state}/{city}.csv', index = False)"
   ]
  },
  {
   "cell_type": "code",
   "execution_count": null,
   "id": "aaaddd67-8782-44b4-951a-8b6af95b5995",
   "metadata": {},
   "outputs": [],
   "source": []
  }
 ],
 "metadata": {
  "kernelspec": {
   "display_name": "Python 3 (ipykernel)",
   "language": "python",
   "name": "python3"
  },
  "language_info": {
   "codemirror_mode": {
    "name": "ipython",
    "version": 3
   },
   "file_extension": ".py",
   "mimetype": "text/x-python",
   "name": "python",
   "nbconvert_exporter": "python",
   "pygments_lexer": "ipython3",
   "version": "3.9.13"
  }
 },
 "nbformat": 4,
 "nbformat_minor": 5
}
