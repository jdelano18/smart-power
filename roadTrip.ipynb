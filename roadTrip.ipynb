{
 "cells": [
  {
   "cell_type": "code",
   "execution_count": null,
   "id": "6b5e5341-f7a2-437f-a02c-24f0f0a3fd21",
   "metadata": {},
   "outputs": [],
   "source": [
    "## roadTrip.ipynb -- visiting each city (and pulling all the data)"
   ]
  },
  {
   "cell_type": "markdown",
   "id": "c545efd6-f7a3-4b12-844c-9cf76c5e3095",
   "metadata": {},
   "source": [
    "to make CSV file:\n",
    "* go to lennar, xpath: /html/body/div[1]/div/main/div/div[2]/footer/div[1]/div[1]/div[3]/div/div[2]/div/div//a/@href"
   ]
  },
  {
   "cell_type": "code",
   "execution_count": 1,
   "id": "6a9722a6",
   "metadata": {},
   "outputs": [],
   "source": [
    "import pandas as pd\n",
    "import os"
   ]
  },
  {
   "cell_type": "code",
   "execution_count": 2,
   "id": "47963b2e",
   "metadata": {},
   "outputs": [],
   "source": [
    "cities = pd.read_csv('./cities-10-2023.csv')"
   ]
  },
  {
   "cell_type": "code",
   "execution_count": 3,
   "id": "c182dfcb",
   "metadata": {},
   "outputs": [
    {
     "data": {
      "text/html": [
       "<div>\n",
       "<style scoped>\n",
       "    .dataframe tbody tr th:only-of-type {\n",
       "        vertical-align: middle;\n",
       "    }\n",
       "\n",
       "    .dataframe tbody tr th {\n",
       "        vertical-align: top;\n",
       "    }\n",
       "\n",
       "    .dataframe thead th {\n",
       "        text-align: right;\n",
       "    }\n",
       "</style>\n",
       "<table border=\"1\" class=\"dataframe\">\n",
       "  <thead>\n",
       "    <tr style=\"text-align: right;\">\n",
       "      <th></th>\n",
       "      <th>market</th>\n",
       "      <th>state</th>\n",
       "      <th>url</th>\n",
       "    </tr>\n",
       "  </thead>\n",
       "  <tbody>\n",
       "    <tr>\n",
       "      <th>0</th>\n",
       "      <td>coastal-alabama</td>\n",
       "      <td>alabama</td>\n",
       "      <td>https://www.lennar.com/new-homes/alabama/coast...</td>\n",
       "    </tr>\n",
       "    <tr>\n",
       "      <th>1</th>\n",
       "      <td>huntsville</td>\n",
       "      <td>alabama</td>\n",
       "      <td>https://www.lennar.com/new-homes/alabama/hunts...</td>\n",
       "    </tr>\n",
       "    <tr>\n",
       "      <th>2</th>\n",
       "      <td>phoenix</td>\n",
       "      <td>arizona</td>\n",
       "      <td>https://www.lennar.com/new-homes/arizona/phoenix</td>\n",
       "    </tr>\n",
       "    <tr>\n",
       "      <th>3</th>\n",
       "      <td>tucson</td>\n",
       "      <td>arizona</td>\n",
       "      <td>https://www.lennar.com/new-homes/arizona/tucson</td>\n",
       "    </tr>\n",
       "    <tr>\n",
       "      <th>4</th>\n",
       "      <td>fresno-bakersfield</td>\n",
       "      <td>california</td>\n",
       "      <td>https://www.lennar.com/new-homes/california/fr...</td>\n",
       "    </tr>\n",
       "    <tr>\n",
       "      <th>...</th>\n",
       "      <td>...</td>\n",
       "      <td>...</td>\n",
       "      <td>...</td>\n",
       "    </tr>\n",
       "    <tr>\n",
       "      <th>67</th>\n",
       "      <td>berkeley-county</td>\n",
       "      <td>west-virginia</td>\n",
       "      <td>https://www.lennar.com/new-homes/west-virginia...</td>\n",
       "    </tr>\n",
       "    <tr>\n",
       "      <th>68</th>\n",
       "      <td>jefferson-county</td>\n",
       "      <td>west-virginia</td>\n",
       "      <td>https://www.lennar.com/new-homes/west-virginia...</td>\n",
       "    </tr>\n",
       "    <tr>\n",
       "      <th>69</th>\n",
       "      <td>boise</td>\n",
       "      <td>idaho</td>\n",
       "      <td>https://www.lennar.com/new-homes/idaho/boise</td>\n",
       "    </tr>\n",
       "    <tr>\n",
       "      <th>70</th>\n",
       "      <td>madison</td>\n",
       "      <td>wisconsin</td>\n",
       "      <td>https://www.lennar.com/new-homes/wisconsin/mad...</td>\n",
       "    </tr>\n",
       "    <tr>\n",
       "      <th>71</th>\n",
       "      <td>oklahoma-city</td>\n",
       "      <td>oklahoma</td>\n",
       "      <td>https://www.lennar.com/new-homes/oklahoma/okla...</td>\n",
       "    </tr>\n",
       "  </tbody>\n",
       "</table>\n",
       "<p>72 rows × 3 columns</p>\n",
       "</div>"
      ],
      "text/plain": [
       "                market          state  \\\n",
       "0      coastal-alabama        alabama   \n",
       "1           huntsville        alabama   \n",
       "2              phoenix        arizona   \n",
       "3               tucson        arizona   \n",
       "4   fresno-bakersfield     california   \n",
       "..                 ...            ...   \n",
       "67     berkeley-county  west-virginia   \n",
       "68    jefferson-county  west-virginia   \n",
       "69               boise          idaho   \n",
       "70             madison      wisconsin   \n",
       "71       oklahoma-city       oklahoma   \n",
       "\n",
       "                                                  url  \n",
       "0   https://www.lennar.com/new-homes/alabama/coast...  \n",
       "1   https://www.lennar.com/new-homes/alabama/hunts...  \n",
       "2    https://www.lennar.com/new-homes/arizona/phoenix  \n",
       "3     https://www.lennar.com/new-homes/arizona/tucson  \n",
       "4   https://www.lennar.com/new-homes/california/fr...  \n",
       "..                                                ...  \n",
       "67  https://www.lennar.com/new-homes/west-virginia...  \n",
       "68  https://www.lennar.com/new-homes/west-virginia...  \n",
       "69       https://www.lennar.com/new-homes/idaho/boise  \n",
       "70  https://www.lennar.com/new-homes/wisconsin/mad...  \n",
       "71  https://www.lennar.com/new-homes/oklahoma/okla...  \n",
       "\n",
       "[72 rows x 3 columns]"
      ]
     },
     "execution_count": 3,
     "metadata": {},
     "output_type": "execute_result"
    }
   ],
   "source": [
    "cities"
   ]
  },
  {
   "cell_type": "code",
   "execution_count": 4,
   "id": "8057c9c7-4a29-44b2-9ace-5d5236b8ef20",
   "metadata": {},
   "outputs": [],
   "source": [
    "# cities['state'] = cities['url'].str.extract(r'/new-homes/([^/]+)/')\n",
    "# cities['market'] = cities['url'].str.extract(r'/new-homes/[^/]+/([^/]+)')"
   ]
  },
  {
   "cell_type": "code",
   "execution_count": 5,
   "id": "fe266dfd-9c08-4409-b0fc-05a8b630377e",
   "metadata": {},
   "outputs": [],
   "source": [
    "# cities['url'] = \"https://www.lennar.com\"+ cities['url']"
   ]
  },
  {
   "cell_type": "code",
   "execution_count": 6,
   "id": "d9f2249e-2ad5-456b-96ae-43d7b8acd69c",
   "metadata": {},
   "outputs": [],
   "source": [
    "from tools import *"
   ]
  },
  {
   "cell_type": "code",
   "execution_count": 7,
   "id": "336f5d99-2c44-448f-8bfc-7f1db66ea80a",
   "metadata": {},
   "outputs": [],
   "source": [
    "from selenium import webdriver\n",
    "from webdriver_manager.chrome import ChromeDriverManager"
   ]
  },
  {
   "cell_type": "code",
   "execution_count": 8,
   "id": "9d1a5570-ca54-411f-b12f-c53fb67e27a1",
   "metadata": {},
   "outputs": [
    {
     "data": {
      "text/plain": [
       "'https://www.lennar.com/new-homes/alabama/coastal-alabama'"
      ]
     },
     "execution_count": 8,
     "metadata": {},
     "output_type": "execute_result"
    }
   ],
   "source": [
    "cities['url'][0]"
   ]
  },
  {
   "cell_type": "code",
   "execution_count": null,
   "id": "5f075031-fc2c-49f3-baa7-9a3c06d27d00",
   "metadata": {},
   "outputs": [],
   "source": []
  },
  {
   "cell_type": "code",
   "execution_count": 15,
   "id": "9d7f39cb-bf85-47c9-8a92-c226a7a8e679",
   "metadata": {
    "tags": []
   },
   "outputs": [
    {
     "name": "stdout",
     "output_type": "stream",
     "text": [
      "\t Closed cookies window. Continue...\n"
     ]
    }
   ],
   "source": [
    "s=Service(ChromeDriverManager().install())    \n",
    "driver = webdriver.Chrome(service=s)\n",
    "driver.maximize_window()\n",
    "\n",
    "driver.get(cities['url'][0])\n",
    "time.sleep(10)\n",
    "\n",
    "closeCookies(driver)"
   ]
  },
  {
   "cell_type": "code",
   "execution_count": 17,
   "id": "cb3c7945-c407-4440-8bbd-a1b802af210f",
   "metadata": {},
   "outputs": [],
   "source": [
    "# driver.find_element(By.XPATH, \n",
    "#                             \"//*[main]\").get_attribute('innerHTML')\n"
   ]
  },
  {
   "cell_type": "code",
   "execution_count": 23,
   "id": "50c3d2e3-4fbd-4345-aa9e-6e2bd0aa56f0",
   "metadata": {},
   "outputs": [],
   "source": [
    "main_element = driver.find_element(By.XPATH, \n",
    "                            '//*[@id=\"main\"]/div/div[1]/div[2]/div/div[3]/div/div[2]/div[1]')\n"
   ]
  },
  {
   "cell_type": "code",
   "execution_count": 24,
   "id": "a38533eb-c3e4-49f0-895a-e1b108016661",
   "metadata": {},
   "outputs": [
    {
     "ename": "NoSuchElementException",
     "evalue": "Message: no such element: Unable to locate element: {\"method\":\"tag name\",\"selector\":\"a\"}\n  (Session info: chrome=117.0.5938.149)\nStacktrace:\n0   chromedriver                        0x0000000100eeed68 chromedriver + 4337000\n1   chromedriver                        0x0000000100ee6de4 chromedriver + 4304356\n2   chromedriver                        0x0000000100b13a5c chromedriver + 293468\n3   chromedriver                        0x0000000100b58d50 chromedriver + 576848\n4   chromedriver                        0x0000000100b4e200 chromedriver + 532992\n5   chromedriver                        0x0000000100b93908 chromedriver + 817416\n6   chromedriver                        0x0000000100b4ca5c chromedriver + 526940\n7   chromedriver                        0x0000000100b4d908 chromedriver + 530696\n8   chromedriver                        0x0000000100eb4db4 chromedriver + 4099508\n9   chromedriver                        0x0000000100eb9270 chromedriver + 4117104\n10  chromedriver                        0x0000000100ebf4fc chromedriver + 4142332\n11  chromedriver                        0x0000000100eb9d70 chromedriver + 4119920\n12  chromedriver                        0x0000000100e91a44 chromedriver + 3955268\n13  chromedriver                        0x0000000100ed6a18 chromedriver + 4237848\n14  chromedriver                        0x0000000100ed6b94 chromedriver + 4238228\n15  chromedriver                        0x0000000100ee6a5c chromedriver + 4303452\n16  libsystem_pthread.dylib             0x0000000197793fa8 _pthread_start + 148\n17  libsystem_pthread.dylib             0x000000019778eda0 thread_start + 8\n",
     "output_type": "error",
     "traceback": [
      "\u001b[0;31m---------------------------------------------------------------------------\u001b[0m",
      "\u001b[0;31mNoSuchElementException\u001b[0m                    Traceback (most recent call last)",
      "Input \u001b[0;32mIn [24]\u001b[0m, in \u001b[0;36m<cell line: 1>\u001b[0;34m()\u001b[0m\n\u001b[0;32m----> 1\u001b[0m link_element \u001b[38;5;241m=\u001b[39m \u001b[43mmain_element\u001b[49m\u001b[38;5;241;43m.\u001b[39;49m\u001b[43mfind_element\u001b[49m\u001b[43m(\u001b[49m\u001b[43mBy\u001b[49m\u001b[38;5;241;43m.\u001b[39;49m\u001b[43mTAG_NAME\u001b[49m\u001b[43m,\u001b[49m\u001b[43m \u001b[49m\u001b[38;5;124;43m'\u001b[39;49m\u001b[38;5;124;43ma\u001b[39;49m\u001b[38;5;124;43m'\u001b[39;49m\u001b[43m)\u001b[49m\n\u001b[1;32m      2\u001b[0m link_element\n",
      "File \u001b[0;32m/Library/Frameworks/Python.framework/Versions/3.9/lib/python3.9/site-packages/selenium/webdriver/remote/webelement.py:419\u001b[0m, in \u001b[0;36mWebElement.find_element\u001b[0;34m(self, by, value)\u001b[0m\n\u001b[1;32m    416\u001b[0m     by \u001b[38;5;241m=\u001b[39m By\u001b[38;5;241m.\u001b[39mCSS_SELECTOR\n\u001b[1;32m    417\u001b[0m     value \u001b[38;5;241m=\u001b[39m \u001b[38;5;124m'\u001b[39m\u001b[38;5;124m[name=\u001b[39m\u001b[38;5;124m\"\u001b[39m\u001b[38;5;132;01m%s\u001b[39;00m\u001b[38;5;124m\"\u001b[39m\u001b[38;5;124m]\u001b[39m\u001b[38;5;124m'\u001b[39m \u001b[38;5;241m%\u001b[39m value\n\u001b[0;32m--> 419\u001b[0m \u001b[38;5;28;01mreturn\u001b[39;00m \u001b[38;5;28;43mself\u001b[39;49m\u001b[38;5;241;43m.\u001b[39;49m\u001b[43m_execute\u001b[49m\u001b[43m(\u001b[49m\u001b[43mCommand\u001b[49m\u001b[38;5;241;43m.\u001b[39;49m\u001b[43mFIND_CHILD_ELEMENT\u001b[49m\u001b[43m,\u001b[49m\n\u001b[1;32m    420\u001b[0m \u001b[43m                     \u001b[49m\u001b[43m{\u001b[49m\u001b[38;5;124;43m\"\u001b[39;49m\u001b[38;5;124;43musing\u001b[39;49m\u001b[38;5;124;43m\"\u001b[39;49m\u001b[43m:\u001b[49m\u001b[43m \u001b[49m\u001b[43mby\u001b[49m\u001b[43m,\u001b[49m\u001b[43m \u001b[49m\u001b[38;5;124;43m\"\u001b[39;49m\u001b[38;5;124;43mvalue\u001b[39;49m\u001b[38;5;124;43m\"\u001b[39;49m\u001b[43m:\u001b[49m\u001b[43m \u001b[49m\u001b[43mvalue\u001b[49m\u001b[43m}\u001b[49m\u001b[43m)\u001b[49m[\u001b[38;5;124m'\u001b[39m\u001b[38;5;124mvalue\u001b[39m\u001b[38;5;124m'\u001b[39m]\n",
      "File \u001b[0;32m/Library/Frameworks/Python.framework/Versions/3.9/lib/python3.9/site-packages/selenium/webdriver/remote/webelement.py:396\u001b[0m, in \u001b[0;36mWebElement._execute\u001b[0;34m(self, command, params)\u001b[0m\n\u001b[1;32m    394\u001b[0m     params \u001b[38;5;241m=\u001b[39m {}\n\u001b[1;32m    395\u001b[0m params[\u001b[38;5;124m'\u001b[39m\u001b[38;5;124mid\u001b[39m\u001b[38;5;124m'\u001b[39m] \u001b[38;5;241m=\u001b[39m \u001b[38;5;28mself\u001b[39m\u001b[38;5;241m.\u001b[39m_id\n\u001b[0;32m--> 396\u001b[0m \u001b[38;5;28;01mreturn\u001b[39;00m \u001b[38;5;28;43mself\u001b[39;49m\u001b[38;5;241;43m.\u001b[39;49m\u001b[43m_parent\u001b[49m\u001b[38;5;241;43m.\u001b[39;49m\u001b[43mexecute\u001b[49m\u001b[43m(\u001b[49m\u001b[43mcommand\u001b[49m\u001b[43m,\u001b[49m\u001b[43m \u001b[49m\u001b[43mparams\u001b[49m\u001b[43m)\u001b[49m\n",
      "File \u001b[0;32m/Library/Frameworks/Python.framework/Versions/3.9/lib/python3.9/site-packages/selenium/webdriver/remote/webdriver.py:428\u001b[0m, in \u001b[0;36mWebDriver.execute\u001b[0;34m(self, driver_command, params)\u001b[0m\n\u001b[1;32m    426\u001b[0m response \u001b[38;5;241m=\u001b[39m \u001b[38;5;28mself\u001b[39m\u001b[38;5;241m.\u001b[39mcommand_executor\u001b[38;5;241m.\u001b[39mexecute(driver_command, params)\n\u001b[1;32m    427\u001b[0m \u001b[38;5;28;01mif\u001b[39;00m response:\n\u001b[0;32m--> 428\u001b[0m     \u001b[38;5;28;43mself\u001b[39;49m\u001b[38;5;241;43m.\u001b[39;49m\u001b[43merror_handler\u001b[49m\u001b[38;5;241;43m.\u001b[39;49m\u001b[43mcheck_response\u001b[49m\u001b[43m(\u001b[49m\u001b[43mresponse\u001b[49m\u001b[43m)\u001b[49m\n\u001b[1;32m    429\u001b[0m     response[\u001b[38;5;124m'\u001b[39m\u001b[38;5;124mvalue\u001b[39m\u001b[38;5;124m'\u001b[39m] \u001b[38;5;241m=\u001b[39m \u001b[38;5;28mself\u001b[39m\u001b[38;5;241m.\u001b[39m_unwrap_value(\n\u001b[1;32m    430\u001b[0m         response\u001b[38;5;241m.\u001b[39mget(\u001b[38;5;124m'\u001b[39m\u001b[38;5;124mvalue\u001b[39m\u001b[38;5;124m'\u001b[39m, \u001b[38;5;28;01mNone\u001b[39;00m))\n\u001b[1;32m    431\u001b[0m     \u001b[38;5;28;01mreturn\u001b[39;00m response\n",
      "File \u001b[0;32m/Library/Frameworks/Python.framework/Versions/3.9/lib/python3.9/site-packages/selenium/webdriver/remote/errorhandler.py:243\u001b[0m, in \u001b[0;36mErrorHandler.check_response\u001b[0;34m(self, response)\u001b[0m\n\u001b[1;32m    241\u001b[0m         alert_text \u001b[38;5;241m=\u001b[39m value[\u001b[38;5;124m'\u001b[39m\u001b[38;5;124malert\u001b[39m\u001b[38;5;124m'\u001b[39m]\u001b[38;5;241m.\u001b[39mget(\u001b[38;5;124m'\u001b[39m\u001b[38;5;124mtext\u001b[39m\u001b[38;5;124m'\u001b[39m)\n\u001b[1;32m    242\u001b[0m     \u001b[38;5;28;01mraise\u001b[39;00m exception_class(message, screen, stacktrace, alert_text)  \u001b[38;5;66;03m# type: ignore[call-arg]  # mypy is not smart enough here\u001b[39;00m\n\u001b[0;32m--> 243\u001b[0m \u001b[38;5;28;01mraise\u001b[39;00m exception_class(message, screen, stacktrace)\n",
      "\u001b[0;31mNoSuchElementException\u001b[0m: Message: no such element: Unable to locate element: {\"method\":\"tag name\",\"selector\":\"a\"}\n  (Session info: chrome=117.0.5938.149)\nStacktrace:\n0   chromedriver                        0x0000000100eeed68 chromedriver + 4337000\n1   chromedriver                        0x0000000100ee6de4 chromedriver + 4304356\n2   chromedriver                        0x0000000100b13a5c chromedriver + 293468\n3   chromedriver                        0x0000000100b58d50 chromedriver + 576848\n4   chromedriver                        0x0000000100b4e200 chromedriver + 532992\n5   chromedriver                        0x0000000100b93908 chromedriver + 817416\n6   chromedriver                        0x0000000100b4ca5c chromedriver + 526940\n7   chromedriver                        0x0000000100b4d908 chromedriver + 530696\n8   chromedriver                        0x0000000100eb4db4 chromedriver + 4099508\n9   chromedriver                        0x0000000100eb9270 chromedriver + 4117104\n10  chromedriver                        0x0000000100ebf4fc chromedriver + 4142332\n11  chromedriver                        0x0000000100eb9d70 chromedriver + 4119920\n12  chromedriver                        0x0000000100e91a44 chromedriver + 3955268\n13  chromedriver                        0x0000000100ed6a18 chromedriver + 4237848\n14  chromedriver                        0x0000000100ed6b94 chromedriver + 4238228\n15  chromedriver                        0x0000000100ee6a5c chromedriver + 4303452\n16  libsystem_pthread.dylib             0x0000000197793fa8 _pthread_start + 148\n17  libsystem_pthread.dylib             0x000000019778eda0 thread_start + 8\n"
     ]
    }
   ],
   "source": [
    "link_element = main_element.find_element(By.TAG_NAME, 'a')\n",
    "link_element"
   ]
  },
  {
   "cell_type": "code",
   "execution_count": null,
   "id": "642cd0eb-0c9f-4035-8082-20ca0f459b4a",
   "metadata": {},
   "outputs": [],
   "source": []
  },
  {
   "cell_type": "code",
   "execution_count": null,
   "id": "3f877ff4-1771-445c-9522-c6c39ead9513",
   "metadata": {},
   "outputs": [],
   "source": []
  },
  {
   "cell_type": "code",
   "execution_count": null,
   "id": "d7ba6c54-887a-4ac2-828e-3f114a262e72",
   "metadata": {},
   "outputs": [],
   "source": [
    "s=Service(ChromeDriverManager().install())    \n",
    "driver = webdriver.Chrome(service=s)\n",
    "driver.maximize_window()\n",
    "\n",
    "for u in cities['url'][:1]:\n",
    "    state, city = u.split('/')[-2], u.split('/')[-1]\n",
    "    print(f\"Scraping data for {city}, {state}\")\n",
    "\n",
    "    driver.get(u)\n",
    "    time.sleep(15)\n",
    "\n",
    "    closeCookies(driver)\n",
    "\n",
    "    total = driver.find_element(By.XPATH, '//*[@id=\"main\"]//div[1]/div[2]//div[1]//div[4]/div[1]//div[1]//button[1]').text.splitlines()[0]\n",
    "    \n",
    "    # assert 'home' in total\n",
    "    total = int(total.split(' ')[0])\n",
    "    print(f\"\\t Found {total} homes\")\n",
    "    time.sleep(3)\n",
    "    \n",
    "    driver.find_element(By.XPATH, '//*[@id=\"main\"]//div[1]/div[2]//div[1]//div[4]/div[1]//div[1]//button[1]').click()\n",
    "    loadMoreHomes(driver)\n",
    "\n",
    "    df = scrapeItUp(driver)\n",
    "    # they don't count future releases in available homes anymore. change to <=\n",
    "    assert total <= df.shape[0], \"Problem scraping. Fuck me\"\n",
    "        # print(f'{total}. Done!', end='')\n",
    "\n",
    "    df_clean = cleanItUp(df)\n",
    "\n",
    "    outdir = f'./data-10-2023/{state}'\n",
    "    if not os.path.exists(outdir):\n",
    "        os.mkdir(outdir)\n",
    "\n",
    "    df_clean.to_csv(f'./data-10-2023/{state}/{city}.csv', index = False)\n",
    "    time.sleep(5)"
   ]
  },
  {
   "cell_type": "code",
   "execution_count": null,
   "id": "2e26f5aa-2424-4fe3-a0b4-6819ab1884dc",
   "metadata": {},
   "outputs": [],
   "source": []
  },
  {
   "cell_type": "code",
   "execution_count": null,
   "id": "8de9f97d-89b8-4da4-8af4-0dc34d501993",
   "metadata": {},
   "outputs": [],
   "source": []
  },
  {
   "cell_type": "code",
   "execution_count": null,
   "id": "3b1e0ef0-3140-4a22-a9de-d77eb0429a95",
   "metadata": {},
   "outputs": [],
   "source": [
    "# driver.find_element(By.XPATH, f'//*[@id=\"main\"]/div/div[1]/div[2]/div/div[3]/div/div[2]/div[1]').text.splitlines()"
   ]
  },
  {
   "cell_type": "code",
   "execution_count": null,
   "id": "a192ae34-1aeb-4908-93bc-d6390e2c829f",
   "metadata": {},
   "outputs": [],
   "source": [
    "# cities['url']"
   ]
  }
 ],
 "metadata": {
  "kernelspec": {
   "display_name": "Python 3 (ipykernel)",
   "language": "python",
   "name": "python3"
  },
  "language_info": {
   "codemirror_mode": {
    "name": "ipython",
    "version": 3
   },
   "file_extension": ".py",
   "mimetype": "text/x-python",
   "name": "python",
   "nbconvert_exporter": "python",
   "pygments_lexer": "ipython3",
   "version": "3.9.13"
  }
 },
 "nbformat": 4,
 "nbformat_minor": 5
}
