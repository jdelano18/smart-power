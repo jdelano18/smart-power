{
 "cells": [
  {
   "cell_type": "code",
   "execution_count": 1,
   "id": "6b5e5341-f7a2-437f-a02c-24f0f0a3fd21",
   "metadata": {},
   "outputs": [],
   "source": [
    "## roadTrip.ipynb -- visiting each city (and pulling all the data)"
   ]
  },
  {
   "cell_type": "markdown",
   "id": "c545efd6-f7a3-4b12-844c-9cf76c5e3095",
   "metadata": {},
   "source": [
    "to make CSV file:\n",
    "* go to lennar, xpath: /html/body/div[1]/div/main/div/div[2]/footer/div[1]/div[1]/div[3]/div/div[2]/div/div//a/@href"
   ]
  },
  {
   "cell_type": "code",
   "execution_count": 2,
   "id": "6a9722a6",
   "metadata": {},
   "outputs": [],
   "source": [
    "import pandas as pd\n",
    "import os"
   ]
  },
  {
   "cell_type": "code",
   "execution_count": 3,
   "id": "47963b2e",
   "metadata": {},
   "outputs": [],
   "source": [
    "cities = pd.read_csv('./cities-10-2023.csv')"
   ]
  },
  {
   "cell_type": "code",
   "execution_count": 4,
   "id": "c182dfcb",
   "metadata": {},
   "outputs": [
    {
     "data": {
      "text/html": [
       "<div>\n",
       "<style scoped>\n",
       "    .dataframe tbody tr th:only-of-type {\n",
       "        vertical-align: middle;\n",
       "    }\n",
       "\n",
       "    .dataframe tbody tr th {\n",
       "        vertical-align: top;\n",
       "    }\n",
       "\n",
       "    .dataframe thead th {\n",
       "        text-align: right;\n",
       "    }\n",
       "</style>\n",
       "<table border=\"1\" class=\"dataframe\">\n",
       "  <thead>\n",
       "    <tr style=\"text-align: right;\">\n",
       "      <th></th>\n",
       "      <th>market</th>\n",
       "      <th>state</th>\n",
       "      <th>url</th>\n",
       "    </tr>\n",
       "  </thead>\n",
       "  <tbody>\n",
       "    <tr>\n",
       "      <th>0</th>\n",
       "      <td>coastal-alabama</td>\n",
       "      <td>alabama</td>\n",
       "      <td>https://www.lennar.com/new-homes/alabama/coast...</td>\n",
       "    </tr>\n",
       "    <tr>\n",
       "      <th>1</th>\n",
       "      <td>huntsville</td>\n",
       "      <td>alabama</td>\n",
       "      <td>https://www.lennar.com/new-homes/alabama/hunts...</td>\n",
       "    </tr>\n",
       "    <tr>\n",
       "      <th>2</th>\n",
       "      <td>phoenix</td>\n",
       "      <td>arizona</td>\n",
       "      <td>https://www.lennar.com/new-homes/arizona/phoenix</td>\n",
       "    </tr>\n",
       "    <tr>\n",
       "      <th>3</th>\n",
       "      <td>tucson</td>\n",
       "      <td>arizona</td>\n",
       "      <td>https://www.lennar.com/new-homes/arizona/tucson</td>\n",
       "    </tr>\n",
       "    <tr>\n",
       "      <th>4</th>\n",
       "      <td>fresno-bakersfield</td>\n",
       "      <td>california</td>\n",
       "      <td>https://www.lennar.com/new-homes/california/fr...</td>\n",
       "    </tr>\n",
       "    <tr>\n",
       "      <th>...</th>\n",
       "      <td>...</td>\n",
       "      <td>...</td>\n",
       "      <td>...</td>\n",
       "    </tr>\n",
       "    <tr>\n",
       "      <th>67</th>\n",
       "      <td>berkeley-county</td>\n",
       "      <td>west-virginia</td>\n",
       "      <td>https://www.lennar.com/new-homes/west-virginia...</td>\n",
       "    </tr>\n",
       "    <tr>\n",
       "      <th>68</th>\n",
       "      <td>jefferson-county</td>\n",
       "      <td>west-virginia</td>\n",
       "      <td>https://www.lennar.com/new-homes/west-virginia...</td>\n",
       "    </tr>\n",
       "    <tr>\n",
       "      <th>69</th>\n",
       "      <td>boise</td>\n",
       "      <td>idaho</td>\n",
       "      <td>https://www.lennar.com/new-homes/idaho/boise</td>\n",
       "    </tr>\n",
       "    <tr>\n",
       "      <th>70</th>\n",
       "      <td>madison</td>\n",
       "      <td>wisconsin</td>\n",
       "      <td>https://www.lennar.com/new-homes/wisconsin/mad...</td>\n",
       "    </tr>\n",
       "    <tr>\n",
       "      <th>71</th>\n",
       "      <td>oklahoma-city</td>\n",
       "      <td>oklahoma</td>\n",
       "      <td>https://www.lennar.com/new-homes/oklahoma/okla...</td>\n",
       "    </tr>\n",
       "  </tbody>\n",
       "</table>\n",
       "<p>72 rows × 3 columns</p>\n",
       "</div>"
      ],
      "text/plain": [
       "                market          state  \\\n",
       "0      coastal-alabama        alabama   \n",
       "1           huntsville        alabama   \n",
       "2              phoenix        arizona   \n",
       "3               tucson        arizona   \n",
       "4   fresno-bakersfield     california   \n",
       "..                 ...            ...   \n",
       "67     berkeley-county  west-virginia   \n",
       "68    jefferson-county  west-virginia   \n",
       "69               boise          idaho   \n",
       "70             madison      wisconsin   \n",
       "71       oklahoma-city       oklahoma   \n",
       "\n",
       "                                                  url  \n",
       "0   https://www.lennar.com/new-homes/alabama/coast...  \n",
       "1   https://www.lennar.com/new-homes/alabama/hunts...  \n",
       "2    https://www.lennar.com/new-homes/arizona/phoenix  \n",
       "3     https://www.lennar.com/new-homes/arizona/tucson  \n",
       "4   https://www.lennar.com/new-homes/california/fr...  \n",
       "..                                                ...  \n",
       "67  https://www.lennar.com/new-homes/west-virginia...  \n",
       "68  https://www.lennar.com/new-homes/west-virginia...  \n",
       "69       https://www.lennar.com/new-homes/idaho/boise  \n",
       "70  https://www.lennar.com/new-homes/wisconsin/mad...  \n",
       "71  https://www.lennar.com/new-homes/oklahoma/okla...  \n",
       "\n",
       "[72 rows x 3 columns]"
      ]
     },
     "execution_count": 4,
     "metadata": {},
     "output_type": "execute_result"
    }
   ],
   "source": [
    "cities"
   ]
  },
  {
   "cell_type": "code",
   "execution_count": 5,
   "id": "8057c9c7-4a29-44b2-9ace-5d5236b8ef20",
   "metadata": {},
   "outputs": [],
   "source": [
    "# cities['state'] = cities['url'].str.extract(r'/new-homes/([^/]+)/')\n",
    "# cities['market'] = cities['url'].str.extract(r'/new-homes/[^/]+/([^/]+)')"
   ]
  },
  {
   "cell_type": "code",
   "execution_count": 6,
   "id": "fe266dfd-9c08-4409-b0fc-05a8b630377e",
   "metadata": {},
   "outputs": [],
   "source": [
    "# cities['url'] = \"https://www.lennar.com\"+ cities['url']"
   ]
  },
  {
   "cell_type": "code",
   "execution_count": 7,
   "id": "d9f2249e-2ad5-456b-96ae-43d7b8acd69c",
   "metadata": {},
   "outputs": [],
   "source": [
    "from tools import *"
   ]
  },
  {
   "cell_type": "code",
   "execution_count": 8,
   "id": "336f5d99-2c44-448f-8bfc-7f1db66ea80a",
   "metadata": {},
   "outputs": [],
   "source": [
    "from selenium import webdriver\n",
    "from webdriver_manager.chrome import ChromeDriverManager"
   ]
  },
  {
   "cell_type": "code",
   "execution_count": 9,
   "id": "9d1a5570-ca54-411f-b12f-c53fb67e27a1",
   "metadata": {},
   "outputs": [
    {
     "data": {
      "text/plain": [
       "'https://www.lennar.com/new-homes/alabama/coastal-alabama'"
      ]
     },
     "execution_count": 9,
     "metadata": {},
     "output_type": "execute_result"
    }
   ],
   "source": [
    "cities['url'][0]"
   ]
  },
  {
   "cell_type": "code",
   "execution_count": null,
   "id": "5f075031-fc2c-49f3-baa7-9a3c06d27d00",
   "metadata": {},
   "outputs": [],
   "source": []
  },
  {
   "cell_type": "code",
   "execution_count": 10,
   "id": "9d7f39cb-bf85-47c9-8a92-c226a7a8e679",
   "metadata": {},
   "outputs": [],
   "source": [
    "# s=Service(ChromeDriverManager().install())    \n",
    "# driver = webdriver.Chrome(service=s)\n",
    "# driver.maximize_window()\n",
    "\n",
    "# driver.get(cities['url'][0])\n",
    "# time.sleep(10)\n",
    "\n",
    "# closeCookies(driver)"
   ]
  },
  {
   "cell_type": "code",
   "execution_count": 11,
   "id": "e8b55c52-b96f-45a5-b784-a5a54edfa95e",
   "metadata": {},
   "outputs": [],
   "source": [
    "# driver.find_element(By.XPATH, '//*[@id=\"main\"]//div[1]/div[2]//div[1]//div[4]/div[1]//div[1]//button[1]').text.splitlines()"
   ]
  },
  {
   "cell_type": "code",
   "execution_count": 12,
   "id": "467bc145-9e7b-4a04-94f0-05b843581db6",
   "metadata": {},
   "outputs": [],
   "source": [
    "# driver.find_element(By.XPATH, '//*[@id=\"main\"]//div[1]/div[2]//div[1]//div[4]/div[1]//div[1]//button[1]').click()"
   ]
  },
  {
   "cell_type": "code",
   "execution_count": null,
   "id": "3f877ff4-1771-445c-9522-c6c39ead9513",
   "metadata": {},
   "outputs": [],
   "source": []
  },
  {
   "cell_type": "code",
   "execution_count": 14,
   "id": "d7ba6c54-887a-4ac2-828e-3f114a262e72",
   "metadata": {},
   "outputs": [
    {
     "name": "stdout",
     "output_type": "stream",
     "text": [
      "Scraping data for texas-hill-country, texas\n",
      "\t Closed cookies window. Continue...\n",
      "\t Found 5 homes\n",
      "\t Loading homes\n",
      "\t Scraping5. Done!\n",
      "Scraping data for richmond-area, virginia\n",
      "\t No cookies window. Continue...\n",
      "\t Found 12 homes\n",
      "\t Loading homes\n",
      "\t Scraping.15. Done!\n",
      "Scraping data for va-dc-metro, virginia\n",
      "\t No cookies window. Continue...\n",
      "\t Found 14 homes\n",
      "\t Loading homes.\n",
      "\t Scraping...29. Done!\n",
      "Scraping data for williamsburg, virginia\n",
      "\t No cookies window. Continue...\n",
      "\t Found 13 homes\n",
      "\t Loading homes\n",
      "\t Scraping..24. Done!\n",
      "Scraping data for atlanta, georgia\n",
      "\t No cookies window. Continue...\n",
      "\t Found 46 homes\n",
      "\t Loading homes...\n",
      "\t Scraping........79. Done!\n",
      "Scraping data for savannah, georgia\n",
      "\t No cookies window. Continue...\n",
      "\t Found 11 homes\n",
      "\t Loading homes\n",
      "\t Scraping..20. Done!\n",
      "Scraping data for inland-northwest, washington\n",
      "\t No cookies window. Continue...\n",
      "\t Found 29 homes\n",
      "\t Loading homes.\n",
      "\t Scraping.....50. Done!\n",
      "Scraping data for seattle, washington\n",
      "\t No cookies window. Continue...\n",
      "\t Found 54 homes\n",
      "\t Loading homes....\n",
      "\t Scraping............119. Done!\n",
      "Scraping data for vancouver, washington\n",
      "\t No cookies window. Continue...\n",
      "\t Found 4 homes\n",
      "\t Loading homes\n",
      "\t Scraping.12. Done!\n",
      "Scraping data for central-oregon, oregon\n",
      "\t No cookies window. Continue...\n",
      "\t Found 12 homes\n",
      "\t Loading homes\n",
      "\t Scraping..19. Done!\n",
      "Scraping data for portland, oregon\n",
      "\t No cookies window. Continue...\n",
      "\t Found 58 homes\n",
      "\t Loading homes....\n",
      "\t Scraping............124. Done!\n",
      "Scraping data for willamette-valley, oregon\n",
      "\t No cookies window. Continue...\n",
      "\t Found 11 homes\n",
      "\t Loading homes.\n",
      "\t Scraping...30. Done!\n",
      "Scraping data for nashville, tennessee\n",
      "\t No cookies window. Continue...\n",
      "\t Found 36 homes\n",
      "\t Loading homes..\n",
      "\t Scraping......66. Done!\n",
      "Scraping data for indianapolis, indiana\n",
      "\t No cookies window. Continue...\n",
      "\t Found 106 homes\n",
      "\t Loading homes........\n",
      "\t Scraping.....................212. Done!\n",
      "Scraping data for northwest-indiana, indiana\n",
      "\t No cookies window. Continue...\n",
      "\t Found 47 homes\n",
      "\t Loading homes...\n",
      "\t Scraping.......76. Done!\n",
      "Scraping data for salt-lake-city, utah\n",
      "\t No cookies window. Continue...\n",
      "\t Found 30 homes\n",
      "\t Loading homes..\n",
      "\t Scraping.....57. Done!\n",
      "Scraping data for berkeley-county, west-virginia\n",
      "\t No cookies window. Continue...\n",
      "\t Found 2 homes\n",
      "\t Loading homes\n",
      "\t Scraping2. Done!\n",
      "Scraping data for jefferson-county, west-virginia\n",
      "\t No cookies window. Continue...\n",
      "\t Found 10 homes\n",
      "\t Loading homes\n",
      "\t Scraping..20. Done!\n",
      "Scraping data for boise, idaho\n",
      "\t No cookies window. Continue...\n",
      "\t Found 31 homes\n",
      "\t Loading homes..\n",
      "\t Scraping.....51. Done!\n",
      "Scraping data for madison, wisconsin\n",
      "\t No cookies window. Continue...\n",
      "\t Found 19 homes\n",
      "\t Loading homes.\n",
      "\t Scraping...36. Done!\n",
      "Scraping data for oklahoma-city, oklahoma\n",
      "\t No cookies window. Continue...\n",
      "\t Found 9 homes\n",
      "\t Loading homes\n",
      "\t Scraping.9. Done!\n"
     ]
    }
   ],
   "source": [
    "s=Service(ChromeDriverManager().install())    \n",
    "driver = webdriver.Chrome(service=s)\n",
    "driver.maximize_window()\n",
    "\n",
    "for u in cities['url'][51:]:\n",
    "    state, city = u.split('/')[-2], u.split('/')[-1]\n",
    "    print(f\"Scraping data for {city}, {state}\")\n",
    "\n",
    "    driver.get(u)\n",
    "    time.sleep(15)\n",
    "\n",
    "    closeCookies(driver)\n",
    "\n",
    "    total = driver.find_element(By.XPATH, '//*[@id=\"main\"]//div[1]/div[2]//div[1]//div[4]/div[1]//div[1]//button[1]').text.splitlines()[0]\n",
    "    \n",
    "    # assert 'home' in total\n",
    "    total = int(total.split(' ')[0])\n",
    "    print(f\"\\t Found {total} homes\")\n",
    "    time.sleep(3)\n",
    "    \n",
    "    driver.find_element(By.XPATH, '//*[@id=\"main\"]//div[1]/div[2]//div[1]//div[4]/div[1]//div[1]//button[1]').click()\n",
    "    loadMoreHomes(driver)\n",
    "\n",
    "    df = scrapeItUp(driver)\n",
    "    # they don't count future releases in available homes anymore. change to <=\n",
    "    assert total <= df.shape[0], \"Problem scraping. Fuck me\"\n",
    "        # print(f'{total}. Done!', end='')\n",
    "\n",
    "    df_clean = cleanItUp(df)\n",
    "\n",
    "    outdir = f'./data-10-2023/{state}'\n",
    "    if not os.path.exists(outdir):\n",
    "        os.mkdir(outdir)\n",
    "\n",
    "    df_clean.to_csv(f'./data-10-2023/{state}/{city}.csv', index = False)\n",
    "    time.sleep(5)"
   ]
  },
  {
   "cell_type": "code",
   "execution_count": null,
   "id": "2e26f5aa-2424-4fe3-a0b4-6819ab1884dc",
   "metadata": {},
   "outputs": [],
   "source": []
  },
  {
   "cell_type": "code",
   "execution_count": null,
   "id": "8de9f97d-89b8-4da4-8af4-0dc34d501993",
   "metadata": {},
   "outputs": [],
   "source": []
  },
  {
   "cell_type": "code",
   "execution_count": null,
   "id": "3b1e0ef0-3140-4a22-a9de-d77eb0429a95",
   "metadata": {},
   "outputs": [],
   "source": [
    "# driver.find_element(By.XPATH, f'//*[@id=\"main\"]/div/div[1]/div[2]/div/div[3]/div/div[2]/div[1]').text.splitlines()"
   ]
  },
  {
   "cell_type": "code",
   "execution_count": null,
   "id": "a192ae34-1aeb-4908-93bc-d6390e2c829f",
   "metadata": {},
   "outputs": [],
   "source": [
    "# cities['url']"
   ]
  }
 ],
 "metadata": {
  "kernelspec": {
   "display_name": "Python 3 (ipykernel)",
   "language": "python",
   "name": "python3"
  },
  "language_info": {
   "codemirror_mode": {
    "name": "ipython",
    "version": 3
   },
   "file_extension": ".py",
   "mimetype": "text/x-python",
   "name": "python",
   "nbconvert_exporter": "python",
   "pygments_lexer": "ipython3",
   "version": "3.9.13"
  }
 },
 "nbformat": 4,
 "nbformat_minor": 5
}
