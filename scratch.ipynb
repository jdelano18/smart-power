{
 "cells": [
  {
   "cell_type": "code",
   "execution_count": 1,
   "id": "b508b191-a38e-4f64-8fab-1ddbf7cc96fe",
   "metadata": {},
   "outputs": [],
   "source": [
    "import pandas as pd"
   ]
  },
  {
   "cell_type": "code",
   "execution_count": 2,
   "id": "09378ff3-1908-4ef6-8e26-4bf10ce9cedf",
   "metadata": {},
   "outputs": [],
   "source": [
    "# https://www.lennar.com/"
   ]
  },
  {
   "cell_type": "code",
   "execution_count": 43,
   "id": "be24cca3-997a-486f-850e-dea181e49a6e",
   "metadata": {},
   "outputs": [],
   "source": [
    "# get all the city names with xpath\n",
    "# //div[@class=\"Market_root__99ot0\"]//h3\n",
    "regions = \"\"\"Arizona\n",
    "California\n",
    "Colorado\n",
    "Delaware\n",
    "Florida\n",
    "Georgia\n",
    "Idaho\n",
    "Illinois\n",
    "Indiana\n",
    "Maryland\n",
    "Minnesota\n",
    "Nevada\n",
    "New Jersey\n",
    "North Carolina\n",
    "Oklahoma\n",
    "Oregon\n",
    "Pennsylvania\n",
    "South Carolina\n",
    "Tennessee\n",
    "Texas\n",
    "Utah\n",
    "Virginia\n",
    "Washington\n",
    "West Virginia\n",
    "Wisconsin\"\"\""
   ]
  },
  {
   "cell_type": "code",
   "execution_count": 44,
   "id": "d88588e3-75b2-4e52-9a46-541d6ace6986",
   "metadata": {},
   "outputs": [],
   "source": [
    "regions = regions.split(\"\\n\")"
   ]
  },
  {
   "cell_type": "code",
   "execution_count": 46,
   "id": "7562cbd5-1ef7-4322-92a3-96fb770d964b",
   "metadata": {},
   "outputs": [
    {
     "data": {
      "text/plain": [
       "25"
      ]
     },
     "execution_count": 46,
     "metadata": {},
     "output_type": "execute_result"
    }
   ],
   "source": [
    "len(regions)"
   ]
  },
  {
   "cell_type": "code",
   "execution_count": 70,
   "id": "2db160cb-8e92-45ea-9e7f-dbaae8042607",
   "metadata": {},
   "outputs": [],
   "source": [
    "# manually do this because I can't figure it out\n",
    "# //div[@class=\"Market_root__99ot0\"]//a\n",
    "cities = \"\"\"Phoenix\n",
    "Tucson\n",
    "Central California\n",
    "Inland Empire\n",
    "L.A. / Orange County\n",
    "Palm Springs / Coachella\n",
    "Sacramento\n",
    "San Diego\n",
    "San Francisco / Bay Area\n",
    "Denver\n",
    "Greater Philadelphia Area\n",
    "Sussex County\n",
    "Ft. Lauderdale\n",
    "Jacksonville / St. Augustine\n",
    "Miami\n",
    "Naples / Ft. Myers\n",
    "Ocala\n",
    "Orlando\n",
    "Palm Beach\n",
    "Pensacola\n",
    "Perdido Key\n",
    "Sarasota / Manatee\n",
    "Space Coast / Melbourne\n",
    "Tampa\n",
    "Treasure Coast\n",
    "Atlanta\n",
    "Savannah\n",
    "Boise\n",
    "Inland Northwest\n",
    "Chicago\n",
    "Indianapolis\n",
    "Northwest Indiana\n",
    "Central Maryland\n",
    "Eastern Shore\n",
    "MD / D.C. Metro\n",
    "Southern Maryland\n",
    "Minneapolis / St. Paul\n",
    "Las Vegas\n",
    "Reno\n",
    "New Jersey\n",
    "Charlotte\n",
    "Greensboro\n",
    "Raleigh\n",
    "Wilmington\n",
    "Oklahoma City\n",
    "Portland\n",
    "Willamette Valley\n",
    "Adams County\n",
    "Greater Philadelphia Area\n",
    "York County\n",
    "Charleston\n",
    "Charlotte\n",
    "Columbia\n",
    "Greenville\n",
    "Hilton Head / Bluffton\n",
    "Myrtle Beach\n",
    "Nashville\n",
    "Austin / Central Texas\n",
    "Dallas / Ft. Worth\n",
    "Houston\n",
    "San Antonio\n",
    "Salt Lake City\n",
    "Richmond Area\n",
    "VA / D.C. Metro\n",
    "Williamsburg\n",
    "Inland Northwest\n",
    "Seattle\n",
    "Vancouver\n",
    "Jefferson County\n",
    "Madison\"\"\""
   ]
  },
  {
   "cell_type": "code",
   "execution_count": 71,
   "id": "b9baacca-c2d0-42df-b05d-a027b99a434a",
   "metadata": {},
   "outputs": [],
   "source": [
    "cities = cities.replace('.','')"
   ]
  },
  {
   "cell_type": "code",
   "execution_count": 72,
   "id": "d8d6825f-8c63-4d40-9c03-43adc076a590",
   "metadata": {},
   "outputs": [],
   "source": [
    "cities = cities.split(\"\\n\")"
   ]
  },
  {
   "cell_type": "code",
   "execution_count": 73,
   "id": "a4819070-28a0-4ff8-b93b-d7e5445dfa22",
   "metadata": {},
   "outputs": [
    {
     "data": {
      "text/plain": [
       "70"
      ]
     },
     "execution_count": 73,
     "metadata": {},
     "output_type": "execute_result"
    }
   ],
   "source": [
    "len(cities)"
   ]
  },
  {
   "cell_type": "code",
   "execution_count": 76,
   "id": "e2413370-3b01-4aec-8897-c048dd901fad",
   "metadata": {},
   "outputs": [],
   "source": [
    "cities = [x.lower() for x in cities]"
   ]
  },
  {
   "cell_type": "code",
   "execution_count": 79,
   "id": "af014d8a-8a0d-4e9d-8ba4-707a542f0c26",
   "metadata": {},
   "outputs": [],
   "source": [
    "cities = [x.replace(\"/\", \"\").replace(\"  \",\"-\").replace(\" \",\"-\") for x in cities]"
   ]
  },
  {
   "cell_type": "code",
   "execution_count": 80,
   "id": "22bed46b-2e90-48fc-b8ed-4aafe9ad5145",
   "metadata": {},
   "outputs": [
    {
     "data": {
      "text/plain": [
       "['phoenix',\n",
       " 'tucson',\n",
       " 'central-california',\n",
       " 'inland-empire',\n",
       " 'la-orange-county',\n",
       " 'palm-springs-coachella',\n",
       " 'sacramento',\n",
       " 'san-diego',\n",
       " 'san-francisco-bay-area',\n",
       " 'denver',\n",
       " 'greater-philadelphia-area',\n",
       " 'sussex-county',\n",
       " 'ft-lauderdale',\n",
       " 'jacksonville-st-augustine',\n",
       " 'miami',\n",
       " 'naples-ft-myers',\n",
       " 'ocala',\n",
       " 'orlando',\n",
       " 'palm-beach',\n",
       " 'pensacola',\n",
       " 'perdido-key',\n",
       " 'sarasota-manatee',\n",
       " 'space-coast-melbourne',\n",
       " 'tampa',\n",
       " 'treasure-coast',\n",
       " 'atlanta',\n",
       " 'savannah',\n",
       " 'boise',\n",
       " 'inland-northwest',\n",
       " 'chicago',\n",
       " 'indianapolis',\n",
       " 'northwest-indiana',\n",
       " 'central-maryland',\n",
       " 'eastern-shore',\n",
       " 'md-dc-metro',\n",
       " 'southern-maryland',\n",
       " 'minneapolis-st-paul',\n",
       " 'las-vegas',\n",
       " 'reno',\n",
       " 'new-jersey',\n",
       " 'charlotte',\n",
       " 'greensboro',\n",
       " 'raleigh',\n",
       " 'wilmington',\n",
       " 'oklahoma-city',\n",
       " 'portland',\n",
       " 'willamette-valley',\n",
       " 'adams-county',\n",
       " 'greater-philadelphia-area',\n",
       " 'york-county',\n",
       " 'charleston',\n",
       " 'charlotte',\n",
       " 'columbia',\n",
       " 'greenville',\n",
       " 'hilton-head-bluffton',\n",
       " 'myrtle-beach',\n",
       " 'nashville',\n",
       " 'austin-central-texas',\n",
       " 'dallas-ft-worth',\n",
       " 'houston',\n",
       " 'san-antonio',\n",
       " 'salt-lake-city',\n",
       " 'richmond-area',\n",
       " 'va-dc-metro',\n",
       " 'williamsburg',\n",
       " 'inland-northwest',\n",
       " 'seattle',\n",
       " 'vancouver',\n",
       " 'jefferson-county',\n",
       " 'madison']"
      ]
     },
     "execution_count": 80,
     "metadata": {},
     "output_type": "execute_result"
    }
   ],
   "source": [
    "cities"
   ]
  },
  {
   "cell_type": "code",
   "execution_count": null,
   "id": "322ce7a2-7ebe-4de2-a475-acd117609f52",
   "metadata": {},
   "outputs": [],
   "source": []
  }
 ],
 "metadata": {
  "kernelspec": {
   "display_name": "Python 3 (ipykernel)",
   "language": "python",
   "name": "python3"
  },
  "language_info": {
   "codemirror_mode": {
    "name": "ipython",
    "version": 3
   },
   "file_extension": ".py",
   "mimetype": "text/x-python",
   "name": "python",
   "nbconvert_exporter": "python",
   "pygments_lexer": "ipython3",
   "version": "3.9.13"
  }
 },
 "nbformat": 4,
 "nbformat_minor": 5
}
