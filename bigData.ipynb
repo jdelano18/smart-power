{
 "cells": [
  {
   "cell_type": "code",
   "execution_count": 1,
   "id": "4a9177b4-4ccd-4ba9-a587-5672c8ed669e",
   "metadata": {},
   "outputs": [],
   "source": [
    "import pandas as pd\n",
    "import os"
   ]
  },
  {
   "cell_type": "code",
   "execution_count": 2,
   "id": "7a9ce6cf-6a09-4dad-9896-f6b98182a565",
   "metadata": {},
   "outputs": [],
   "source": [
    "json_files = []\n",
    "path = './data/'\n",
    "for root, dirs, files in os.walk(path):\n",
    "    for name in files:\n",
    "        if name.endswith('.json'):\n",
    "            json_files.append(root+'/'+name)"
   ]
  },
  {
   "cell_type": "code",
   "execution_count": 15,
   "id": "17338497-8122-4ecf-9123-6156d14edb24",
   "metadata": {},
   "outputs": [],
   "source": [
    "df = pd.read_json(json_files[0])\n",
    "maxCols = df.shape[1]\n",
    "\n",
    "for jf in json_files[1:]:\n",
    "    tmp = pd.read_json(jf)\n",
    "    if tmp.shape[1] > maxCols:\n",
    "        maxCols = tmp.shape[1]\n",
    "    \n",
    "    df = pd.concat([df, tmp], ignore_index=True)"
   ]
  },
  {
   "cell_type": "code",
   "execution_count": 16,
   "id": "37b833fa-5b0b-4ffc-a5a6-12d3f476b197",
   "metadata": {},
   "outputs": [
    {
     "data": {
      "text/plain": [
       "(11365, 185)"
      ]
     },
     "execution_count": 16,
     "metadata": {},
     "output_type": "execute_result"
    }
   ],
   "source": [
    "df.shape"
   ]
  },
  {
   "cell_type": "code",
   "execution_count": 17,
   "id": "44fd6e42-932b-46c9-b752-11cae72d6925",
   "metadata": {},
   "outputs": [
    {
     "data": {
      "text/plain": [
       "185"
      ]
     },
     "execution_count": 17,
     "metadata": {},
     "output_type": "execute_result"
    }
   ],
   "source": [
    "maxCols"
   ]
  },
  {
   "cell_type": "code",
   "execution_count": 19,
   "id": "36ed0f0c-2b28-4aad-a2f6-10aab734f746",
   "metadata": {},
   "outputs": [],
   "source": [
    "df.to_json('./lennar-data.json')"
   ]
  },
  {
   "cell_type": "code",
   "execution_count": 21,
   "id": "e3f2333a-90fb-4ca6-949b-55711ab1cf17",
   "metadata": {},
   "outputs": [],
   "source": [
    "lennar = pd.read_json('./lennar-data.json')"
   ]
  },
  {
   "cell_type": "code",
   "execution_count": 23,
   "id": "a5f6f8d5-6d81-4fd6-b9b5-c99a3ba0f4ff",
   "metadata": {},
   "outputs": [
    {
     "data": {
      "text/plain": [
       "(11365, 185)"
      ]
     },
     "execution_count": 23,
     "metadata": {},
     "output_type": "execute_result"
    }
   ],
   "source": [
    "lennar.shape"
   ]
  },
  {
   "cell_type": "code",
   "execution_count": 22,
   "id": "3d7509ef-bc02-4b4f-831c-eaef10241e6b",
   "metadata": {},
   "outputs": [
    {
     "data": {
      "text/html": [
       "<div>\n",
       "<style scoped>\n",
       "    .dataframe tbody tr th:only-of-type {\n",
       "        vertical-align: middle;\n",
       "    }\n",
       "\n",
       "    .dataframe tbody tr th {\n",
       "        vertical-align: top;\n",
       "    }\n",
       "\n",
       "    .dataframe thead th {\n",
       "        text-align: right;\n",
       "    }\n",
       "</style>\n",
       "<table border=\"1\" class=\"dataframe\">\n",
       "  <thead>\n",
       "    <tr style=\"text-align: right;\">\n",
       "      <th></th>\n",
       "      <th>Availability</th>\n",
       "      <th>Price</th>\n",
       "      <th>Beds</th>\n",
       "      <th>Baths</th>\n",
       "      <th>Sqft</th>\n",
       "      <th>Address</th>\n",
       "      <th>Community</th>\n",
       "      <th>URL</th>\n",
       "      <th>Data_Dump</th>\n",
       "      <th>feature_0</th>\n",
       "      <th>...</th>\n",
       "      <th>feature_166</th>\n",
       "      <th>feature_167</th>\n",
       "      <th>feature_168</th>\n",
       "      <th>feature_169</th>\n",
       "      <th>feature_170</th>\n",
       "      <th>feature_171</th>\n",
       "      <th>feature_172</th>\n",
       "      <th>feature_173</th>\n",
       "      <th>feature_174</th>\n",
       "      <th>feature_175</th>\n",
       "    </tr>\n",
       "  </thead>\n",
       "  <tbody>\n",
       "    <tr>\n",
       "      <th>0</th>\n",
       "      <td>Move-in ready</td>\n",
       "      <td>$374,990</td>\n",
       "      <td>4.0</td>\n",
       "      <td>3.5</td>\n",
       "      <td>2179</td>\n",
       "      <td>6417 Mentor Place, Raleigh, NC</td>\n",
       "      <td>Bradley in 5401 North</td>\n",
       "      <td>https://www.lennar.com/new-homes/north-carolin...</td>\n",
       "      <td>{'Kitchen': ['36\" cabinetry with crown molding...</td>\n",
       "      <td>36\" cabinetry with crown molding and nickel ha...</td>\n",
       "      <td>...</td>\n",
       "      <td>None</td>\n",
       "      <td>None</td>\n",
       "      <td>None</td>\n",
       "      <td>None</td>\n",
       "      <td>None</td>\n",
       "      <td>None</td>\n",
       "      <td>None</td>\n",
       "      <td>None</td>\n",
       "      <td>None</td>\n",
       "      <td>None</td>\n",
       "    </tr>\n",
       "    <tr>\n",
       "      <th>1</th>\n",
       "      <td>Move-in ready</td>\n",
       "      <td>$524,900</td>\n",
       "      <td>5.0</td>\n",
       "      <td>3.0</td>\n",
       "      <td>2909</td>\n",
       "      <td>4504 Olde Waverly Way, Fuquay Varina, NC</td>\n",
       "      <td>Norwood in Geneva</td>\n",
       "      <td>https://www.lennar.com/new-homes/north-carolin...</td>\n",
       "      <td>{'Kitchen': ['42\" cabinetry with crown molding...</td>\n",
       "      <td>42\" cabinetry with crown molding and nickel ha...</td>\n",
       "      <td>...</td>\n",
       "      <td>None</td>\n",
       "      <td>None</td>\n",
       "      <td>None</td>\n",
       "      <td>None</td>\n",
       "      <td>None</td>\n",
       "      <td>None</td>\n",
       "      <td>None</td>\n",
       "      <td>None</td>\n",
       "      <td>None</td>\n",
       "      <td>None</td>\n",
       "    </tr>\n",
       "    <tr>\n",
       "      <th>2</th>\n",
       "      <td>Move-in ready</td>\n",
       "      <td>$409,990</td>\n",
       "      <td>4.0</td>\n",
       "      <td>3.5</td>\n",
       "      <td>2186</td>\n",
       "      <td>102 Asher Court, Durham, NC</td>\n",
       "      <td>Colton in Corners at Brier Creek</td>\n",
       "      <td>https://www.lennar.com/new-homes/north-carolin...</td>\n",
       "      <td>{'Kitchen': ['36\" cabinetry with crown molding...</td>\n",
       "      <td>36\" cabinetry with crown molding and brushed n...</td>\n",
       "      <td>...</td>\n",
       "      <td>None</td>\n",
       "      <td>None</td>\n",
       "      <td>None</td>\n",
       "      <td>None</td>\n",
       "      <td>None</td>\n",
       "      <td>None</td>\n",
       "      <td>None</td>\n",
       "      <td>None</td>\n",
       "      <td>None</td>\n",
       "      <td>None</td>\n",
       "    </tr>\n",
       "    <tr>\n",
       "      <th>3</th>\n",
       "      <td>Move-in ready</td>\n",
       "      <td>$499,900</td>\n",
       "      <td>5.0</td>\n",
       "      <td>3.0</td>\n",
       "      <td>2619</td>\n",
       "      <td>165 Hazy Hills Lane, Garner, NC</td>\n",
       "      <td>Landrum III in Ridgemoor</td>\n",
       "      <td>https://www.lennar.com/new-homes/north-carolin...</td>\n",
       "      <td>{'Kitchen': ['42\" cabinetry with crown molding...</td>\n",
       "      <td>42\" cabinetry with crown molding and nickel ha...</td>\n",
       "      <td>...</td>\n",
       "      <td>None</td>\n",
       "      <td>None</td>\n",
       "      <td>None</td>\n",
       "      <td>None</td>\n",
       "      <td>None</td>\n",
       "      <td>None</td>\n",
       "      <td>None</td>\n",
       "      <td>None</td>\n",
       "      <td>None</td>\n",
       "      <td>None</td>\n",
       "    </tr>\n",
       "    <tr>\n",
       "      <th>4</th>\n",
       "      <td>Move-in ready</td>\n",
       "      <td>$356,465</td>\n",
       "      <td>3.0</td>\n",
       "      <td>2.5</td>\n",
       "      <td>1780</td>\n",
       "      <td>569 Hazy Hills Lane, Garner, NC</td>\n",
       "      <td>Carson II in Ridgemoor</td>\n",
       "      <td>https://www.lennar.com/new-homes/north-carolin...</td>\n",
       "      <td>{'Kitchen': ['36\" maple cabinets with crown mo...</td>\n",
       "      <td>36\" maple cabinets with crown molding and deco...</td>\n",
       "      <td>...</td>\n",
       "      <td>None</td>\n",
       "      <td>None</td>\n",
       "      <td>None</td>\n",
       "      <td>None</td>\n",
       "      <td>None</td>\n",
       "      <td>None</td>\n",
       "      <td>None</td>\n",
       "      <td>None</td>\n",
       "      <td>None</td>\n",
       "      <td>None</td>\n",
       "    </tr>\n",
       "  </tbody>\n",
       "</table>\n",
       "<p>5 rows × 185 columns</p>\n",
       "</div>"
      ],
      "text/plain": [
       "    Availability     Price  Beds  Baths  Sqft  \\\n",
       "0  Move-in ready  $374,990   4.0    3.5  2179   \n",
       "1  Move-in ready  $524,900   5.0    3.0  2909   \n",
       "2  Move-in ready  $409,990   4.0    3.5  2186   \n",
       "3  Move-in ready  $499,900   5.0    3.0  2619   \n",
       "4  Move-in ready  $356,465   3.0    2.5  1780   \n",
       "\n",
       "                                    Address                         Community  \\\n",
       "0            6417 Mentor Place, Raleigh, NC             Bradley in 5401 North   \n",
       "1  4504 Olde Waverly Way, Fuquay Varina, NC                 Norwood in Geneva   \n",
       "2               102 Asher Court, Durham, NC  Colton in Corners at Brier Creek   \n",
       "3           165 Hazy Hills Lane, Garner, NC          Landrum III in Ridgemoor   \n",
       "4           569 Hazy Hills Lane, Garner, NC            Carson II in Ridgemoor   \n",
       "\n",
       "                                                 URL  \\\n",
       "0  https://www.lennar.com/new-homes/north-carolin...   \n",
       "1  https://www.lennar.com/new-homes/north-carolin...   \n",
       "2  https://www.lennar.com/new-homes/north-carolin...   \n",
       "3  https://www.lennar.com/new-homes/north-carolin...   \n",
       "4  https://www.lennar.com/new-homes/north-carolin...   \n",
       "\n",
       "                                           Data_Dump  \\\n",
       "0  {'Kitchen': ['36\" cabinetry with crown molding...   \n",
       "1  {'Kitchen': ['42\" cabinetry with crown molding...   \n",
       "2  {'Kitchen': ['36\" cabinetry with crown molding...   \n",
       "3  {'Kitchen': ['42\" cabinetry with crown molding...   \n",
       "4  {'Kitchen': ['36\" maple cabinets with crown mo...   \n",
       "\n",
       "                                           feature_0  ... feature_166  \\\n",
       "0  36\" cabinetry with crown molding and nickel ha...  ...        None   \n",
       "1  42\" cabinetry with crown molding and nickel ha...  ...        None   \n",
       "2  36\" cabinetry with crown molding and brushed n...  ...        None   \n",
       "3  42\" cabinetry with crown molding and nickel ha...  ...        None   \n",
       "4  36\" maple cabinets with crown molding and deco...  ...        None   \n",
       "\n",
       "  feature_167 feature_168 feature_169 feature_170 feature_171 feature_172  \\\n",
       "0        None        None        None        None        None        None   \n",
       "1        None        None        None        None        None        None   \n",
       "2        None        None        None        None        None        None   \n",
       "3        None        None        None        None        None        None   \n",
       "4        None        None        None        None        None        None   \n",
       "\n",
       "  feature_173 feature_174 feature_175  \n",
       "0        None        None        None  \n",
       "1        None        None        None  \n",
       "2        None        None        None  \n",
       "3        None        None        None  \n",
       "4        None        None        None  \n",
       "\n",
       "[5 rows x 185 columns]"
      ]
     },
     "execution_count": 22,
     "metadata": {},
     "output_type": "execute_result"
    }
   ],
   "source": [
    "lennar.head()"
   ]
  },
  {
   "cell_type": "code",
   "execution_count": null,
   "id": "b5a09723-555b-4ea0-9ac0-abff98b8bfd1",
   "metadata": {},
   "outputs": [],
   "source": []
  }
 ],
 "metadata": {
  "kernelspec": {
   "display_name": "Python 3 (ipykernel)",
   "language": "python",
   "name": "python3"
  },
  "language_info": {
   "codemirror_mode": {
    "name": "ipython",
    "version": 3
   },
   "file_extension": ".py",
   "mimetype": "text/x-python",
   "name": "python",
   "nbconvert_exporter": "python",
   "pygments_lexer": "ipython3",
   "version": "3.9.13"
  }
 },
 "nbformat": 4,
 "nbformat_minor": 5
}
