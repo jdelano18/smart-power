{
 "cells": [
  {
   "cell_type": "markdown",
   "id": "9851cb9c-900a-48e2-90ea-43fbe286c65e",
   "metadata": {},
   "source": [
    "## Put all of the smaller json files into one big df for ease of future use"
   ]
  },
  {
   "cell_type": "code",
   "execution_count": 1,
   "id": "4a9177b4-4ccd-4ba9-a587-5672c8ed669e",
   "metadata": {},
   "outputs": [],
   "source": [
    "import pandas as pd\n",
    "import os"
   ]
  },
  {
   "cell_type": "code",
   "execution_count": 2,
   "id": "7a9ce6cf-6a09-4dad-9896-f6b98182a565",
   "metadata": {},
   "outputs": [],
   "source": [
    "json_files = []\n",
    "path = './data-06-2023/'\n",
    "for root, dirs, files in os.walk(path):\n",
    "    for name in files:\n",
    "        if name.endswith('.json'):\n",
    "            json_files.append(root+'/'+name)"
   ]
  },
  {
   "cell_type": "code",
   "execution_count": 3,
   "id": "17338497-8122-4ecf-9123-6156d14edb24",
   "metadata": {},
   "outputs": [],
   "source": [
    "df = pd.read_json(json_files[0])\n",
    "maxCols = df.shape[1]\n",
    "\n",
    "for jf in json_files[1:]:\n",
    "    tmp = pd.read_json(jf)\n",
    "    if tmp.shape[1] > maxCols:\n",
    "        maxCols = tmp.shape[1]\n",
    "    \n",
    "    df = pd.concat([df, tmp], ignore_index=True)"
   ]
  },
  {
   "cell_type": "code",
   "execution_count": 4,
   "id": "37b833fa-5b0b-4ffc-a5a6-12d3f476b197",
   "metadata": {},
   "outputs": [
    {
     "data": {
      "text/plain": [
       "(10081, 180)"
      ]
     },
     "execution_count": 4,
     "metadata": {},
     "output_type": "execute_result"
    }
   ],
   "source": [
    "df.shape"
   ]
  },
  {
   "cell_type": "code",
   "execution_count": 5,
   "id": "44fd6e42-932b-46c9-b752-11cae72d6925",
   "metadata": {},
   "outputs": [
    {
     "data": {
      "text/plain": [
       "180"
      ]
     },
     "execution_count": 5,
     "metadata": {},
     "output_type": "execute_result"
    }
   ],
   "source": [
    "maxCols"
   ]
  },
  {
   "cell_type": "code",
   "execution_count": 6,
   "id": "36ed0f0c-2b28-4aad-a2f6-10aab734f746",
   "metadata": {},
   "outputs": [],
   "source": [
    "df.to_json('./lennar-data-06-2023.json')"
   ]
  },
  {
   "cell_type": "code",
   "execution_count": 7,
   "id": "e3f2333a-90fb-4ca6-949b-55711ab1cf17",
   "metadata": {},
   "outputs": [],
   "source": [
    "lennar = pd.read_json('./lennar-data-06-2023.json')"
   ]
  },
  {
   "cell_type": "code",
   "execution_count": 8,
   "id": "a5f6f8d5-6d81-4fd6-b9b5-c99a3ba0f4ff",
   "metadata": {},
   "outputs": [
    {
     "data": {
      "text/plain": [
       "(10081, 180)"
      ]
     },
     "execution_count": 8,
     "metadata": {},
     "output_type": "execute_result"
    }
   ],
   "source": [
    "lennar.shape"
   ]
  },
  {
   "cell_type": "code",
   "execution_count": 9,
   "id": "3d7509ef-bc02-4b4f-831c-eaef10241e6b",
   "metadata": {},
   "outputs": [
    {
     "data": {
      "text/html": [
       "<div>\n",
       "<style scoped>\n",
       "    .dataframe tbody tr th:only-of-type {\n",
       "        vertical-align: middle;\n",
       "    }\n",
       "\n",
       "    .dataframe tbody tr th {\n",
       "        vertical-align: top;\n",
       "    }\n",
       "\n",
       "    .dataframe thead th {\n",
       "        text-align: right;\n",
       "    }\n",
       "</style>\n",
       "<table border=\"1\" class=\"dataframe\">\n",
       "  <thead>\n",
       "    <tr style=\"text-align: right;\">\n",
       "      <th></th>\n",
       "      <th>Availability</th>\n",
       "      <th>Price</th>\n",
       "      <th>Beds</th>\n",
       "      <th>Baths</th>\n",
       "      <th>Sqft</th>\n",
       "      <th>Address</th>\n",
       "      <th>Community</th>\n",
       "      <th>URL</th>\n",
       "      <th>Data_Dump</th>\n",
       "      <th>feature_0</th>\n",
       "      <th>...</th>\n",
       "      <th>feature_161</th>\n",
       "      <th>feature_162</th>\n",
       "      <th>feature_163</th>\n",
       "      <th>feature_164</th>\n",
       "      <th>feature_165</th>\n",
       "      <th>feature_166</th>\n",
       "      <th>feature_167</th>\n",
       "      <th>feature_168</th>\n",
       "      <th>feature_169</th>\n",
       "      <th>feature_170</th>\n",
       "    </tr>\n",
       "  </thead>\n",
       "  <tbody>\n",
       "    <tr>\n",
       "      <th>0</th>\n",
       "      <td>Move-in ready</td>\n",
       "      <td>$347,815</td>\n",
       "      <td>3.0</td>\n",
       "      <td>3.5</td>\n",
       "      <td>1744.0</td>\n",
       "      <td>6235 Truxton Lane, Raleigh, NC</td>\n",
       "      <td>Manteo II in 5401 North</td>\n",
       "      <td>https://www.lennar.com/new-homes/north-carolin...</td>\n",
       "      <td>{'Kitchen': ['36\" cabinetry with crown molding...</td>\n",
       "      <td>36\" cabinetry with crown molding and nickel ha...</td>\n",
       "      <td>...</td>\n",
       "      <td>None</td>\n",
       "      <td>None</td>\n",
       "      <td>None</td>\n",
       "      <td>None</td>\n",
       "      <td>None</td>\n",
       "      <td>None</td>\n",
       "      <td>None</td>\n",
       "      <td>None</td>\n",
       "      <td>None</td>\n",
       "      <td>None</td>\n",
       "    </tr>\n",
       "    <tr>\n",
       "      <th>1</th>\n",
       "      <td>Move-in ready</td>\n",
       "      <td>$353,815</td>\n",
       "      <td>3.0</td>\n",
       "      <td>3.5</td>\n",
       "      <td>1733.0</td>\n",
       "      <td>6334 Perry Creek Road, Raleigh, NC</td>\n",
       "      <td>Manteo II in 5401 North</td>\n",
       "      <td>https://www.lennar.com/new-homes/north-carolin...</td>\n",
       "      <td>{'Kitchen': ['36\" cabinetry with crown molding...</td>\n",
       "      <td>36\" cabinetry with crown molding and nickel ha...</td>\n",
       "      <td>...</td>\n",
       "      <td>None</td>\n",
       "      <td>None</td>\n",
       "      <td>None</td>\n",
       "      <td>None</td>\n",
       "      <td>None</td>\n",
       "      <td>None</td>\n",
       "      <td>None</td>\n",
       "      <td>None</td>\n",
       "      <td>None</td>\n",
       "      <td>None</td>\n",
       "    </tr>\n",
       "    <tr>\n",
       "      <th>2</th>\n",
       "      <td>Move-in ready</td>\n",
       "      <td>$358,815</td>\n",
       "      <td>3.0</td>\n",
       "      <td>3.5</td>\n",
       "      <td>1733.0</td>\n",
       "      <td>6231 Truxton Lane, Raleigh, NC</td>\n",
       "      <td>Manteo II in 5401 North</td>\n",
       "      <td>https://www.lennar.com/new-homes/north-carolin...</td>\n",
       "      <td>{'Kitchen': ['36\" cabinetry with crown molding...</td>\n",
       "      <td>36\" cabinetry with crown molding and nickel ha...</td>\n",
       "      <td>...</td>\n",
       "      <td>None</td>\n",
       "      <td>None</td>\n",
       "      <td>None</td>\n",
       "      <td>None</td>\n",
       "      <td>None</td>\n",
       "      <td>None</td>\n",
       "      <td>None</td>\n",
       "      <td>None</td>\n",
       "      <td>None</td>\n",
       "      <td>None</td>\n",
       "    </tr>\n",
       "    <tr>\n",
       "      <th>3</th>\n",
       "      <td>Move-in ready</td>\n",
       "      <td>$347,815</td>\n",
       "      <td>3.0</td>\n",
       "      <td>3.5</td>\n",
       "      <td>1733.0</td>\n",
       "      <td>6233 Truxton Lane, Raleigh, NC</td>\n",
       "      <td>Manteo II in 5401 North</td>\n",
       "      <td>https://www.lennar.com/new-homes/north-carolin...</td>\n",
       "      <td>{'Kitchen': ['36\" cabinetry with crown molding...</td>\n",
       "      <td>36\" cabinetry with crown molding and nickel ha...</td>\n",
       "      <td>...</td>\n",
       "      <td>None</td>\n",
       "      <td>None</td>\n",
       "      <td>None</td>\n",
       "      <td>None</td>\n",
       "      <td>None</td>\n",
       "      <td>None</td>\n",
       "      <td>None</td>\n",
       "      <td>None</td>\n",
       "      <td>None</td>\n",
       "      <td>None</td>\n",
       "    </tr>\n",
       "    <tr>\n",
       "      <th>4</th>\n",
       "      <td>Move-in ready</td>\n",
       "      <td>$384,875</td>\n",
       "      <td>3.0</td>\n",
       "      <td>2.5</td>\n",
       "      <td>1924.0</td>\n",
       "      <td>5845 Humanity Lane, Raleigh, NC</td>\n",
       "      <td>Coleman in 5401 North</td>\n",
       "      <td>https://www.lennar.com/new-homes/north-carolin...</td>\n",
       "      <td>{'Kitchen': ['36\" cabinetry with crown molding...</td>\n",
       "      <td>36\" cabinetry with crown molding and nickel ha...</td>\n",
       "      <td>...</td>\n",
       "      <td>None</td>\n",
       "      <td>None</td>\n",
       "      <td>None</td>\n",
       "      <td>None</td>\n",
       "      <td>None</td>\n",
       "      <td>None</td>\n",
       "      <td>None</td>\n",
       "      <td>None</td>\n",
       "      <td>None</td>\n",
       "      <td>None</td>\n",
       "    </tr>\n",
       "  </tbody>\n",
       "</table>\n",
       "<p>5 rows × 180 columns</p>\n",
       "</div>"
      ],
      "text/plain": [
       "    Availability     Price  Beds  Baths    Sqft  \\\n",
       "0  Move-in ready  $347,815   3.0    3.5  1744.0   \n",
       "1  Move-in ready  $353,815   3.0    3.5  1733.0   \n",
       "2  Move-in ready  $358,815   3.0    3.5  1733.0   \n",
       "3  Move-in ready  $347,815   3.0    3.5  1733.0   \n",
       "4  Move-in ready  $384,875   3.0    2.5  1924.0   \n",
       "\n",
       "                              Address                Community  \\\n",
       "0      6235 Truxton Lane, Raleigh, NC  Manteo II in 5401 North   \n",
       "1  6334 Perry Creek Road, Raleigh, NC  Manteo II in 5401 North   \n",
       "2      6231 Truxton Lane, Raleigh, NC  Manteo II in 5401 North   \n",
       "3      6233 Truxton Lane, Raleigh, NC  Manteo II in 5401 North   \n",
       "4     5845 Humanity Lane, Raleigh, NC    Coleman in 5401 North   \n",
       "\n",
       "                                                 URL  \\\n",
       "0  https://www.lennar.com/new-homes/north-carolin...   \n",
       "1  https://www.lennar.com/new-homes/north-carolin...   \n",
       "2  https://www.lennar.com/new-homes/north-carolin...   \n",
       "3  https://www.lennar.com/new-homes/north-carolin...   \n",
       "4  https://www.lennar.com/new-homes/north-carolin...   \n",
       "\n",
       "                                           Data_Dump  \\\n",
       "0  {'Kitchen': ['36\" cabinetry with crown molding...   \n",
       "1  {'Kitchen': ['36\" cabinetry with crown molding...   \n",
       "2  {'Kitchen': ['36\" cabinetry with crown molding...   \n",
       "3  {'Kitchen': ['36\" cabinetry with crown molding...   \n",
       "4  {'Kitchen': ['36\" cabinetry with crown molding...   \n",
       "\n",
       "                                           feature_0  ... feature_161  \\\n",
       "0  36\" cabinetry with crown molding and nickel ha...  ...        None   \n",
       "1  36\" cabinetry with crown molding and nickel ha...  ...        None   \n",
       "2  36\" cabinetry with crown molding and nickel ha...  ...        None   \n",
       "3  36\" cabinetry with crown molding and nickel ha...  ...        None   \n",
       "4  36\" cabinetry with crown molding and nickel ha...  ...        None   \n",
       "\n",
       "  feature_162 feature_163 feature_164 feature_165 feature_166 feature_167  \\\n",
       "0        None        None        None        None        None        None   \n",
       "1        None        None        None        None        None        None   \n",
       "2        None        None        None        None        None        None   \n",
       "3        None        None        None        None        None        None   \n",
       "4        None        None        None        None        None        None   \n",
       "\n",
       "  feature_168 feature_169 feature_170  \n",
       "0        None        None        None  \n",
       "1        None        None        None  \n",
       "2        None        None        None  \n",
       "3        None        None        None  \n",
       "4        None        None        None  \n",
       "\n",
       "[5 rows x 180 columns]"
      ]
     },
     "execution_count": 9,
     "metadata": {},
     "output_type": "execute_result"
    }
   ],
   "source": [
    "lennar.head()"
   ]
  },
  {
   "cell_type": "code",
   "execution_count": null,
   "id": "b5a09723-555b-4ea0-9ac0-abff98b8bfd1",
   "metadata": {},
   "outputs": [],
   "source": []
  }
 ],
 "metadata": {
  "kernelspec": {
   "display_name": "Python 3 (ipykernel)",
   "language": "python",
   "name": "python3"
  },
  "language_info": {
   "codemirror_mode": {
    "name": "ipython",
    "version": 3
   },
   "file_extension": ".py",
   "mimetype": "text/x-python",
   "name": "python",
   "nbconvert_exporter": "python",
   "pygments_lexer": "ipython3",
   "version": "3.9.13"
  }
 },
 "nbformat": 4,
 "nbformat_minor": 5
}
