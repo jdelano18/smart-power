{
 "cells": [
  {
   "cell_type": "code",
   "execution_count": 1,
   "id": "24c1890f-8dfb-4057-991c-ac68c586c48d",
   "metadata": {},
   "outputs": [],
   "source": [
    "### availibility count"
   ]
  },
  {
   "cell_type": "code",
   "execution_count": 2,
   "id": "d0c65d37-a7e1-4069-8665-2c3c348c63e7",
   "metadata": {},
   "outputs": [],
   "source": [
    "import pandas as pd\n",
    "import os\n",
    "import numpy as np\n",
    "import string"
   ]
  },
  {
   "cell_type": "code",
   "execution_count": 21,
   "id": "6208bbaf-394f-4e6e-b8be-452fbdbcdce1",
   "metadata": {},
   "outputs": [],
   "source": [
    "def search_homes(filename):\n",
    "    \"\"\"\n",
    "    Method that searches through the Data_dump dict structure\n",
    "    \n",
    "    Returns:\n",
    "        vals: dict where keys include keyword and values are counts\n",
    "        home_count: # of unique homes where the keyword is present\n",
    "    \"\"\"\n",
    "    lennar = pd.read_json(filename)\n",
    "    clean = lennar.drop_duplicates(subset=['Availability', 'Price', 'Beds', 'Baths', 'Sqft', 'Address', 'Community', 'URL'],\n",
    "                    keep='first',\n",
    "                    ignore_index=True)\n",
    "    \n",
    "    \n",
    "    return clean.groupby('Availability').size().to_dict()"
   ]
  },
  {
   "cell_type": "code",
   "execution_count": 22,
   "id": "249367b8-74dd-4244-947b-6a55feae4536",
   "metadata": {},
   "outputs": [],
   "source": [
    "t = search_homes('./data-06-2023/north-carolina/raleigh-final.json')"
   ]
  },
  {
   "cell_type": "code",
   "execution_count": 23,
   "id": "984270d8-6fc3-49e0-ad64-e7a2b9a501a0",
   "metadata": {},
   "outputs": [
    {
     "data": {
      "text/plain": [
       "{'Coming soon': 36,\n",
       " 'Future release': 86,\n",
       " 'Move-in ready': 10,\n",
       " 'Under construction': 45}"
      ]
     },
     "execution_count": 23,
     "metadata": {},
     "output_type": "execute_result"
    }
   ],
   "source": [
    "t"
   ]
  },
  {
   "cell_type": "code",
   "execution_count": null,
   "id": "2fb6b660-f6f2-44ab-9380-6836194e1033",
   "metadata": {},
   "outputs": [],
   "source": []
  },
  {
   "cell_type": "code",
   "execution_count": 35,
   "id": "578b51c2-e814-4c5b-b53a-1c5beac53650",
   "metadata": {},
   "outputs": [],
   "source": [
    "def market_analysis(date):\n",
    "    json_files = []\n",
    "    path = f'./data-{date}/'\n",
    "    for root, dirs, files in os.walk(path):\n",
    "        for name in files:\n",
    "            if name.endswith('.json'):\n",
    "                json_files.append(root+'/'+name)\n",
    "    \n",
    "    cols = ['Coming soon', 'Future release', 'Move-in ready', 'Under construction']\n",
    "    df = pd.DataFrame([], columns = ['county', 'state']+cols)\n",
    "    for jf in json_files:\n",
    "        tmp = pd.read_json(jf)\n",
    "        state = jf.split('/')[2]\n",
    "        county = jf.split('/')[3].split('-final')[0]\n",
    "        d = search_homes(jf)\n",
    "\n",
    "        for c in cols:\n",
    "            if c not in d:\n",
    "                d[c] = 0\n",
    "        \n",
    "        if '.ipynb_checkpoints' in county:\n",
    "            continue\n",
    "        \n",
    "        df.loc[len(df)] = [county, state, d['Coming soon'], d['Future release'], \n",
    "                          d['Move-in ready'], d['Under construction']]\n",
    "    \n",
    "    return df"
   ]
  },
  {
   "cell_type": "code",
   "execution_count": 37,
   "id": "23961f15-1740-4fe5-b497-3c7055da3ba1",
   "metadata": {},
   "outputs": [],
   "source": [
    "df = market_analysis('06-2023')"
   ]
  },
  {
   "cell_type": "code",
   "execution_count": 38,
   "id": "7ec40332-7700-4eda-874f-3b5806f12196",
   "metadata": {},
   "outputs": [
    {
     "data": {
      "text/html": [
       "<div>\n",
       "<style scoped>\n",
       "    .dataframe tbody tr th:only-of-type {\n",
       "        vertical-align: middle;\n",
       "    }\n",
       "\n",
       "    .dataframe tbody tr th {\n",
       "        vertical-align: top;\n",
       "    }\n",
       "\n",
       "    .dataframe thead th {\n",
       "        text-align: right;\n",
       "    }\n",
       "</style>\n",
       "<table border=\"1\" class=\"dataframe\">\n",
       "  <thead>\n",
       "    <tr style=\"text-align: right;\">\n",
       "      <th></th>\n",
       "      <th>county</th>\n",
       "      <th>state</th>\n",
       "      <th>Coming soon</th>\n",
       "      <th>Future release</th>\n",
       "      <th>Move-in ready</th>\n",
       "      <th>Under construction</th>\n",
       "    </tr>\n",
       "  </thead>\n",
       "  <tbody>\n",
       "    <tr>\n",
       "      <th>0</th>\n",
       "      <td>raleigh</td>\n",
       "      <td>north-carolina</td>\n",
       "      <td>36</td>\n",
       "      <td>86</td>\n",
       "      <td>10</td>\n",
       "      <td>45</td>\n",
       "    </tr>\n",
       "    <tr>\n",
       "      <th>1</th>\n",
       "      <td>wilmington</td>\n",
       "      <td>north-carolina</td>\n",
       "      <td>1</td>\n",
       "      <td>40</td>\n",
       "      <td>39</td>\n",
       "      <td>30</td>\n",
       "    </tr>\n",
       "    <tr>\n",
       "      <th>2</th>\n",
       "      <td>charlotte</td>\n",
       "      <td>north-carolina</td>\n",
       "      <td>1</td>\n",
       "      <td>97</td>\n",
       "      <td>59</td>\n",
       "      <td>85</td>\n",
       "    </tr>\n",
       "    <tr>\n",
       "      <th>3</th>\n",
       "      <td>greensboro</td>\n",
       "      <td>north-carolina</td>\n",
       "      <td>0</td>\n",
       "      <td>0</td>\n",
       "      <td>3</td>\n",
       "      <td>0</td>\n",
       "    </tr>\n",
       "    <tr>\n",
       "      <th>4</th>\n",
       "      <td>chicago</td>\n",
       "      <td>illinois</td>\n",
       "      <td>17</td>\n",
       "      <td>58</td>\n",
       "      <td>17</td>\n",
       "      <td>93</td>\n",
       "    </tr>\n",
       "    <tr>\n",
       "      <th>...</th>\n",
       "      <td>...</td>\n",
       "      <td>...</td>\n",
       "      <td>...</td>\n",
       "      <td>...</td>\n",
       "      <td>...</td>\n",
       "      <td>...</td>\n",
       "    </tr>\n",
       "    <tr>\n",
       "      <th>65</th>\n",
       "      <td>san-francisco-metro-area</td>\n",
       "      <td>california</td>\n",
       "      <td>0</td>\n",
       "      <td>5</td>\n",
       "      <td>7</td>\n",
       "      <td>0</td>\n",
       "    </tr>\n",
       "    <tr>\n",
       "      <th>66</th>\n",
       "      <td>san-francisco-bay-area</td>\n",
       "      <td>california</td>\n",
       "      <td>0</td>\n",
       "      <td>106</td>\n",
       "      <td>31</td>\n",
       "      <td>19</td>\n",
       "    </tr>\n",
       "    <tr>\n",
       "      <th>67</th>\n",
       "      <td>la-orange-county</td>\n",
       "      <td>california</td>\n",
       "      <td>0</td>\n",
       "      <td>155</td>\n",
       "      <td>18</td>\n",
       "      <td>48</td>\n",
       "    </tr>\n",
       "    <tr>\n",
       "      <th>68</th>\n",
       "      <td></td>\n",
       "      <td>california</td>\n",
       "      <td>0</td>\n",
       "      <td>155</td>\n",
       "      <td>18</td>\n",
       "      <td>48</td>\n",
       "    </tr>\n",
       "    <tr>\n",
       "      <th>69</th>\n",
       "      <td>palm-springs-coachella</td>\n",
       "      <td>california</td>\n",
       "      <td>0</td>\n",
       "      <td>22</td>\n",
       "      <td>0</td>\n",
       "      <td>15</td>\n",
       "    </tr>\n",
       "  </tbody>\n",
       "</table>\n",
       "<p>70 rows × 6 columns</p>\n",
       "</div>"
      ],
      "text/plain": [
       "                      county           state  Coming soon  Future release  \\\n",
       "0                    raleigh  north-carolina           36              86   \n",
       "1                 wilmington  north-carolina            1              40   \n",
       "2                  charlotte  north-carolina            1              97   \n",
       "3                 greensboro  north-carolina            0               0   \n",
       "4                    chicago        illinois           17              58   \n",
       "..                       ...             ...          ...             ...   \n",
       "65  san-francisco-metro-area      california            0               5   \n",
       "66    san-francisco-bay-area      california            0             106   \n",
       "67          la-orange-county      california            0             155   \n",
       "68                                california            0             155   \n",
       "69    palm-springs-coachella      california            0              22   \n",
       "\n",
       "    Move-in ready  Under construction  \n",
       "0              10                  45  \n",
       "1              39                  30  \n",
       "2              59                  85  \n",
       "3               3                   0  \n",
       "4              17                  93  \n",
       "..            ...                 ...  \n",
       "65              7                   0  \n",
       "66             31                  19  \n",
       "67             18                  48  \n",
       "68             18                  48  \n",
       "69              0                  15  \n",
       "\n",
       "[70 rows x 6 columns]"
      ]
     },
     "execution_count": 38,
     "metadata": {},
     "output_type": "execute_result"
    }
   ],
   "source": [
    "df"
   ]
  },
  {
   "cell_type": "code",
   "execution_count": 44,
   "id": "1207bf89-5250-4577-91de-699d5e2b3e93",
   "metadata": {},
   "outputs": [],
   "source": [
    "df.to_csv('./analysis/availability-by-county.csv', index=False)"
   ]
  },
  {
   "cell_type": "code",
   "execution_count": 45,
   "id": "c1ba2092-4548-4a2e-8f58-68d9e5e3bc12",
   "metadata": {},
   "outputs": [],
   "source": [
    "df2 = df.groupby('state').sum()"
   ]
  },
  {
   "cell_type": "code",
   "execution_count": 46,
   "id": "10c94a8a-095e-40ab-8d1e-c88ad483e04d",
   "metadata": {},
   "outputs": [],
   "source": [
    "df2.to_csv('./analysis/availability-by-state.csv')"
   ]
  },
  {
   "cell_type": "code",
   "execution_count": null,
   "id": "9f1aa72a-3071-4cf3-819d-1fa55757bfde",
   "metadata": {},
   "outputs": [],
   "source": []
  }
 ],
 "metadata": {
  "kernelspec": {
   "display_name": "Python 3 (ipykernel)",
   "language": "python",
   "name": "python3"
  },
  "language_info": {
   "codemirror_mode": {
    "name": "ipython",
    "version": 3
   },
   "file_extension": ".py",
   "mimetype": "text/x-python",
   "name": "python",
   "nbconvert_exporter": "python",
   "pygments_lexer": "ipython3",
   "version": "3.9.13"
  }
 },
 "nbformat": 4,
 "nbformat_minor": 5
}
