{
 "cells": [
  {
   "cell_type": "markdown",
   "id": "eb80323a-5f17-423f-9b7a-2e3cc2bcf714",
   "metadata": {},
   "source": [
    "#### Trick-or-treat.ipynb: going house to house in each neighborhood"
   ]
  },
  {
   "cell_type": "code",
   "execution_count": 1,
   "id": "9fc13750-d93a-42d4-8bc4-225f02fd5abd",
   "metadata": {},
   "outputs": [],
   "source": [
    "import pandas as pd\n",
    "import os\n",
    "from lxml import html\n",
    "import requests"
   ]
  },
  {
   "cell_type": "code",
   "execution_count": 30,
   "id": "96039f17-4077-4658-87f7-9f89f90cc96c",
   "metadata": {},
   "outputs": [],
   "source": [
    "df = pd.read_csv('./data/texas/austin-central-texas.csv')"
   ]
  },
  {
   "cell_type": "code",
   "execution_count": 31,
   "id": "275d5528-e784-4c15-a9a3-54138424788a",
   "metadata": {},
   "outputs": [
    {
     "data": {
      "text/plain": [
       "(232, 8)"
      ]
     },
     "execution_count": 31,
     "metadata": {},
     "output_type": "execute_result"
    }
   ],
   "source": [
    "df.shape"
   ]
  },
  {
   "cell_type": "code",
   "execution_count": 59,
   "id": "967fcdcb-e53a-4ff9-9e15-ce0a33ddb2b9",
   "metadata": {},
   "outputs": [],
   "source": [
    "from tools2 import *"
   ]
  },
  {
   "cell_type": "code",
   "execution_count": 60,
   "id": "9c88542d-26ed-4706-a562-c3257be644b0",
   "metadata": {},
   "outputs": [],
   "source": [
    "csv_files = []\n",
    "path = './data/'\n",
    "for root, dirs, files in os.walk(path):\n",
    "    for name in files:\n",
    "        if name.endswith('.csv'):\n",
    "            csv_files.append(root+'/'+name)"
   ]
  },
  {
   "cell_type": "code",
   "execution_count": 66,
   "id": "c936a781-59c6-467f-91cb-319e80b27a55",
   "metadata": {},
   "outputs": [
    {
     "data": {
      "text/plain": [
       "['./data/north-carolina/charlotte.csv']"
      ]
     },
     "execution_count": 66,
     "metadata": {},
     "output_type": "execute_result"
    }
   ],
   "source": [
    "csv_files[:1]"
   ]
  },
  {
   "cell_type": "code",
   "execution_count": 67,
   "id": "10320cd5-6cad-47c9-b334-5cc5f00cf40a",
   "metadata": {},
   "outputs": [],
   "source": [
    "## main loop\n",
    "\n",
    "for f in csv_files[:1]:\n",
    "    df = pd.read_csv(f)\n",
    "    for u in df['URL']:\n",
    "        newURL = cleanURL(u)\n",
    "        # print(newURL)\n"
   ]
  },
  {
   "cell_type": "code",
   "execution_count": null,
   "id": "9ded341f-05b5-44b4-b253-59b47b3850a8",
   "metadata": {},
   "outputs": [],
   "source": []
  },
  {
   "cell_type": "code",
   "execution_count": 56,
   "id": "c056c321-f257-40e5-a98d-93f6e889bd21",
   "metadata": {},
   "outputs": [],
   "source": [
    "mylist = []\n",
    "mylist.append(df['URL'][1])\n",
    "mylist.append(df['URL'][230])"
   ]
  },
  {
   "cell_type": "code",
   "execution_count": 69,
   "id": "6ecb60be-27e6-4afc-98a0-744f62dedee0",
   "metadata": {},
   "outputs": [
    {
     "name": "stdout",
     "output_type": "stream",
     "text": [
      "https://www.lennar.com/new-homes/texas/austin-central-texas/georgetown/wolf-ranch/claremont-collection/ames/included?print=true\n",
      "https://www.lennar.com/new-homes/texas/austin-central-texas/san-marcos/whisper/highlands-collections/pierson/included?print=true\n"
     ]
    }
   ],
   "source": [
    "for url in mylist:\n",
    "    newURL = cleanURL(url)\n",
    "    print(newURL)"
   ]
  },
  {
   "cell_type": "code",
   "execution_count": 128,
   "id": "ecc6c1ea-e9e0-4a13-93f6-ffe052e0683f",
   "metadata": {},
   "outputs": [
    {
     "name": "stdout",
     "output_type": "stream",
     "text": [
      "{'Living Room': ['Dual pane low-E windows with designer blinds'], 'Kitchen': ['Brand-new stainless steel appliance package', 'GE® stainless steel multicycle dishwasher', 'GE® stainless steel slide-in gas range', 'GE® stainless steel microwave', 'Stainless steel undermount sink', 'Moen® faucet', 'Quartz countertops', '3\"x6\" tile backsplash', 'Designer-selected cabinetry'], 'Owners Suite': ['Moen® chrome faucets', 'Solid surface countertops', 'Shower and bathtub combination with tile surround', 'Moen® bath fixtures and faucets'], 'Secondary Bathroom': ['Tile flooring in full-sized bathrooms on 2nd Floor (Per Plan)', 'Solid surface countertops', 'Moen® bath fixtures and faucets'], 'Interior': ['Shaw® luxury vinyl plank flooring', 'Plus wall-to-wall carpeting in designated areas', 'Tile floors in designated areas'], 'Exterior': ['Insulated fiberglass six-panel front door', 'Full sod and irrigation', 'PEX plumbing system', 'Insulated garage doors', 'Sherwin-Williams® exterior paint', 'Fence in rear yard for privacy', 'Professionally-landscaped front yard'], 'Connectivity': ['eero Pro 6 – mesh wifi system', 'Ring Alarm Security Kit – Base Station', 'Ring Alarm Security Kit – Ring Alarm Keypad', 'Ring Alarm Security Kit – Ring Alarm Motion Detector', 'Ring Alarm Security Kit – Ring Alarm Smoke and CO Listener', 'Ring Alarm Security Kit – Ring Alarm Door Contact Sensor', 'Ring Video Doorbell Pro', 'LiftMaster® myQ® Smart Garage Control', 'Honeywell Home T6 Pro Z-Wave - smart thermostat', 'Schlage Encode - Front Door Smart Lock', 'Flo by Moen™ Smart Water Shutoff – water leak detector and smart water valve'], 'Energy Efficiency': ['16-SEER air-conditioning system', '50 AMP electrical vehicle charging station prewire', 'Low-E windows', 'R-38 insulation in flat ceilings', 'R-22 insulation in sloped ceilings', 'PEX plumbing system']}\n"
     ]
    }
   ],
   "source": [
    "### key:\n",
    "### val: //*[@id=\"main\"]/div/div/div/div[4]/div[2] -- each line\n",
    "\n",
    "try:\n",
    "    page = requests.get(newURL)\n",
    "    tree = html.fromstring(page.content)  \n",
    "    index = 3\n",
    "    keep_scraping = True\n",
    "    d = dict()\n",
    "    \n",
    "    while keep_scraping:\n",
    "        try:\n",
    "            key = tree.xpath(f'//*[@id=\"main\"]/div/div/div/div[{index}]/div[1]/text()')[0]\n",
    "            val = tree.xpath(f'//*[@id=\"main\"]/div/div/div/div[{index}]/div[2]/*/text()')\n",
    "        \n",
    "            index += 1\n",
    "            d[key] = val\n",
    "        except IndexError:\n",
    "            del d[key] # remove the last key we looked at which is the extra info at bottom of page\n",
    "            print(d)\n",
    "            keep_scraping = False\n",
    "\n",
    "except: \n",
    "    print(\"Something is wrong with connecting to the webpage -- maybe with URL\")"
   ]
  },
  {
   "cell_type": "code",
   "execution_count": 131,
   "id": "5fc64553-438e-4c07-a395-694dea81df31",
   "metadata": {},
   "outputs": [
    {
     "data": {
      "text/plain": [
       "{'Living Room': ['Dual pane low-E windows with designer blinds'],\n",
       " 'Kitchen': ['Brand-new stainless steel appliance package',\n",
       "  'GE® stainless steel multicycle dishwasher',\n",
       "  'GE® stainless steel slide-in gas range',\n",
       "  'GE® stainless steel microwave',\n",
       "  'Stainless steel undermount sink',\n",
       "  'Moen® faucet',\n",
       "  'Quartz countertops',\n",
       "  '3\"x6\" tile backsplash',\n",
       "  'Designer-selected cabinetry'],\n",
       " 'Owners Suite': ['Moen® chrome faucets',\n",
       "  'Solid surface countertops',\n",
       "  'Shower and bathtub combination with tile surround',\n",
       "  'Moen® bath fixtures and faucets'],\n",
       " 'Secondary Bathroom': ['Tile flooring in full-sized bathrooms on 2nd Floor (Per Plan)',\n",
       "  'Solid surface countertops',\n",
       "  'Moen® bath fixtures and faucets'],\n",
       " 'Interior': ['Shaw® luxury vinyl plank flooring',\n",
       "  'Plus wall-to-wall carpeting in designated areas',\n",
       "  'Tile floors in designated areas'],\n",
       " 'Exterior': ['Insulated fiberglass six-panel front door',\n",
       "  'Full sod and irrigation',\n",
       "  'PEX plumbing system',\n",
       "  'Insulated garage doors',\n",
       "  'Sherwin-Williams® exterior paint',\n",
       "  'Fence in rear yard for privacy',\n",
       "  'Professionally-landscaped front yard'],\n",
       " 'Connectivity': ['eero Pro 6 – mesh wifi system',\n",
       "  'Ring Alarm Security Kit – Base Station',\n",
       "  'Ring Alarm Security Kit – Ring Alarm Keypad',\n",
       "  'Ring Alarm Security Kit – Ring Alarm Motion Detector',\n",
       "  'Ring Alarm Security Kit – Ring Alarm Smoke and CO Listener',\n",
       "  'Ring Alarm Security Kit – Ring Alarm Door Contact Sensor',\n",
       "  'Ring Video Doorbell Pro',\n",
       "  'LiftMaster® myQ® Smart Garage Control',\n",
       "  'Honeywell Home T6 Pro Z-Wave - smart thermostat',\n",
       "  'Schlage Encode - Front Door Smart Lock',\n",
       "  'Flo by Moen™ Smart Water Shutoff – water leak detector and smart water valve'],\n",
       " 'Energy Efficiency': ['16-SEER air-conditioning system',\n",
       "  '50 AMP electrical vehicle charging station prewire',\n",
       "  'Low-E windows',\n",
       "  'R-38 insulation in flat ceilings',\n",
       "  'R-22 insulation in sloped ceilings',\n",
       "  'PEX plumbing system']}"
      ]
     },
     "execution_count": 131,
     "metadata": {},
     "output_type": "execute_result"
    }
   ],
   "source": [
    "d"
   ]
  },
  {
   "cell_type": "code",
   "execution_count": null,
   "id": "e9e8e098-89a7-483b-b160-29026511880d",
   "metadata": {},
   "outputs": [],
   "source": []
  }
 ],
 "metadata": {
  "kernelspec": {
   "display_name": "Python 3 (ipykernel)",
   "language": "python",
   "name": "python3"
  },
  "language_info": {
   "codemirror_mode": {
    "name": "ipython",
    "version": 3
   },
   "file_extension": ".py",
   "mimetype": "text/x-python",
   "name": "python",
   "nbconvert_exporter": "python",
   "pygments_lexer": "ipython3",
   "version": "3.9.13"
  }
 },
 "nbformat": 4,
 "nbformat_minor": 5
}
