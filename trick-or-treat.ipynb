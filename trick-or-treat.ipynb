{
 "cells": [
  {
   "cell_type": "markdown",
   "id": "eb80323a-5f17-423f-9b7a-2e3cc2bcf714",
   "metadata": {},
   "source": [
    "#### Trick-or-treat.ipynb: going house to house in each neighborhood"
   ]
  },
  {
   "cell_type": "code",
   "execution_count": 2,
   "id": "9fc13750-d93a-42d4-8bc4-225f02fd5abd",
   "metadata": {},
   "outputs": [],
   "source": [
    "import pandas as pd\n",
    "import os\n",
    "from lxml import html\n",
    "import requests\n",
    "import time"
   ]
  },
  {
   "cell_type": "code",
   "execution_count": 3,
   "id": "96039f17-4077-4658-87f7-9f89f90cc96c",
   "metadata": {},
   "outputs": [],
   "source": [
    "df = pd.read_csv('./data-06-2023/texas/austin-central-texas.csv')"
   ]
  },
  {
   "cell_type": "code",
   "execution_count": 4,
   "id": "275d5528-e784-4c15-a9a3-54138424788a",
   "metadata": {},
   "outputs": [
    {
     "data": {
      "text/plain": [
       "(556, 8)"
      ]
     },
     "execution_count": 4,
     "metadata": {},
     "output_type": "execute_result"
    }
   ],
   "source": [
    "df.shape"
   ]
  },
  {
   "cell_type": "code",
   "execution_count": 5,
   "id": "967fcdcb-e53a-4ff9-9e15-ce0a33ddb2b9",
   "metadata": {},
   "outputs": [],
   "source": [
    "def cleanURL(url):\n",
    "    \"\"\"\n",
    "    Takes lennar url as in all the csv files and returns the updated version ready to scrape\n",
    "    returns: String (url)\n",
    "    \"\"\"\n",
    "    \n",
    "    ## get rid of code if the last part of url starts with a digit\n",
    "    if url.split('/')[-1][0].isdigit():\n",
    "        tmp = url.split('/')[:-1]\n",
    "        url = '/'.join(tmp)\n",
    "    \n",
    "    final_url = url + '/included?print=true'\n",
    "    return final_url"
   ]
  },
  {
   "cell_type": "code",
   "execution_count": 8,
   "id": "9c88542d-26ed-4706-a562-c3257be644b0",
   "metadata": {},
   "outputs": [],
   "source": [
    "csv_files = []\n",
    "path = './data-06-2023/'\n",
    "for root, dirs, files in os.walk(path):\n",
    "    for name in files:\n",
    "        if name.endswith('.csv'):\n",
    "            csv_files.append(root+'/'+name)"
   ]
  },
  {
   "cell_type": "code",
   "execution_count": 20,
   "id": "c936a781-59c6-467f-91cb-319e80b27a55",
   "metadata": {},
   "outputs": [
    {
     "data": {
      "text/plain": [
       "['./data-06-2023/california/palm-springs-coachella.csv',\n",
       " './data-06-2023/california/san-francisco-metro-area.csv',\n",
       " './data-06-2023/california/.ipynb_checkpoints/palm-springs-coachella-checkpoint.csv',\n",
       " './data-06-2023/california/.ipynb_checkpoints/la-orange-county-checkpoint.csv']"
      ]
     },
     "execution_count": 20,
     "metadata": {},
     "output_type": "execute_result"
    }
   ],
   "source": [
    "csv_files[67:]"
   ]
  },
  {
   "cell_type": "code",
   "execution_count": 21,
   "id": "10320cd5-6cad-47c9-b334-5cc5f00cf40a",
   "metadata": {},
   "outputs": [
    {
     "name": "stdout",
     "output_type": "stream",
     "text": [
      "./data-06-2023/california/palm-springs-coachella.csv\n",
      "37\n",
      "....................................../data-06-2023/california/san-francisco-metro-area.csv\n",
      "12\n",
      "............./data-06-2023/california/.ipynb_checkpoints/palm-springs-coachella-checkpoint.csv\n",
      "37\n",
      "....................................../data-06-2023/california/.ipynb_checkpoints/la-orange-county-checkpoint.csv\n",
      "221\n",
      "............................................................................................................................................................................................................................."
     ]
    }
   ],
   "source": [
    "## main loop\n",
    "for f in csv_files[67:]:\n",
    "    df = pd.read_csv(f)\n",
    "    target = df.shape[0]\n",
    "    print(f)\n",
    "    print(target)\n",
    "    \n",
    "    data_dump = [] # list which will be one column in the new df\n",
    "    new_rows = [] # list of lists representing rows for each home of different length with each attribute\n",
    "    \n",
    "    for u in df['URL']:\n",
    "        newURL = cleanURL(u)\n",
    "        time.sleep(0.05)\n",
    "        print('.', end='')\n",
    "        \n",
    "        try:\n",
    "            # print(newURL)\n",
    "            page = requests.get(newURL)\n",
    "            tree = html.fromstring(page.content)  \n",
    "            index = 3\n",
    "            keep_scraping = True\n",
    "            d = dict()\n",
    "            \n",
    "            ## if page isnt found and it's redirected, continue\n",
    "            if page.status_code == 200 and 'redirectNotice=true' in page.url:\n",
    "                data_dump.append(d)\n",
    "                new_rows.append([])\n",
    "                continue\n",
    "                \n",
    "            ## or it's not found\n",
    "            if page.status_code == 200 and 'included' not in page.url:\n",
    "                data_dump.append(d)\n",
    "                new_rows.append([])\n",
    "                continue\n",
    "            \n",
    "            else:\n",
    "                while keep_scraping:\n",
    "                    try:\n",
    "                        key = tree.xpath(f'//*[@id=\"main\"]/div/div/div/div[{index}]/div[1]/text()')[0]\n",
    "                        val = tree.xpath(f'//*[@id=\"main\"]/div/div/div/div[{index}]/div[2]/*/text()')\n",
    "\n",
    "                        index += 1\n",
    "                        d[key] = val\n",
    "                    except IndexError:\n",
    "                        del d[key] # remove the last key we looked at which is the extra info at bottom of page\n",
    "                        # print(d)\n",
    "                        keep_scraping = False\n",
    "\n",
    "                data_dump.append(d)\n",
    "                new_rows.append([item for sublist in d.values() for item in sublist])\n",
    "                \n",
    "        except: \n",
    "            print(\"Something is wrong with connecting to the webpage -- maybe with URL\")\n",
    "            break\n",
    "    \n",
    "    assert target == len(data_dump) and target == len(new_rows)\n",
    "    \n",
    "    ## add collected dataframe back\n",
    "    df['Data_Dump'] = data_dump\n",
    "    tmp = pd.DataFrame(new_rows)\n",
    "    tmp.fillna(\"\",inplace=True)\n",
    "    tmp = tmp.add_prefix('feature_')\n",
    "    \n",
    "    ## combine\n",
    "    final = pd.concat([df, tmp], axis=1)\n",
    "    \n",
    "    ## resave\n",
    "    path = '.'+f.split('.')[1]+'-final.json'\n",
    "    final.to_json(path)"
   ]
  },
  {
   "cell_type": "code",
   "execution_count": 86,
   "id": "32dd2e93-6dea-4cfc-b64e-cf5522bc343a",
   "metadata": {},
   "outputs": [],
   "source": [
    "# final.to_json('./data/north-carolina/charlotte-finalvan.json')"
   ]
  },
  {
   "cell_type": "code",
   "execution_count": 87,
   "id": "8d5eedbe-9e66-41ca-9375-94d143840fdc",
   "metadata": {},
   "outputs": [],
   "source": [
    "# pd.read_json('./data/north-carolina/charlotte-final.json')"
   ]
  },
  {
   "cell_type": "code",
   "execution_count": 106,
   "id": "092a9b22-764d-4c78-a177-9f0a62d778fb",
   "metadata": {},
   "outputs": [
    {
     "data": {
      "text/plain": [
       "['Wifi heat mapping (engineering)',\n",
       " 'Legrand On-Q 42 inch RF Transparent Structured Media&reg; Enclosure',\n",
       " 'Ring Alarm Security Kit &ndash; Base Station**',\n",
       " 'Ring Alarm Security Kit &ndash; Ring Alarm Keypad*',\n",
       " 'Ring Alarm Security Kit &ndash; Ring Alarm Motion Detector**',\n",
       " 'Ring Alarm Security Kit &ndash; Ring Alarm Smoke and CO Listener**',\n",
       " 'Ring Alarm Security Kit &ndash; Ring Alarm Window and Door Contact Sensor**',\n",
       " 'Ring Video Doorbell Pro',\n",
       " 'Honeywell Home T6 Pro Z-Wave - smart thermostat',\n",
       " 'Schlage Encode Smart WiFi Deadbolt']"
      ]
     },
     "execution_count": 106,
     "metadata": {},
     "output_type": "execute_result"
    }
   ],
   "source": [
    "data_dump[44]['Connectivity']"
   ]
  },
  {
   "cell_type": "code",
   "execution_count": null,
   "id": "75543145-57c1-48c8-b2dc-ce0cdd6a2d96",
   "metadata": {},
   "outputs": [],
   "source": []
  }
 ],
 "metadata": {
  "kernelspec": {
   "display_name": "Python 3 (ipykernel)",
   "language": "python",
   "name": "python3"
  },
  "language_info": {
   "codemirror_mode": {
    "name": "ipython",
    "version": 3
   },
   "file_extension": ".py",
   "mimetype": "text/x-python",
   "name": "python",
   "nbconvert_exporter": "python",
   "pygments_lexer": "ipython3",
   "version": "3.9.13"
  }
 },
 "nbformat": 4,
 "nbformat_minor": 5
}
